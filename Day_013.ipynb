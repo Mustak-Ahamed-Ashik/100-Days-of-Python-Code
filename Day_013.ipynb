{
  "nbformat": 4,
  "nbformat_minor": 0,
  "metadata": {
    "colab": {
      "name": "Day-013.ipynb",
      "provenance": [],
      "authorship_tag": "ABX9TyOibf85k5+KSzmqSp87BJv+",
      "include_colab_link": true
    },
    "kernelspec": {
      "name": "python3",
      "display_name": "Python 3"
    },
    "language_info": {
      "name": "python"
    }
  },
  "cells": [
    {
      "cell_type": "markdown",
      "metadata": {
        "id": "view-in-github",
        "colab_type": "text"
      },
      "source": [
        "<a href=\"https://colab.research.google.com/github/Mustak-Ahamed-Ashik/100-days-of-Python-Code/blob/main/Day_013.ipynb\" target=\"_parent\"><img src=\"https://colab.research.google.com/assets/colab-badge.svg\" alt=\"Open In Colab\"/></a>"
      ]
    },
    {
      "cell_type": "markdown",
      "metadata": {
        "id": "JT5dxyMpbTAP"
      },
      "source": [
        "# Debugging: How to Find and Fix Errors in your Code\n",
        "\n"
      ]
    },
    {
      "cell_type": "code",
      "metadata": {
        "id": "So3OojlrbFS4"
      },
      "source": [
        "############DEBUGGING#####################\n",
        "\n",
        "# # Describe Problem\n",
        "# def my_function():\n",
        "#   for i in range(1, 20):\n",
        "#     if i == 20:\n",
        "#       print(\"You got it\")\n",
        "# my_function()\n",
        "\n",
        "# # Reproduce the Bug\n",
        "# from random import randint\n",
        "# dice_imgs = [\"❶\", \"❷\", \"❸\", \"❹\", \"❺\", \"❻\"]\n",
        "# dice_num = randint(1, 6)\n",
        "# print(dice_imgs[dice_num])\n",
        "\n",
        "# # Play Computer\n",
        "# year = int(input(\"What's your year of birth?\"))\n",
        "# if year > 1980 and year < 1994:\n",
        "#   print(\"You are a millenial.\")\n",
        "# elif year > 1994:\n",
        "#   print(\"You are a Gen Z.\")\n",
        "\n",
        "# # Fix the Errors\n",
        "# age = input(\"How old are you?\")\n",
        "# if age > 18:\n",
        "# print(\"You can drive at age {age}.\")\n",
        "\n",
        "# #Print is Your Friend\n",
        "# pages = 0\n",
        "# word_per_page = 0\n",
        "# pages = int(input(\"Number of pages: \"))\n",
        "# word_per_page == int(input(\"Number of words per page: \"))\n",
        "# total_words = pages * word_per_page\n",
        "# print(total_words)\n",
        "\n",
        "# #Use a Debugger\n",
        "# def mutate(a_list):\n",
        "#   b_list = []\n",
        "#   for item in a_list:\n",
        "#     new_item = item * 2\n",
        "#   b_list.append(new_item)\n",
        "#   print(b_list)\n",
        "\n",
        "# mutate([1,2,3,5,8,13])"
      ],
      "execution_count": 1,
      "outputs": []
    },
    {
      "cell_type": "code",
      "metadata": {
        "colab": {
          "base_uri": "https://localhost:8080/"
        },
        "id": "9G5-A9MOefaW",
        "outputId": "570128c2-2276-48bf-851c-80f8598ebaf4"
      },
      "source": [
        "############DEBUGGING#####################\n",
        "\n",
        "# Describe Problem\n",
        "def my_function():\n",
        "  for i in range(1, 21):\n",
        "    if i == 20:\n",
        "      print(\"You got it\")\n",
        "my_function()\n",
        "\n",
        "# Reproduce the Bug\n",
        "from random import randint\n",
        "dice_imgs = [\"❶\", \"❷\", \"❸\", \"❹\", \"❺\", \"❻\"]\n",
        "dice_num = randint(0, 5)\n",
        "print(dice_imgs[dice_num])\n",
        "\n",
        "# Play Computer\n",
        "year = int(input(\"What's your year of birth?\"))\n",
        "if year > 1980 and year < 1994:\n",
        "  print(\"You are a millenial.\")\n",
        "elif year >= 1994:\n",
        "  print(\"You are a Gen Z.\")\n",
        "\n",
        "# Fix the Errors\n",
        "age = int(input(\"How old are you?\"))\n",
        "if age > 18:\n",
        "  print(f\"You can drive at age {age}.\")\n",
        "\n",
        "#Print is Your Friend\n",
        "pages = 0\n",
        "word_per_page = 0\n",
        "pages = int(input(\"Number of pages: \"))\n",
        "word_per_page = int(input(\"Number of words per page: \"))\n",
        "total_words = pages * word_per_page\n",
        "print(total_words)\n",
        "\n",
        "#Use a Debugger\n",
        "def mutate(a_list):\n",
        "  b_list = []\n",
        "  for item in a_list:\n",
        "    new_item = item * 2\n",
        "    b_list.append(new_item)\n",
        "  print(b_list)\n",
        "\n",
        "mutate([1,2,3,5,8,13])"
      ],
      "execution_count": 4,
      "outputs": [
        {
          "output_type": "stream",
          "name": "stdout",
          "text": [
            "You got it\n",
            "❻\n",
            "What's your year of birth?1994\n",
            "You are a Gen Z.\n",
            "How old are you?12\n",
            "Number of pages: 34\n",
            "Number of words per page: 6\n",
            "204\n",
            "[2, 4, 6, 10, 16, 26]\n"
          ]
        }
      ]
    },
    {
      "cell_type": "code",
      "metadata": {
        "id": "n3VcIB0seiRU"
      },
      "source": [
        ""
      ],
      "execution_count": null,
      "outputs": []
    }
  ]
}