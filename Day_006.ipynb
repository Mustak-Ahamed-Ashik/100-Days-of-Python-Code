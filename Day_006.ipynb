{
  "nbformat": 4,
  "nbformat_minor": 0,
  "metadata": {
    "colab": {
      "name": "Day-006.ipynb",
      "provenance": [],
      "authorship_tag": "ABX9TyOc1YnEHPhAo4jDKJkmiu77",
      "include_colab_link": true
    },
    "kernelspec": {
      "name": "python3",
      "display_name": "Python 3"
    },
    "language_info": {
      "name": "python"
    }
  },
  "cells": [
    {
      "cell_type": "markdown",
      "metadata": {
        "id": "view-in-github",
        "colab_type": "text"
      },
      "source": [
        "<a href=\"https://colab.research.google.com/github/Mustak-Ahamed-Ashik/100-days-of-Python-Code/blob/main/Day_006.ipynb\" target=\"_parent\"><img src=\"https://colab.research.google.com/assets/colab-badge.svg\" alt=\"Open In Colab\"/></a>"
      ]
    },
    {
      "cell_type": "markdown",
      "metadata": {
        "id": "A_CsLy-f5pY4"
      },
      "source": [
        "# Python Functions and Karel"
      ]
    },
    {
      "cell_type": "markdown",
      "metadata": {
        "id": "-G99WT8g55FS"
      },
      "source": [
        "## Introduction"
      ]
    },
    {
      "cell_type": "code",
      "metadata": {
        "id": "ie2maprt4vBa",
        "colab": {
          "base_uri": "https://localhost:8080/"
        },
        "outputId": "703bae44-e7ec-402b-8061-d83ae47b4994"
      },
      "source": [
        "def myFunction():\n",
        "  print(\"Hello Ashik\")\n",
        "  print(\"Ki khobor tumar hummmmm\")\n",
        "myFunction()"
      ],
      "execution_count": null,
      "outputs": [
        {
          "output_type": "stream",
          "name": "stdout",
          "text": [
            "Hello Ashik\n",
            "Ki khobor tumar hummmmm\n"
          ]
        }
      ]
    },
    {
      "cell_type": "markdown",
      "metadata": {
        "id": "UR_QsPLJ6c83"
      },
      "source": [
        "https://reeborg.ca/reeborg.html?lang=en&mode=python&menu=worlds%2Fmenus%2Freeborg_intro_en.json&name=Alone&url=worlds%2Ftutorial_en%2Falone.json"
      ]
    },
    {
      "cell_type": "code",
      "metadata": {
        "id": "tH-4aJKZ6OaA"
      },
      "source": [
        "def turn_right():\n",
        "    turn_left()\n",
        "    turn_left()\n",
        "    turn_left()\n",
        "\n",
        "turn_left()\n",
        "move()\n",
        "turn_right()\n",
        "move()\n",
        "turn_right()\n",
        "move()\n",
        "turn_right()\n",
        "move()"
      ],
      "execution_count": null,
      "outputs": []
    },
    {
      "cell_type": "markdown",
      "metadata": {
        "id": "WcH2V_JU6rzX"
      },
      "source": [
        "https://reeborg.ca/reeborg.html?lang=en&mode=python&menu=worlds%2Fmenus%2Freeborg_intro_en.json&name=Hurdle%201&url=worlds%2Ftutorial_en%2Fhurdle1.json"
      ]
    },
    {
      "cell_type": "code",
      "metadata": {
        "id": "WygN9bYZ6h4k"
      },
      "source": [
        "def turn_right():\n",
        "    turn_left()\n",
        "    turn_left()\n",
        "    turn_left()\n",
        "def onestep():\n",
        "    move()\n",
        "    turn_left()\n",
        "    move()\n",
        "    turn_right()\n",
        "    move()\n",
        "    turn_right()\n",
        "    move()\n",
        "    turn_left()\n",
        "for i in range(6):\n",
        "    onestep()"
      ],
      "execution_count": null,
      "outputs": []
    },
    {
      "cell_type": "code",
      "metadata": {
        "colab": {
          "base_uri": "https://localhost:8080/"
        },
        "id": "TMKQHdJf6xMH",
        "outputId": "5bf8cff7-8ea1-4de3-e3cd-5a4f7b158e84"
      },
      "source": [
        "# Indentation Tricks\n",
        "def Myfunc():\n",
        "  print(\"Mustak Ahamed\")\n",
        "print(\"Ashik Ahmed\")\n",
        "Myfunc()"
      ],
      "execution_count": null,
      "outputs": [
        {
          "output_type": "stream",
          "name": "stdout",
          "text": [
            "Ashik Ahmed\n",
            "Mustak Ahamed\n"
          ]
        }
      ]
    },
    {
      "cell_type": "code",
      "metadata": {
        "colab": {
          "base_uri": "https://localhost:8080/",
          "height": 130
        },
        "id": "O4jnoB7j7dFM",
        "outputId": "9e590d01-30a1-4eff-fe6b-c1fed214260c"
      },
      "source": [
        "def funt():\n",
        "print(\"äshik\")"
      ],
      "execution_count": null,
      "outputs": [
        {
          "output_type": "error",
          "ename": "IndentationError",
          "evalue": "ignored",
          "traceback": [
            "\u001b[0;36m  File \u001b[0;32m\"<ipython-input-5-f5456efc8842>\"\u001b[0;36m, line \u001b[0;32m2\u001b[0m\n\u001b[0;31m    print(\"äshik\")\u001b[0m\n\u001b[0m        ^\u001b[0m\n\u001b[0;31mIndentationError\u001b[0m\u001b[0;31m:\u001b[0m expected an indented block\n"
          ]
        }
      ]
    },
    {
      "cell_type": "markdown",
      "metadata": {
        "id": "i3k8M9EBp1Up"
      },
      "source": [
        "https://reeborg.ca/reeborg.html?lang=en&mode=python&menu=worlds%2Fmenus%2Freeborg_intro_en.json&name=Maze&url=worlds%2Ftutorial_en%2Fmaze1.json"
      ]
    },
    {
      "cell_type": "code",
      "metadata": {
        "id": "mzNDj8tq87e3"
      },
      "source": [
        "def turn_right():\n",
        "    turn_left()\n",
        "    turn_left()\n",
        "    turn_left()\n",
        "\n",
        "while at_goal() !=True:\n",
        "    if right_is_clear() == True:\n",
        "        turn_right()\n",
        "        move()\n",
        "    elif right_is_clear() == True and front_is_clear() == True:\n",
        "        move()\n",
        "\n",
        "    elif front_is_clear() == True:\n",
        "        move()\n",
        "    else:\n",
        "        turn_left()"
      ],
      "execution_count": null,
      "outputs": []
    }
  ]
}