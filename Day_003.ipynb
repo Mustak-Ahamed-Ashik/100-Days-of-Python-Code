{
  "nbformat": 4,
  "nbformat_minor": 0,
  "metadata": {
    "colab": {
      "name": "Day-003.ipynb",
      "provenance": [],
      "collapsed_sections": [],
      "authorship_tag": "ABX9TyNBWIce0pObr1R6Ufgr+IRG",
      "include_colab_link": true
    },
    "kernelspec": {
      "name": "python3",
      "display_name": "Python 3"
    },
    "language_info": {
      "name": "python"
    }
  },
  "cells": [
    {
      "cell_type": "markdown",
      "metadata": {
        "id": "view-in-github",
        "colab_type": "text"
      },
      "source": [
        "<a href=\"https://colab.research.google.com/github/Mustak-Ahamed-Ashik/100-days-of-Python-Code/blob/main/Day_003.ipynb\" target=\"_parent\"><img src=\"https://colab.research.google.com/assets/colab-badge.svg\" alt=\"Open In Colab\"/></a>"
      ]
    },
    {
      "cell_type": "markdown",
      "metadata": {
        "id": "-WalLHP6NDWk"
      },
      "source": [
        "#Controll Flow and Logical Operators\n",
        "\n",
        "##Introduction"
      ]
    },
    {
      "cell_type": "code",
      "metadata": {
        "colab": {
          "base_uri": "https://localhost:8080/"
        },
        "id": "KoBOtBuSM-Ee",
        "outputId": "edd28895-1c37-4991-d687-6756e234b97a"
      },
      "source": [
        "print(\"Welcome to the rollercoaster!\")\n",
        "height = int(input(\"What is your height in cm? \"))\n",
        "if height >= 120:\n",
        "  print(\"You can ride rollercoaster\")\n",
        "else:\n",
        "  print(\"You have to grow up more\")"
      ],
      "execution_count": null,
      "outputs": [
        {
          "output_type": "stream",
          "name": "stdout",
          "text": [
            "Welcome to the rollercoaster!\n",
            "What is your height in cm? 89\n",
            "You have to grow up more\n"
          ]
        }
      ]
    },
    {
      "cell_type": "markdown",
      "metadata": {
        "id": "O7ZU5OetNtY5"
      },
      "source": [
        "#Challenge 1\n",
        "## Odd or Even\n",
        "\n",
        "###Instructions:\n",
        "\n",
        "Write a program that works out whether if a given number is an odd or even number. \n",
        "\n",
        "Even numbers can be divided by 2 with no remainder. \n",
        "\n",
        "e.g. 86 is **even** because 86 ÷ 2 = 43\n",
        "\n",
        "43 does not have any decimal places. Therefore the division is clean.\n",
        "\n",
        "e.g. 59 is **odd** because 59 ÷ 2 = 29.5\n",
        "\n",
        "29.5 is not a whole number, it has decimal places. Therefore there is a remainder of 0.5, so the division is not clean.\n",
        "\n",
        "The **modulo** is written as a percentage sign (%) in Python. It gives you the remainder after a division. \n",
        "\n",
        "e.g. \n",
        "\n",
        "6 ÷ 2 = 3 with no remainder. \n",
        "\n",
        "```\n",
        "6 % 2 = 0\n",
        "```\n",
        "\n",
        "5 ÷ 2 = 2 x **2** + 1, remainder is 1.\n",
        "\n",
        "```\n",
        "5 % 2 = 1\n",
        "```\n",
        "\n",
        "14 ÷ 4 = 3 x **4** + 2, remainder is 2.\n",
        "\n",
        "```\n",
        "14 % 4 = 2\n",
        "```\n",
        "\n",
        "**Warning** your output should match the Example Output format exactly, even the positions of the commas and full stops. \n",
        "\n",
        "###Example Input 1\n",
        "\n",
        "```\n",
        "43\n",
        "```\n",
        "\n",
        "###Example Output 1\n",
        "\n",
        "```\n",
        "This is an odd number.\n",
        "```\n",
        "\n",
        "###Example Input 2\n",
        "\n",
        "```\n",
        "94\n",
        "```\n",
        "\n",
        "###Example Output 2\n",
        "\n",
        "```\n",
        "This is an even number.\n",
        "```\n",
        "\n",
        "e.g. When you hit **run**, this is what should happen:   \n",
        "\n",
        "![](https://cdn.fs.teachablecdn.com/bkF9TKJSTGksvxNzOtba)\n",
        "\n",
        "##Hint\n",
        "\n",
        "1. All even numbers can be divided by 2 with 0 remainder.\n",
        "2. Try some using the modulo with some odd numbers e.g. \n",
        "\n",
        "```\n",
        "3 % 2\n",
        "```\n",
        "\n",
        "```\n",
        "5 % 2\n",
        "```\n",
        "\n",
        "```\n",
        "7 % 2\n",
        "```\n",
        "\n",
        "Then try using the modulo with some even numbers e.g.\n",
        "\n",
        "```\n",
        "4 % 2\n",
        "```\n",
        "\n",
        "```\n",
        "6 % 2\n",
        "```\n",
        "\n",
        "```\n",
        "8 % 2\n",
        "```\n",
        "\n",
        "See what's in common each time."
      ]
    },
    {
      "cell_type": "code",
      "metadata": {
        "colab": {
          "base_uri": "https://localhost:8080/"
        },
        "id": "yvEMC6EGNE3y",
        "outputId": "81764c91-abbd-477b-89fc-2ce9845e1cfd"
      },
      "source": [
        "# 🚨 Don't change the code below 👇\n",
        "number = int(input(\"Which number do you want to check? \"))\n",
        "# 🚨 Don't change the code above 👆\n",
        "\n",
        "#Write your code below this line 👇\n",
        "if (number % 2 == 0):\n",
        "  print(\"This is an even number.\")\n",
        "else:\n",
        "  print(\"This is an odd number.\")"
      ],
      "execution_count": null,
      "outputs": [
        {
          "output_type": "stream",
          "name": "stdout",
          "text": [
            "Which number do you want to check? 56\n",
            "This is an even number.\n"
          ]
        }
      ]
    },
    {
      "cell_type": "markdown",
      "metadata": {
        "id": "k-PUOQPtPvUt"
      },
      "source": [
        "##Nested if statements and elif statements"
      ]
    },
    {
      "cell_type": "code",
      "metadata": {
        "colab": {
          "base_uri": "https://localhost:8080/"
        },
        "id": "dC_1OtZ1O_Y6",
        "outputId": "fd492aec-3147-42a6-c2cf-de809411b2ed"
      },
      "source": [
        "height = int(input(\"Enter your height in cm: \"))\n",
        "age = int(input(\"Enter your age: \"))\n",
        "if height >= 120:\n",
        "  print(\"You can ride rollercoaster!\")\n",
        "  if age < 12:\n",
        "    print(\"Please pay $5.\")\n",
        "  elif age <=18:\n",
        "    print(\"Please pay $7.\")\n",
        "  else:\n",
        "    print(\"Please pay $12.\")\n",
        "else:\n",
        "  print(\"Sorry, You have to grow taller before ride.\")\n",
        "\n"
      ],
      "execution_count": null,
      "outputs": [
        {
          "output_type": "stream",
          "name": "stdout",
          "text": [
            "Enter your height in cm: 135\n",
            "Enter your age: 23\n",
            "You can ride rollercoaster!\n",
            "Please pay $12.\n"
          ]
        }
      ]
    },
    {
      "cell_type": "markdown",
      "metadata": {
        "id": "kV1RFl9os1vz"
      },
      "source": [
        "#Exercise\n",
        "## BMI Calculator 2.0\n",
        "\n",
        "# Instructions\n",
        "\n",
        "Write a program that interprets the Body Mass Index (BMI) based on a user's weight and height.\n",
        "\n",
        "It should tell them the interpretation of their BMI based on the BMI value.\n",
        "\n",
        "- Under 18.5 they are underweight\n",
        "- Over 18.5 but below 25 they have a normal weight\n",
        "- Over 25 but below 30 they are slightly overweight\n",
        "- Over 30 but below 35 they are obese\n",
        "- Above 35 they are clinically obese.\n",
        "\n",
        "![](https://cdn.fs.teachablecdn.com/qTOp8afxSkGfU5YGYf36)\n",
        "\n",
        "The BMI is calculated by dividing a person's weight (in kg) by the square of their height (in m):\n",
        "\n",
        "![](https://cdn.fs.teachablecdn.com/jKHjnLrNQjqzdz3MTMyv)\n",
        "\n",
        "**Warning** you should **round** the result to the nearest whole number. The interpretation message needs to include the words in bold from the interpretations above. e.g. **underweight, normal weight,  overweight, obese, clinically obese**. \n",
        "\n",
        "# Example Input\n",
        "\n",
        "```\n",
        "weight = 85\n",
        "```\n",
        "\n",
        "```\n",
        "height = 1.75\n",
        "```\n",
        "\n",
        "# Example Output\n",
        "\n",
        "85 ÷ (1.75 x 1.75) =  27.755102040816325\n",
        "\n",
        "```\n",
        "Your BMI is 28, you are slightly overweight.\n",
        "```\n",
        "\n",
        "e.g. When you hit **run**, this is what should happen:   \n",
        "\n",
        "![](https://cdn.fs.teachablecdn.com/mGRynIETXuVqoDk8unci)\n",
        "\n",
        "The testing code will check for print output that is formatted like one of the lines below:\n",
        "\n",
        "```\n",
        "\"Your BMI is 18, you are underweight.\"\n",
        "\"Your BMI is 22, you have a normal weight.\"\n",
        "\"Your BMI is 28, you are slightly overweight.\"\n",
        "\"Your BMI is 33, you are obese.\"\n",
        "\"Your BMI is 40, you are clinically obese.\"\n",
        "```\n",
        "\n",
        "Hint\n",
        "\n",
        "1. Try to use the **exponent** operator in your code.\n",
        "2. Remember to **round** your result to the nearest whole number. \n",
        "3. Make sure you include the words in **bold** from the interpretations. "
      ]
    },
    {
      "cell_type": "code",
      "metadata": {
        "id": "lsSZImqWSIbc",
        "colab": {
          "base_uri": "https://localhost:8080/"
        },
        "outputId": "9e154b65-0ea0-4c3d-e6fd-a00470b85309"
      },
      "source": [
        "# 🚨 Don't change the code below 👇\n",
        "height = float(input(\"enter your height in m: \"))\n",
        "weight = float(input(\"enter your weight in kg: \"))\n",
        "# 🚨 Don't change the code above 👆\n",
        "\n",
        "#Write your code below this line 👇\n",
        "bmi = int(weight / (height**2))\n",
        "if bmi < 18.5:\n",
        "  print(f\"Your BMI is {bmi}, you are underweight.\")\n",
        "elif bmi < 25:\n",
        "  print(f\"Your BMI is {bmi}, you have a normal weight.\")\n",
        "elif bmi < 30:\n",
        "  print(f\"Your BMI is {bmi}, you are slightly overweight.\")\n",
        "elif bmi < 35:\n",
        "  print(f\"Your BMI is {bmi}, you are obese.\")\n",
        "else:\n",
        "  print(f\"Your BMI is {bmi}, you are clinically obese.\")"
      ],
      "execution_count": null,
      "outputs": [
        {
          "output_type": "stream",
          "name": "stdout",
          "text": [
            "enter your height in m: 1.8\n",
            "enter your weight in kg: 89\n",
            "Your BMI is 27, you are slightly overweight.\n"
          ]
        }
      ]
    },
    {
      "cell_type": "markdown",
      "metadata": {
        "id": "9CZrCsk74nY4"
      },
      "source": [
        "#Coding Challenge\n",
        "## Leap Year\n",
        "\n",
        "## 💪This is a Difficult Challenge 💪\n",
        "\n",
        "## Instructions\n",
        "\n",
        "Write a program that works out whether if a given year is a leap year. A normal year has 365 days, leap years have 366, with an extra day in February.\n",
        "\n",
        "This is how you work out whether if a particular year is a leap year. \n",
        "\n",
        "> `on every year that is evenly divisible by 4\n",
        ">   **except** every year that is evenly divisible by 100\n",
        ">     **unless** the year is also evenly divisible by 400`\n",
        "\n",
        "e.g. The year 2000:\n",
        "\n",
        "2000 ÷ 4 = 500 (Leap)\n",
        "\n",
        "2000 ÷ 100 = 20 (Not Leap)\n",
        "\n",
        "2000 ÷ 400 = 5 (Leap!)\n",
        "\n",
        "So the year 2000 is a leap year.\n",
        "\n",
        "But the year 2100 is not a leap year because:\n",
        "\n",
        "2100 ÷  4 = 525 (Leap)\n",
        "\n",
        "2100 ÷ 100 = 21 (Not Leap)\n",
        "\n",
        "2100 ÷ 400 = 5.25 (Not Leap)\n",
        "\n",
        "**Warning** your output should match the Example Output format exactly, even the positions of the commas and full stops. \n",
        "\n",
        "### Example Input 1\n",
        "\n",
        "```\n",
        "2400\n",
        "```\n",
        "\n",
        "### Example Output 1\n",
        "\n",
        "```\n",
        "Leap year.\n",
        "```\n",
        "\n",
        "### Example Input 2\n",
        "\n",
        "```\n",
        "1989\n",
        "```\n",
        "\n",
        "### Example Output 2\n",
        "\n",
        "```\n",
        "Not leap year.\n",
        "```\n",
        "\n",
        "e.g. When you hit **run**, this is what should happen:  \n",
        "\n",
        " ![](https://cdn.fs.teachablecdn.com/AthNqKoSm6JD4sMom2X2)\n",
        "\n",
        "## Hint\n",
        "\n",
        "1. Try to visualise the rules by creating a flow chart on www.draw.io\n",
        "2. If you really get stuck, you can see the flow chart I created: \n",
        "\n",
        "https://bit.ly/36BjS2D"
      ]
    },
    {
      "cell_type": "code",
      "metadata": {
        "colab": {
          "base_uri": "https://localhost:8080/"
        },
        "id": "Tqw7-ad8vS7f",
        "outputId": "b09de14f-2132-4944-da8c-4c4a35d3be42"
      },
      "source": [
        "8# 🚨 Don't change the code below 👇\n",
        "year = int(input(\"Which year do you want to check? \"))\n",
        "# 🚨 Don't change the code above 👆\n",
        "\n",
        "#Write your code below this line 👇\n",
        "if year % 4 ==0:\n",
        "  if ((year % 100 != 0) or (year % 400 == 0)):\n",
        "    print(\"Leap year.\")\n",
        "  else:\n",
        "    print(\"Not leap year.\")\n",
        "else:\n",
        "  print(\"Not leap year.\")"
      ],
      "execution_count": null,
      "outputs": [
        {
          "output_type": "stream",
          "name": "stdout",
          "text": [
            "Which year do you want to check? 2000\n",
            "Leap year.\n"
          ]
        }
      ]
    },
    {
      "cell_type": "markdown",
      "metadata": {
        "id": "UW8aDpOh8kN6"
      },
      "source": [
        "#Multiple if statements"
      ]
    },
    {
      "cell_type": "code",
      "metadata": {
        "colab": {
          "base_uri": "https://localhost:8080/"
        },
        "id": "Qn1UnY8q8i69",
        "outputId": "4775d6b7-6171-4364-d8bf-f31531c22838"
      },
      "source": [
        "print(\"Welcome to the rollercoaster!\")\n",
        "height = int(input(\"What is your height in cm? \"))\n",
        "bill = 0\n",
        "\n",
        "if height >= 120:\n",
        "  print(\"You can ride the rollercoaster!\")\n",
        "  age = int(input(\"What is your age? \"))\n",
        "  if age < 12:\n",
        "    bill = 5\n",
        "    print(\"Child tickets are $5.\")\n",
        "  elif age <= 18:\n",
        "    bill = 7\n",
        "    print(\"Youth tickets are $7.\")\n",
        "  elif age >= 45 and age <= 55:\n",
        "    print(\"Everything is going to be ok. Have a free ride on us!\")\n",
        "  else:\n",
        "    bill = 12\n",
        "    print(\"Adult tickets are $12.\")\n",
        "  \n",
        "  wants_photo = input(\"Do you want a photo taken? Y or N. \")\n",
        "  if wants_photo == \"Y\":\n",
        "    bill += 3\n",
        "  \n",
        "  print(f\"Your final bill is ${bill}\")\n",
        "\n",
        "else:\n",
        "  print(\"Sorry, you have to grow taller before you can ride.\")\n"
      ],
      "execution_count": null,
      "outputs": [
        {
          "output_type": "stream",
          "name": "stdout",
          "text": [
            "Welcome to the rollercoaster!\n",
            "What is your height in cm? 160\n",
            "You can ride the rollercoaster!\n",
            "What is your age? 24\n",
            "Adult tickets are $12.\n",
            "Do you want a photo taken? Y or N. Y\n",
            "Your final bill is $15\n"
          ]
        }
      ]
    },
    {
      "cell_type": "markdown",
      "metadata": {
        "id": "iLA_OkeyHGHe"
      },
      "source": [
        "#Challenge 2\n",
        "## Pizza Order\n",
        "\n",
        "## Instructions\n",
        "\n",
        "Congratulations, you've got a job at Python Pizza. Your first job is to build an automatic pizza order program. \n",
        "\n",
        "Based on a user's order, work out their final bill. \n",
        "\n",
        "```\n",
        "Small Pizza: $15\n",
        "```\n",
        "\n",
        "```\n",
        "Medium Pizza: $20\n",
        "```\n",
        "\n",
        "```\n",
        "Large Pizza: $25\n",
        "```\n",
        "\n",
        "```\n",
        "Pepperoni for Small Pizza: +$2\n",
        "```\n",
        "\n",
        "```\n",
        "Pepperoni for Medium or Large Pizza: +$3\n",
        "```\n",
        "\n",
        "```\n",
        "Extra cheese for any size pizza: + $1\n",
        "```\n",
        "\n",
        "### Example Input\n",
        "\n",
        "```\n",
        "size = \"L\"\n",
        "```\n",
        "\n",
        "```\n",
        "add_pepperoni = \"Y\"\n",
        "```\n",
        "\n",
        "```\n",
        "extra_cheese = \"N\"\n",
        "```\n",
        "\n",
        "### Example Output\n",
        "\n",
        "```\n",
        "Your final bill is: $28.\n",
        "```\n",
        "\n",
        "e.g. When you hit **run**, this is what should happen:  \n",
        "\n",
        " \n",
        "![](https://cdn.fs.teachablecdn.com/p1evEkwQxGNR4WlolIb4)\n",
        "  \n",
        "\n",
        "## Hint\n",
        "\n",
        "1. Think about what you've learnt about multiple if statements and see if you can reduce the number of lines of code while having the same functionality."
      ]
    },
    {
      "cell_type": "code",
      "metadata": {
        "colab": {
          "base_uri": "https://localhost:8080/"
        },
        "id": "g6d14FGv5v1p",
        "outputId": "68a037f0-10af-4b48-8070-d6302f1ff560"
      },
      "source": [
        "# 🚨 Don't change the code below 👇\n",
        "print(\"Welcome to Python Pizza Deliveries!\")\n",
        "size = input(\"What size pizza do you want? S, M, or L \")\n",
        "add_pepperoni = input(\"Do you want pepperoni? Y or N \")\n",
        "extra_cheese = input(\"Do you want extra cheese? Y or N \")\n",
        "# 🚨 Don't change the code above 👆\n",
        "\n",
        "#Write your code below this line 👇\n",
        "bill = 0\n",
        "if size=='S':\n",
        "  bill += 15\n",
        "  if add_pepperoni == 'Y':\n",
        "    bill += 2\n",
        "elif size =='M':\n",
        "  bill +=20\n",
        "  if add_pepperoni == 'Y':\n",
        "    bill += 3\n",
        "else:\n",
        "  bill +=25\n",
        "  if add_pepperoni == 'Y':\n",
        "    bill += 3\n",
        "if extra_cheese == 'Y':\n",
        "  bill +=1\n",
        "print(f\"Your final bill is: ${bill}.\")\n"
      ],
      "execution_count": null,
      "outputs": [
        {
          "output_type": "stream",
          "name": "stdout",
          "text": [
            "Welcome to Python Pizza Deliveries!\n",
            "What size pizza do you want? S, M, or L M\n",
            "Do you want pepperoni? Y or N Y\n",
            "Do you want extra cheese? Y or N Y\n",
            "Your final bill is: $24.\n"
          ]
        }
      ]
    },
    {
      "cell_type": "markdown",
      "metadata": {
        "id": "dScuj0dnJndb"
      },
      "source": [
        "# Logical Operators"
      ]
    },
    {
      "cell_type": "code",
      "metadata": {
        "colab": {
          "base_uri": "https://localhost:8080/"
        },
        "id": "7k7BidlVI5kv",
        "outputId": "2fb06f11-cb2b-4c06-fc81-2f28d77857ba"
      },
      "source": [
        "ashik = 34\n",
        "print(ashik>40)"
      ],
      "execution_count": null,
      "outputs": [
        {
          "output_type": "stream",
          "name": "stdout",
          "text": [
            "False\n"
          ]
        }
      ]
    },
    {
      "cell_type": "code",
      "metadata": {
        "colab": {
          "base_uri": "https://localhost:8080/"
        },
        "id": "hFHX_njPKR6M",
        "outputId": "aa7e9116-0934-42eb-cec6-8fddf0cc4141"
      },
      "source": [
        "print(ashik > 30 and ashik < 40)"
      ],
      "execution_count": null,
      "outputs": [
        {
          "output_type": "stream",
          "name": "stdout",
          "text": [
            "True\n"
          ]
        }
      ]
    },
    {
      "cell_type": "markdown",
      "metadata": {
        "id": "0E59LpxbLwsv"
      },
      "source": [
        "#Challenge 2\n",
        "## Love Calculator\n",
        "\n",
        "# 💪 This is a Difficult Challenge 💪\n",
        "\n",
        "# Instructions\n",
        "\n",
        "You are going to write a program that tests the compatibility between two people.  \n",
        "\n",
        "To work out the love score between two people:\n",
        "\n",
        "> Take both people's names and check for the number of times the letters in the word TRUE occurs. Then check for the number of times the letters in the word LOVE occurs. Then combine these numbers to make a 2 digit number. \n",
        "\n",
        "\n",
        "For Love Scores **less than 10** or **greater than 90**, the message should be:\n",
        "\n",
        "`\"Your score is **x**, you go together like coke and mentos.\"` \n",
        "\n",
        "For Love Scores **between 40** and **50**, the message should be:\n",
        "\n",
        "`\"Your score is **y**, you are alright together.\"`\n",
        "\n",
        "Otherwise, the message will just be their score. e.g.:\n",
        "\n",
        "`\"Your score is **z**.\"`\n",
        "\n",
        "e.g. \n",
        "\n",
        "`name1 = \"Angela Yu\"`\n",
        "\n",
        "`name2 = \"Jack Bauer\"`\n",
        "\n",
        "T occurs 0 times\n",
        "\n",
        "R occurs 1 time\n",
        "\n",
        "U occurs 2 times\n",
        "\n",
        "E occurs 2 times\n",
        "\n",
        "Total = 5\n",
        "\n",
        "L occurs 1 time\n",
        "\n",
        "O occurs 0 times\n",
        "\n",
        "V occurs 0 times\n",
        "\n",
        "E occurs 2 times\n",
        "\n",
        "Total = 3\n",
        "\n",
        "Love Score = 53\n",
        "\n",
        "Print: \"Your score is 53.\"\n",
        "\n",
        "# Example Input 1\n",
        "\n",
        "```\n",
        "name1 = \"Kanye West\"\n",
        "```\n",
        "\n",
        "```\n",
        "name2 = \"Kim Kardashian\"\n",
        "```\n",
        "\n",
        "# Example Output 1\n",
        "\n",
        "```\n",
        "Your score is 42, you are alright together.\n",
        "```\n",
        "\n",
        "# Example Input 2\n",
        "\n",
        "```\n",
        "name1 = \"Brad Pitt\"\n",
        "```\n",
        "\n",
        "```\n",
        "name2 = \"Jennifer Aniston\"\n",
        "```\n",
        "\n",
        "# Example Output 2\n",
        "\n",
        "```\n",
        "Your score is 73.\n",
        "```\n",
        "\n",
        "e.g. When you hit **run**, this is what should happen:  \n",
        "\n",
        "![](https://cdn.fs.teachablecdn.com/nfSILIPSNaIOwWhPR5vr)\n",
        "\n",
        "The testing code will check for print output that is formatted like one of the lines below:\n",
        "```\n",
        "\"Your score is 47, you are alright together.\"\n",
        "\"Your score is 125, you go together like coke and mentos.\"\n",
        "\"Your score is 54.\"\n",
        "```\n",
        "\n",
        "# Hint\n",
        "\n",
        "1. The `lower()` function changes all the letters in a string to lower case. \n",
        "\n",
        "[https://stackoverflow.com/questions/6797984/how-do-i-lowercase-a-string-in-python](https://stackoverflow.com/questions/6797984/how-do-i-lowercase-a-string-in-python)\n",
        "\n",
        "2. The `count()` function will give you the number of times a letter occurs in a string. \n",
        "\n",
        "[https://stackoverflow.com/questions/1155617/count-the-number-occurrences-of-a-character-in-a-string](https://stackoverflow.com/questions/1155617/count-the-number-occurrences-of-a-character-in-a-string)"
      ]
    },
    {
      "cell_type": "code",
      "metadata": {
        "colab": {
          "base_uri": "https://localhost:8080/"
        },
        "id": "waXasEMAKYAc",
        "outputId": "cfab2622-84c7-4df9-aba8-9f724fd54cc1"
      },
      "source": [
        "# 🚨 Don't change the code below 👇\n",
        "print(\"Welcome to the Love Calculator!\")\n",
        "name1 = input(\"What is your name? \\n\")\n",
        "name2 = input(\"What is their name? \\n\")\n",
        "# 🚨 Don't change the code above 👆\n",
        "\n",
        "#Write your code below this line 👇\n",
        "name = name1.lower() + name2.lower()\n",
        "total1 = 0\n",
        "total2 = 0\n",
        "total1 += name.count('t')\n",
        "total1 += name.count('r')\n",
        "total1 += name.count('u')\n",
        "total1 += name.count('e')\n",
        "total2 += name.count('l')\n",
        "total2 += name.count('o')\n",
        "total2 += name.count('v')\n",
        "total2 += name.count('e')\n",
        "total = int(str(total1)+str(total2))\n",
        "if ((total <10) and (total >90)):\n",
        "  print(f\"Your score is {total}, you go together like coke and mentos.\")\n",
        "elif ((total >=40) and (total <=50)):\n",
        "  print(f\"Your score is {total}, you are alright together.\")\n",
        "else:\n",
        "  print(f\"Your score is {total}.\")"
      ],
      "execution_count": null,
      "outputs": [
        {
          "output_type": "stream",
          "name": "stdout",
          "text": [
            "Welcome to the Love Calculator!\n",
            "What is your name? \n",
            "Al Imran\n",
            "What is their name? \n",
            "Bangla Department\n",
            "Your score is 64.\n"
          ]
        }
      ]
    },
    {
      "cell_type": "markdown",
      "metadata": {
        "id": "651vi_NEVJkd"
      },
      "source": [
        "#Project\n",
        "![image.png](data:image/png;base64,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)"
      ]
    },
    {
      "cell_type": "code",
      "metadata": {
        "colab": {
          "base_uri": "https://localhost:8080/"
        },
        "id": "QhF1CC89LzY8",
        "outputId": "58d36664-bc1a-4ae2-fd82-bf008a1c3cb1"
      },
      "source": [
        "print('''\n",
        "*******************************************************************************\n",
        "          |                   |                  |                     |\n",
        " _________|________________.=\"\"_;=.______________|_____________________|_______\n",
        "|                   |  ,-\"_,=\"\"     `\"=.|                  |\n",
        "|___________________|__\"=._o`\"-._        `\"=.______________|___________________\n",
        "          |                `\"=._o`\"=._      _`\"=._                     |\n",
        " _________|_____________________:=._o \"=._.\"_.-=\"'\"=.__________________|_______\n",
        "|                   |    __.--\" , ; `\"=._o.\" ,-\"\"\"-._ \".   |\n",
        "|___________________|_._\"  ,. .` ` `` ,  `\"-._\"-._   \". '__|___________________\n",
        "          |           |o`\"=._` , \"` `; .\". ,  \"-._\"-._; ;              |\n",
        " _________|___________| ;`-.o`\"=._; .\" ` '`.\"\\` . \"-._ /_______________|_______\n",
        "|                   | |o;    `\"-.o`\"=._``  '` \" ,__.--o;   |\n",
        "|___________________|_| ;     (#) `-.o `\"=.`_.--\"_o.-; ;___|___________________\n",
        "____/______/______/___|o;._    \"      `\".o|o_.--\"    ;o;____/______/______/____\n",
        "/______/______/______/_\"=._o--._        ; | ;        ; ;/______/______/______/_\n",
        "____/______/______/______/__\"=._o--._   ;o|o;     _._;o;____/______/______/____\n",
        "/______/______/______/______/____\"=._o._; | ;_.--\"o.--\"_/______/______/______/_\n",
        "____/______/______/______/______/_____\"=.o|o_.--\"\"___/______/______/______/____\n",
        "/______/______/______/______/______/______/______/______/______/______/_____ /\n",
        "*******************************************************************************\n",
        "''')\n",
        "print(\"Welcome to Treasure Island.\")\n",
        "print(\"Your mission is to find the treasure.\")\n",
        "step_1 = input(\"Left or Right \").lower()\n",
        "if step_1 == 'left':\n",
        "  step_2 = input(\"Swim or Wait \").lower()\n",
        "  if step_2 == 'wait':\n",
        "    step_3 = input(\"Which door? Blue, Red or Yellow \").lower()\n",
        "    if step_3 == 'blue':\n",
        "      print(\"Eaten By beasts.\")\n",
        "      print(\"Game Over.\")\n",
        "    elif step_3 == \"red\":\n",
        "      print(\"Burned by fire.\")\n",
        "      print(\"Game Over.\")\n",
        "    elif step_3 == 'yellow':\n",
        "      print(\"You Win.\")\n",
        "    else:\n",
        "      print(\"Game Over.\")\n",
        "  else:\n",
        "    print(\"Attacked by trout.\")\n",
        "    print(\"Game Over.\")\n",
        "else:\n",
        "  print(\"Fall into a hole.\")\n",
        "  print(\"Game over.\")"
      ],
      "execution_count": null,
      "outputs": [
        {
          "output_type": "stream",
          "name": "stdout",
          "text": [
            "\n",
            "*******************************************************************************\n",
            "          |                   |                  |                     |\n",
            " _________|________________.=\"\"_;=.______________|_____________________|_______\n",
            "|                   |  ,-\"_,=\"\"     `\"=.|                  |\n",
            "|___________________|__\"=._o`\"-._        `\"=.______________|___________________\n",
            "          |                `\"=._o`\"=._      _`\"=._                     |\n",
            " _________|_____________________:=._o \"=._.\"_.-=\"'\"=.__________________|_______\n",
            "|                   |    __.--\" , ; `\"=._o.\" ,-\"\"\"-._ \".   |\n",
            "|___________________|_._\"  ,. .` ` `` ,  `\"-._\"-._   \". '__|___________________\n",
            "          |           |o`\"=._` , \"` `; .\". ,  \"-._\"-._; ;              |\n",
            " _________|___________| ;`-.o`\"=._; .\" ` '`.\"\\` . \"-._ /_______________|_______\n",
            "|                   | |o;    `\"-.o`\"=._``  '` \" ,__.--o;   |\n",
            "|___________________|_| ;     (#) `-.o `\"=.`_.--\"_o.-; ;___|___________________\n",
            "____/______/______/___|o;._    \"      `\".o|o_.--\"    ;o;____/______/______/____\n",
            "/______/______/______/_\"=._o--._        ; | ;        ; ;/______/______/______/_\n",
            "____/______/______/______/__\"=._o--._   ;o|o;     _._;o;____/______/______/____\n",
            "/______/______/______/______/____\"=._o._; | ;_.--\"o.--\"_/______/______/______/_\n",
            "____/______/______/______/______/_____\"=.o|o_.--\"\"___/______/______/______/____\n",
            "/______/______/______/______/______/______/______/______/______/______/_____ /\n",
            "*******************************************************************************\n",
            "\n",
            "Welcome to Treasure Island.\n",
            "Your mission is to find the treasure.\n",
            "Left or Right Left\n",
            "Swim or Wait Wait\n",
            "Which door? Blue, Red or Yellow Red\n",
            "Burned by fire.\n",
            "Game Over.\n"
          ]
        }
      ]
    },
    {
      "cell_type": "code",
      "metadata": {
        "id": "_76rR89HVaCQ"
      },
      "source": [
        ""
      ],
      "execution_count": null,
      "outputs": []
    }
  ]
}