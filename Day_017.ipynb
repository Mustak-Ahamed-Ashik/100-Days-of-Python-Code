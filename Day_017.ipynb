{
  "nbformat": 4,
  "nbformat_minor": 0,
  "metadata": {
    "colab": {
      "name": "Day-017.ipynb",
      "provenance": [],
      "authorship_tag": "ABX9TyPM8TlxXZZYdELgbnutjFwa",
      "include_colab_link": true
    },
    "kernelspec": {
      "name": "python3",
      "display_name": "Python 3"
    },
    "language_info": {
      "name": "python"
    }
  },
  "cells": [
    {
      "cell_type": "markdown",
      "metadata": {
        "id": "view-in-github",
        "colab_type": "text"
      },
      "source": [
        "<a href=\"https://colab.research.google.com/github/Mustak-Ahamed-Ashik/100-days-of-Python-Code/blob/main/Day_017.ipynb\" target=\"_parent\"><img src=\"https://colab.research.google.com/assets/colab-badge.svg\" alt=\"Open In Colab\"/></a>"
      ]
    },
    {
      "cell_type": "markdown",
      "source": [
        "#Intermediate - The Quiz Project & the Benefits of OOP"
      ],
      "metadata": {
        "id": "qTDvXVr6qNZP"
      }
    },
    {
      "cell_type": "markdown",
      "source": [
        "#Quiz project"
      ],
      "metadata": {
        "id": "ZZf53RXpqOJ4"
      }
    },
    {
      "cell_type": "markdown",
      "source": [
        "##main.py\n",
        "from question_model import Question\n",
        "\n",
        "from data import question_data\n",
        "\n",
        "from quiz_brain import QuizBrain\n",
        "\n",
        "question_bank = []\n",
        "\n",
        "for question in question_data:\n",
        "    \n",
        "    question_text = question[\"question\"]\n",
        "    \n",
        "    question_answer = question[\"correct_answer\"]\n",
        "    \n",
        "    new_question = Question(question_text, question_answer)\n",
        "    \n",
        "    question_bank.append(new_question)\n",
        "\n",
        "quiz = QuizBrain(question_bank)\n",
        "\n",
        "while quiz.still_has_questions():\n",
        "    \n",
        "    quiz.next_question()\n",
        "\n",
        "print(\"You've completed the quiz\")\n",
        "\n",
        "print(f\"Your final score was: {quiz.score}/{quiz.question_number}\")"
      ],
      "metadata": {
        "id": "R4pSdcWwkg8G"
      }
    },
    {
      "cell_type": "markdown",
      "source": [
        "###data.py"
      ],
      "metadata": {
        "id": "lJWbuqGCrjqF"
      }
    },
    {
      "cell_type": "code",
      "execution_count": 1,
      "metadata": {
        "id": "koyScouZkE2b"
      },
      "outputs": [],
      "source": [
        "question_data = [\n",
        "    {\n",
        "        \"category\": \"Science: Computers\",\n",
        "        \"type\": \"boolean\",\n",
        "        \"difficulty\": \"medium\",\n",
        "        \"question\": \"The HTML5 standard was published in 2014.\",\n",
        "        \"correct_answer\": \"True\",\n",
        "        \"incorrect_answers\": [\n",
        "            \"False\"\n",
        "        ]\n",
        "    },\n",
        "    {\n",
        "        \"category\": \"Science: Computers\",\n",
        "        \"type\": \"boolean\",\n",
        "        \"difficulty\": \"medium\",\n",
        "        \"question\": \"The first computer bug was formed by faulty wires.\",\n",
        "        \"correct_answer\": \"False\",\n",
        "        \"incorrect_answers\": [\n",
        "            \"True\"\n",
        "        ]\n",
        "    },\n",
        "    {\n",
        "        \"category\": \"Science: Computers\",\n",
        "        \"type\": \"boolean\",\n",
        "        \"difficulty\": \"medium\",\n",
        "        \"question\": \"FLAC stands for 'Free Lossless Audio Condenser'.\",\n",
        "        \"correct_answer\": \"False\",\n",
        "        \"incorrect_answers\": [\n",
        "            \"True\"\n",
        "        ]\n",
        "    },\n",
        "    {\n",
        "        \"category\": \"Science: Computers\",\n",
        "        \"type\": \"boolean\",\n",
        "        \"difficulty\": \"medium\",\n",
        "        \"question\": \"All program codes have to be compiled into an executable file in order to be run. This file can then be executed on any machine.\",\n",
        "        \"correct_answer\": \"False\",\n",
        "        \"incorrect_answers\": [\n",
        "            \"True\"\n",
        "        ]\n",
        "    },\n",
        "    {\n",
        "        \"category\": \"Science: Computers\",\n",
        "        \"type\": \"boolean\",\n",
        "        \"difficulty\": \"easy\",\n",
        "        \"question\": \"Linus Torvalds created Linux and Git.\",\n",
        "        \"correct_answer\": \"True\",\n",
        "        \"incorrect_answers\": [\n",
        "            \"False\"\n",
        "        ]\n",
        "    },\n",
        "    {\n",
        "        \"category\": \"Science: Computers\",\n",
        "        \"type\": \"boolean\",\n",
        "        \"difficulty\": \"easy\",\n",
        "        \"question\": \"The programming language 'Python' is based off a modified version of 'JavaScript'\",\n",
        "        \"correct_answer\": \"False\",\n",
        "        \"incorrect_answers\": [\n",
        "            \"True\"\n",
        "        ]\n",
        "    },\n",
        "    {\n",
        "        \"category\": \"Science: Computers\",\n",
        "        \"type\": \"boolean\",\n",
        "        \"difficulty\": \"medium\",\n",
        "        \"question\": \"AMD created the first consumer 64-bit processor.\",\n",
        "        \"correct_answer\": \"True\",\n",
        "        \"incorrect_answers\": [\n",
        "            \"False\"\n",
        "        ]\n",
        "    },\n",
        "    {\n",
        "        \"category\": \"Science: Computers\",\n",
        "        \"type\": \"boolean\",\n",
        "        \"difficulty\": \"easy\",\n",
        "        \"question\": \"'HTML' stands for Hypertext Markup Language.\",\n",
        "        \"correct_answer\": \"True\",\n",
        "        \"incorrect_answers\": [\n",
        "            \"False\"\n",
        "        ]\n",
        "    },\n",
        "    {\n",
        "        \"category\": \"Science: Computers\",\n",
        "        \"type\": \"boolean\",\n",
        "        \"difficulty\": \"easy\",\n",
        "        \"question\": \"In most programming languages, the operator ++ is equivalent to the statement '+= 1'.\",\n",
        "        \"correct_answer\": \"True\",\n",
        "        \"incorrect_answers\": [\n",
        "            \"False\"\n",
        "        ]\n",
        "    },\n",
        "    {\n",
        "        \"category\": \"Science: Computers\",\n",
        "        \"type\": \"boolean\",\n",
        "        \"difficulty\": \"hard\",\n",
        "        \"question\": \"The IBM PC used an Intel 8008 microprocessor clocked at 4.77 MHz and 8 kilobytes of memory.\",\n",
        "        \"correct_answer\": \"False\",\n",
        "        \"incorrect_answers\": [\n",
        "            \"True\"\n",
        "        ]\n",
        "    }\n",
        "]\n"
      ]
    },
    {
      "cell_type": "markdown",
      "source": [
        "##question_model.py\n",
        "class Question:\n",
        "\n",
        "    def __init__(self, q_text, q_answer):\n",
        "        self.text = q_text\n",
        "        self.answer = q_answer"
      ],
      "metadata": {
        "id": "nxcnadPQq7nq"
      }
    },
    {
      "cell_type": "markdown",
      "source": [
        "##quiz_brain.py\n",
        "class QuizBrain:\n",
        "\n",
        "    def __init__(self, q_list):\n",
        "        self.question_number = 0\n",
        "        self.score = 0\n",
        "        self.question_list = q_list\n",
        "\n",
        "    def still_has_questions(self):\n",
        "        return self.question_number < len(self.question_list)\n",
        "\n",
        "    def next_question(self):\n",
        "        current_question = self.question_list[self.question_number]\n",
        "        self.question_number += 1\n",
        "        user_answer = input(f\"Q.{self.question_number}: {current_question.text} (True/False): \")\n",
        "        self.check_answer(user_answer, current_question.answer)\n",
        "\n",
        "    def check_answer(self, user_answer, correct_answer):\n",
        "        if user_answer.lower() == correct_answer.lower():\n",
        "            self.score += 1\n",
        "            print(\"You got it right!\")\n",
        "        else:\n",
        "            print(\"That's wrong.\")\n",
        "        print(f\"The correct answer was: {correct_answer}.\")\n",
        "        print(f\"Your current score is: {self.score}/{self.question_number}\")\n",
        "        print(\"\\n\")\n"
      ],
      "metadata": {
        "id": "bjV3ecH5qxxy"
      }
    },
    {
      "cell_type": "code",
      "source": [
        ""
      ],
      "metadata": {
        "id": "m-hTYhACr3nI"
      },
      "execution_count": null,
      "outputs": []
    }
  ]
}