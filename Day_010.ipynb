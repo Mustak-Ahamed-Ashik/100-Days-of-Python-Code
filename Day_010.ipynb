{
  "nbformat": 4,
  "nbformat_minor": 0,
  "metadata": {
    "colab": {
      "name": "Day-010.ipynb",
      "provenance": [],
      "authorship_tag": "ABX9TyO+y95pwcSq2hQlYxcYWUjg",
      "include_colab_link": true
    },
    "kernelspec": {
      "name": "python3",
      "display_name": "Python 3"
    },
    "language_info": {
      "name": "python"
    }
  },
  "cells": [
    {
      "cell_type": "markdown",
      "metadata": {
        "id": "view-in-github",
        "colab_type": "text"
      },
      "source": [
        "<a href=\"https://colab.research.google.com/github/Mustak-Ahamed-Ashik/100-days-of-Python-Code/blob/main/Day_010.ipynb\" target=\"_parent\"><img src=\"https://colab.research.google.com/assets/colab-badge.svg\" alt=\"Open In Colab\"/></a>"
      ]
    },
    {
      "cell_type": "markdown",
      "metadata": {
        "id": "vHH6vYpARDDK"
      },
      "source": [
        "# Functions with output"
      ]
    },
    {
      "cell_type": "code",
      "metadata": {
        "colab": {
          "base_uri": "https://localhost:8080/"
        },
        "id": "eu8VhT1uC1Wl",
        "outputId": "e10c9f6e-b9e0-4bcf-afd6-dd1d6e2a60e5"
      },
      "source": [
        "def funct(name, country):\n",
        "  var1 = name.title()\n",
        "  var2 = country.title()\n",
        "  return f\"{var1} from {var2}\"\n",
        "output = funct(\"ashik ahemd\", \"Bangladesh\")\n",
        "print(output)\n",
        "# here title converts first character for each word to capital"
      ],
      "execution_count": null,
      "outputs": [
        {
          "output_type": "stream",
          "name": "stdout",
          "text": [
            "Ashik Ahemd from Bangladesh\n"
          ]
        }
      ]
    },
    {
      "cell_type": "code",
      "metadata": {
        "colab": {
          "base_uri": "https://localhost:8080/"
        },
        "id": "HrhO7O5vRIOG",
        "outputId": "2c1fd0c7-3f35-4ea4-f15c-8dfef6e4f9c3"
      },
      "source": [
        "def funct(name, country):\n",
        "  var1 = name.title()\n",
        "  var2 = country.title()\n",
        "  return f\"{var1} from {var2}\"\n",
        "  print(\"what is your name\")\n",
        "output = funct(\"ashik ahemd\", \"Bangladesh\")\n",
        "print(output)\n",
        "# here title converts first character for each word to capital"
      ],
      "execution_count": null,
      "outputs": [
        {
          "output_type": "stream",
          "name": "stdout",
          "text": [
            "Ashik Ahemd from Bangladesh\n"
          ]
        }
      ]
    },
    {
      "cell_type": "markdown",
      "metadata": {
        "id": "py42BUB3X2jA"
      },
      "source": [
        "### Multiple return"
      ]
    },
    {
      "cell_type": "code",
      "metadata": {
        "id": "vvjXhobVS421",
        "colab": {
          "base_uri": "https://localhost:8080/"
        },
        "outputId": "439e501a-f337-4633-f0ef-058243e51645"
      },
      "source": [
        "def funct(name, country):\n",
        "  if name == \"\" or country == \"\":\n",
        "    return(\"You didn't provide valid inputs.\")\n",
        "  var1 = name.title()\n",
        "  var2 = country.title()\n",
        "  return f\"{var1} from {var2}\"\n",
        "output = funct(input(\"What is your name: \"), input(\"Where are you from: \"))\n",
        "print(output)"
      ],
      "execution_count": null,
      "outputs": [
        {
          "output_type": "stream",
          "name": "stdout",
          "text": [
            "What is your name: \n",
            "Where are you from: \n",
            "You didn't provide valid inputs.\n"
          ]
        }
      ]
    },
    {
      "cell_type": "markdown",
      "metadata": {
        "id": "j722uhrHZNlk"
      },
      "source": [
        "# Challenge\n",
        "## Instructions\n",
        "\n",
        "\n",
        "In the starting code, you'll find the solution from the Leap Year challenge. First, convert this function `is_leap()` so that instead of printing \"Leap year.\" or \"Not leap year.\" it should **return** `True` if it is a leap year and **return** `False` if it is not a leap year.\n",
        "\n",
        "You are then going to create a function called `days_in_month()` which will take a **year** and a **month** as inputs, e.g.\n",
        "\n",
        "```\n",
        "days_in_month(year=2022, month=2)\n",
        "```\n",
        "\n",
        "And it will use this information to work out the **number of days in the month**, then **return** that as the **output**, **e.g.:**\n",
        "\n",
        "```\n",
        "28\n",
        "```\n",
        "\n",
        "The List month_days contains the number of days in a month from January to December for a non-leap year. A leap year has 29 days in February.\n",
        "\n",
        "# Hint\n",
        "\n",
        "1. Look at the function call at the bottom of the code to see the positional arguments.  The order is very important.\n",
        "\n",
        "2. Feel free to choose your own parameter names.\n",
        "\n",
        "3. Remember that `month_days` is a List and Lists in Python start at position 0. So the number of days in January is `month_days[0]`\n",
        "\n",
        "4. Be careful with indentation.\n"
      ]
    },
    {
      "cell_type": "code",
      "metadata": {
        "colab": {
          "base_uri": "https://localhost:8080/"
        },
        "id": "cXY8BYWrYInd",
        "outputId": "0a3ac6a1-6f02-44e7-bac1-1abf3e566725"
      },
      "source": [
        "def is_leap(year):\n",
        "  if year % 4 == 0:\n",
        "    if year % 100 == 0:\n",
        "      if year % 400 == 0:\n",
        "        print(\"Leap year.\")\n",
        "        return True\n",
        "      else:\n",
        "        print(\"Not leap year.\")\n",
        "        return False\n",
        "    else:\n",
        "      print(\"Leap year.\")\n",
        "      return True\n",
        "  else:\n",
        "    print(\"Not leap year.\")\n",
        "    return False\n",
        "\n",
        "def days_in_month(year, month):\n",
        "  month_days = [31, 28, 31, 30, 31, 30, 31, 31, 30, 31, 30, 31]\n",
        "  if is_leap(year) == True:\n",
        "    month_days[1] = 29\n",
        "  days = month_days[month-1]\n",
        "  return days\n",
        "\n",
        "  \n",
        "  \n",
        "#🚨 Do NOT change any of the code below \n",
        "year = int(input(\"Enter a year: \"))\n",
        "month = int(input(\"Enter a month: \"))\n",
        "days = days_in_month(year, month)\n",
        "print(days)"
      ],
      "execution_count": null,
      "outputs": [
        {
          "output_type": "stream",
          "name": "stdout",
          "text": [
            "Enter a year: 2020\n",
            "Enter a month: 7\n",
            "Leap year.\n",
            "31\n"
          ]
        }
      ]
    },
    {
      "cell_type": "markdown",
      "metadata": {
        "id": "PdA6rqGBem5n"
      },
      "source": [
        "### Docstring"
      ]
    },
    {
      "cell_type": "code",
      "metadata": {
        "colab": {
          "base_uri": "https://localhost:8080/"
        },
        "id": "-qzPNr1wbvEP",
        "outputId": "fa9b6254-57ff-42bc-884b-52e4d24a0168"
      },
      "source": [
        "def my_func(name):\n",
        "  \"\"\"This is the function which is for user input as a name\"\"\"\n",
        "  print(name)\n",
        "my_func(\"Ashik Ahemd\")\n",
        "# Here \"\"\" This is the....\"\"\" - is a docstring."
      ],
      "execution_count": null,
      "outputs": [
        {
          "output_type": "stream",
          "name": "stdout",
          "text": [
            "Ashik Ahemd\n"
          ]
        }
      ]
    },
    {
      "cell_type": "markdown",
      "metadata": {
        "id": "LPBhBBrlgDE1"
      },
      "source": [
        "### To comment out specific code window - ctrl+/"
      ]
    },
    {
      "cell_type": "code",
      "metadata": {
        "id": "nomKaZ63fqft"
      },
      "source": [
        "# my name\n",
        "# is ashi\n",
        "# mustak\n"
      ],
      "execution_count": null,
      "outputs": []
    },
    {
      "cell_type": "code",
      "metadata": {
        "colab": {
          "base_uri": "https://localhost:8080/"
        },
        "id": "nt7Xb1UOgN48",
        "outputId": "2d4ca543-460d-4526-cbb8-4ed3f365cad5"
      },
      "source": [
        "def outer_function(a, b):\n",
        "    def inner_function(c, d):\n",
        "        return c + d\n",
        "    return inner_function(a, b)\n",
        " \n",
        "result = outer_function(5, 10)\n",
        "print(result)"
      ],
      "execution_count": null,
      "outputs": [
        {
          "output_type": "stream",
          "name": "stdout",
          "text": [
            "15\n"
          ]
        }
      ]
    },
    {
      "cell_type": "markdown",
      "metadata": {
        "id": "yVcHxooSGN7C"
      },
      "source": [
        "## Making Calculator"
      ]
    },
    {
      "cell_type": "code",
      "metadata": {
        "id": "4Nh94v5Lgs-i",
        "colab": {
          "base_uri": "https://localhost:8080/"
        },
        "outputId": "2e2f590a-cece-49ca-baf9-bc3f72e80c75"
      },
      "source": [
        "logo = \"\"\"\n",
        " _____________________\n",
        "|  _________________  |\n",
        "| | Pythonista   0. | |  .----------------.  .----------------.  .----------------.  .----------------. \n",
        "| |_________________| | | .--------------. || .--------------. || .--------------. || .--------------. |\n",
        "|  ___ ___ ___   ___  | | |     ______   | || |      __      | || |   _____      | || |     ______   | |\n",
        "| | 7 | 8 | 9 | | + | | | |   .' ___  |  | || |     /  \\     | || |  |_   _|     | || |   .' ___  |  | |\n",
        "| |___|___|___| |___| | | |  / .'   \\_|  | || |    / /\\ \\    | || |    | |       | || |  / .'   \\_|  | |\n",
        "| | 4 | 5 | 6 | | - | | | |  | |         | || |   / ____ \\   | || |    | |   _   | || |  | |         | |\n",
        "| |___|___|___| |___| | | |  \\ `.___.'\\  | || | _/ /    \\ \\_ | || |   _| |__/ |  | || |  \\ `.___.'\\  | |\n",
        "| | 1 | 2 | 3 | | x | | | |   `._____.'  | || ||____|  |____|| || |  |________|  | || |   `._____.'  | |\n",
        "| |___|___|___| |___| | | |              | || |              | || |              | || |              | |\n",
        "| | . | 0 | = | | / | | | '--------------' || '--------------' || '--------------' || '--------------' |\n",
        "| |___|___|___| |___| |  '----------------'  '----------------'  '----------------'  '----------------' \n",
        "|_____________________|\n",
        "\"\"\"\n",
        "print(logo)\n",
        "# add\n",
        "def add(n1,n2):\n",
        "  return n1+n2\n",
        "# subtract\n",
        "def subtract(n1,n2):\n",
        "  return (n1-n2)\n",
        "# multiplication\n",
        "def multiply(n1,n2):\n",
        "  return n1*n2\n",
        "# divide\n",
        "def divide(n1,n2):\n",
        "  return n1/n2\n",
        "again = False\n",
        "aro = True\n",
        "while aro:\n",
        "  if again ==False:\n",
        "    no1 = int(input(\"Enter the first number: \"))\n",
        "  opt = input(\"Enter an operation + - * / : \")\n",
        "  no2 = int(input(\"Enter the second number: \"))\n",
        "  if opt == \"+\":\n",
        "    result = add(no1,no2)\n",
        "  elif opt == \"-\":\n",
        "    result = subtract(no1,no2)\n",
        "  elif opt == \"*\":\n",
        "    result = multiply(no1,no2)\n",
        "  elif opt == \"/\":\n",
        "    result = divide(no1,no2)\n",
        "  print(f\"{float(no1)} {opt} {float(no2)} = {float(result)}\")\n",
        "  enter = input(\"Kaj sesh ? yes or no: \").lower()\n",
        "  if enter == \"no\":\n",
        "    abar = input(\"Enter y for again with the result n for new calculation: \").lower()\n",
        "    if abar == 'y':\n",
        "      no1 = result\n",
        "      again =True\n",
        "    else:\n",
        "        again = False\n",
        "  else:\n",
        "    aro = False\n"
      ],
      "execution_count": 21,
      "outputs": [
        {
          "name": "stdout",
          "output_type": "stream",
          "text": [
            "\n",
            " _____________________\n",
            "|  _________________  |\n",
            "| | Pythonista   0. | |  .----------------.  .----------------.  .----------------.  .----------------. \n",
            "| |_________________| | | .--------------. || .--------------. || .--------------. || .--------------. |\n",
            "|  ___ ___ ___   ___  | | |     ______   | || |      __      | || |   _____      | || |     ______   | |\n",
            "| | 7 | 8 | 9 | | + | | | |   .' ___  |  | || |     /  \\     | || |  |_   _|     | || |   .' ___  |  | |\n",
            "| |___|___|___| |___| | | |  / .'   \\_|  | || |    / /\\ \\    | || |    | |       | || |  / .'   \\_|  | |\n",
            "| | 4 | 5 | 6 | | - | | | |  | |         | || |   / ____ \\   | || |    | |   _   | || |  | |         | |\n",
            "| |___|___|___| |___| | | |  \\ `.___.'\\  | || | _/ /    \\ \\_ | || |   _| |__/ |  | || |  \\ `.___.'\\  | |\n",
            "| | 1 | 2 | 3 | | x | | | |   `._____.'  | || ||____|  |____|| || |  |________|  | || |   `._____.'  | |\n",
            "| |___|___|___| |___| | | |              | || |              | || |              | || |              | |\n",
            "| | . | 0 | = | | / | | | '--------------' || '--------------' || '--------------' || '--------------' |\n",
            "| |___|___|___| |___| |  '----------------'  '----------------'  '----------------'  '----------------' \n",
            "|_____________________|\n",
            "\n",
            "Enter the first number: 56\n",
            "Enter an operation + - * / : /\n",
            "Enter the second number: 7\n",
            "56.0 / 7.0 = 8.0\n",
            "Kaj sesh ? yes or no: no\n",
            "Enter y for again with the result n for new calculation: y\n",
            "Enter an operation + - * / : *\n",
            "Enter the second number: 454\n",
            "8.0 * 454.0 = 3632.0\n",
            "Kaj sesh ? yes or no: yes\n"
          ]
        }
      ]
    },
    {
      "cell_type": "code",
      "metadata": {
        "id": "lWMvcJG4Czmq"
      },
      "source": [
        "def add(n1, n2):\n",
        "  return n1 + n2\n",
        "\n",
        "def subtract(n1, n2):\n",
        "  return n1 - n2\n",
        "\n",
        "def multiply(n1, n2):\n",
        "  return n1 * n2\n",
        "\n",
        "def divide(n1, n2):\n",
        "  return n1 / n2\n",
        "\n",
        "operations = {\n",
        "  \"+\": add,\n",
        "  \"-\": subtract,\n",
        "  \"*\": multiply,\n",
        "  \"/\": divide\n",
        "}\n",
        "\n",
        "def calculator():\n",
        "  print(logo)\n",
        "\n",
        "  num1 = float(input(\"What's the first number?: \"))\n",
        "  for symbol in operations:\n",
        "    print(symbol)\n",
        "  should_continue = True\n",
        " \n",
        "  while should_continue:\n",
        "    operation_symbol = input(\"Pick an operation: \")\n",
        "    num2 = float(input(\"What's the next number?: \"))\n",
        "    calculation_function = operations[operation_symbol]\n",
        "    answer = calculation_function(num1, num2)\n",
        "    print(f\"{num1} {operation_symbol} {num2} = {answer}\")\n",
        "\n",
        "    if input(f\"Type 'y' to continue calculating with {answer}, or type 'n' to start a new calculation: \") == 'y':\n",
        "      num1 = answer\n",
        "    else:\n",
        "      should_continue = False\n",
        "      calculator()\n",
        "\n",
        "calculator()\n"
      ],
      "execution_count": null,
      "outputs": []
    },
    {
      "cell_type": "code",
      "metadata": {
        "id": "lMk8F0lgFPiR"
      },
      "source": [
        ""
      ],
      "execution_count": null,
      "outputs": []
    }
  ]
}