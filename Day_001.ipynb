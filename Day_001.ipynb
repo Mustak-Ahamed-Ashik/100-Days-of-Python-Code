{
  "nbformat": 4,
  "nbformat_minor": 0,
  "metadata": {
    "colab": {
      "name": "Day-001.ipynb",
      "provenance": [],
      "collapsed_sections": [],
      "authorship_tag": "ABX9TyNM5mcCZu0zhZtPuARXeqzt",
      "include_colab_link": true
    },
    "kernelspec": {
      "name": "python3",
      "display_name": "Python 3"
    },
    "language_info": {
      "name": "python"
    }
  },
  "cells": [
    {
      "cell_type": "markdown",
      "metadata": {
        "id": "view-in-github",
        "colab_type": "text"
      },
      "source": [
        "<a href=\"https://colab.research.google.com/github/Mustak-Ahamed-Ashik/100-days-of-Python-Code/blob/main/Day_001.ipynb\" target=\"_parent\"><img src=\"https://colab.research.google.com/assets/colab-badge.svg\" alt=\"Open In Colab\"/></a>"
      ]
    },
    {
      "cell_type": "markdown",
      "metadata": {
        "id": "3XnI4XBq0DYC"
      },
      "source": [
        "# Introduction"
      ]
    },
    {
      "cell_type": "code",
      "metadata": {
        "colab": {
          "base_uri": "https://localhost:8080/"
        },
        "id": "LeanY3A0d6iP",
        "outputId": "54702757-a502-4a34-bc96-e1b884e936e7"
      },
      "source": [
        "print('Hello Mustak Ahamed!')\n",
        "print(\"Hello Mustak Ahamed!\")"
      ],
      "execution_count": null,
      "outputs": [
        {
          "output_type": "stream",
          "name": "stdout",
          "text": [
            "Hello Mustak Ahamed!\n",
            "Hello Mustak Ahamed!\n"
          ]
        }
      ]
    },
    {
      "cell_type": "code",
      "metadata": {
        "colab": {
          "base_uri": "https://localhost:8080/"
        },
        "id": "BRyONpEiu-zq",
        "outputId": "8e565132-f118-471e-a268-055403cd284a"
      },
      "source": [
        "# Little bit tricky\n",
        "\n",
        "print(\"Welcome to the 'python' World\")\n",
        "print('Welcome to the \"python\" World')\n",
        "\n",
        "print('Welcome to the \\'python\\' World')\n",
        "print(\"Welcome to the \\\"python\\\" World\")"
      ],
      "execution_count": null,
      "outputs": [
        {
          "output_type": "stream",
          "name": "stdout",
          "text": [
            "Welcome to the 'python' World\n",
            "Welcome to the \"python\" World\n",
            "Welcome to the 'python' World\n",
            "Welcome to the \"python\" World\n"
          ]
        }
      ]
    },
    {
      "cell_type": "markdown",
      "metadata": {
        "id": "wklXl0_8v3VX"
      },
      "source": [
        "#Challege 1"
      ]
    },
    {
      "cell_type": "markdown",
      "metadata": {
        "id": "aZFTFUk31_-h"
      },
      "source": [
        "# Example Output\n",
        "\n",
        "After you have written your code, you should run your program and it should print the following:\n",
        "\n",
        "```\n",
        "Day 1 - Python Print Function\n",
        "The function is declared like this:\n",
        "print('what to print')\n",
        "```"
      ]
    },
    {
      "cell_type": "code",
      "metadata": {
        "colab": {
          "base_uri": "https://localhost:8080/"
        },
        "id": "f4iJfeZxv5jX",
        "outputId": "3dff1cb9-4da8-4e33-f640-4f98362e14e8"
      },
      "source": [
        "print('Day 1 - Python Print Function')"
      ],
      "execution_count": null,
      "outputs": [
        {
          "output_type": "stream",
          "name": "stdout",
          "text": [
            "Day 1 - Python Print Function\n"
          ]
        }
      ]
    },
    {
      "cell_type": "code",
      "metadata": {
        "colab": {
          "base_uri": "https://localhost:8080/"
        },
        "id": "5AUwNfBiwJt7",
        "outputId": "35a4a3bc-09c1-4ff9-b57b-4cba68ca347e"
      },
      "source": [
        "print('The function is declared like this:')"
      ],
      "execution_count": null,
      "outputs": [
        {
          "output_type": "stream",
          "name": "stdout",
          "text": [
            "The function is declared like this:\n"
          ]
        }
      ]
    },
    {
      "cell_type": "code",
      "metadata": {
        "colab": {
          "base_uri": "https://localhost:8080/"
        },
        "id": "OAsRpzHjwk1P",
        "outputId": "0bcc9ce8-ae6c-40eb-deff-be23b31530da"
      },
      "source": [
        "print(\"print('what to print')\")"
      ],
      "execution_count": null,
      "outputs": [
        {
          "output_type": "stream",
          "name": "stdout",
          "text": [
            "print('what to print')\n"
          ]
        }
      ]
    },
    {
      "cell_type": "code",
      "metadata": {
        "colab": {
          "base_uri": "https://localhost:8080/"
        },
        "id": "u3wuOTioxfk2",
        "outputId": "1555eb02-5524-4736-f292-ca0e1e9609c7"
      },
      "source": [
        "print('print(\"what to print\")')"
      ],
      "execution_count": null,
      "outputs": [
        {
          "output_type": "stream",
          "name": "stdout",
          "text": [
            "print(\"what to print\")\n"
          ]
        }
      ]
    },
    {
      "cell_type": "markdown",
      "metadata": {
        "id": "UFg4tJYqzSTS"
      },
      "source": [
        "#Some more parctice"
      ]
    },
    {
      "cell_type": "code",
      "metadata": {
        "colab": {
          "base_uri": "https://localhost:8080/"
        },
        "id": "BRZehvzOzWOe",
        "outputId": "edff0ec6-3acb-43c0-9fb5-9123292829c5"
      },
      "source": [
        "print(\"Hello\" + \" \" + \"Mustak\")"
      ],
      "execution_count": null,
      "outputs": [
        {
          "output_type": "stream",
          "name": "stdout",
          "text": [
            "Hello Mustak\n"
          ]
        }
      ]
    },
    {
      "cell_type": "code",
      "metadata": {
        "colab": {
          "base_uri": "https://localhost:8080/"
        },
        "id": "c5ZHdoLFzjYX",
        "outputId": "a014fc83-2134-4762-9b96-94aa34628bd4"
      },
      "source": [
        "print(\"This is my \" + \"1st \" + \"Day of 100 days Coding Challenge\")"
      ],
      "execution_count": null,
      "outputs": [
        {
          "output_type": "stream",
          "name": "stdout",
          "text": [
            "This is my 1st Day of 100 days Coding Challenge\n"
          ]
        }
      ]
    },
    {
      "cell_type": "markdown",
      "metadata": {
        "id": "AZCA1c5iz7hX"
      },
      "source": [
        "# Challenge 2"
      ]
    },
    {
      "cell_type": "markdown",
      "metadata": {
        "id": "JMSyqpTa1qZ4"
      },
      "source": [
        "When you run your program, it should print the following:\n",
        "\n",
        "```\n",
        "Day 1 - String Manipulation\n",
        "String Concatenation is done with the \"+\" sign.\n",
        "e.g. print(\"Hello \" + \"world\")\n",
        "New lines can be created with a backslash and n.\n",
        "```\n"
      ]
    },
    {
      "cell_type": "code",
      "metadata": {
        "colab": {
          "base_uri": "https://localhost:8080/"
        },
        "id": "XRx4GlwGz-El",
        "outputId": "e60b8b67-85d9-42a8-9900-cef190289ec4"
      },
      "source": [
        "print('Day 1 - String Manipulation\\n')\n",
        "print('String concatenation with the \"+\" sign.\\n')\n",
        "print('e.g. print(\"Hello \"+\"World\")\\n')"
      ],
      "execution_count": null,
      "outputs": [
        {
          "output_type": "stream",
          "name": "stdout",
          "text": [
            "Day 1 - String Manipulation\n",
            "\n",
            "String concatenation with the \"+\" sign.\n",
            "\n",
            "e.g. print(\"Hello \"+\"World\")\n",
            "\n"
          ]
        }
      ]
    },
    {
      "cell_type": "markdown",
      "metadata": {
        "id": "TPL-T8wZ23t2"
      },
      "source": [
        "#Practice"
      ]
    },
    {
      "cell_type": "code",
      "metadata": {
        "colab": {
          "base_uri": "https://localhost:8080/"
        },
        "id": "X9guMmja0zZP",
        "outputId": "d73823d4-e3a4-4591-a51b-27c8e34a1ac5"
      },
      "source": [
        "# will print Hello plus user name\n",
        "\n",
        "print(\"Hello \" + input('User name? '))"
      ],
      "execution_count": null,
      "outputs": [
        {
          "output_type": "stream",
          "name": "stdout",
          "text": [
            "User name? \n",
            "Hello \n"
          ]
        }
      ]
    },
    {
      "cell_type": "code",
      "metadata": {
        "colab": {
          "base_uri": "https://localhost:8080/"
        },
        "id": "wIMQFMQc3HgA",
        "outputId": "37c1ef0c-c093-497a-97a0-993cae812f48"
      },
      "source": [
        "# will print length of the user name\n",
        "\n",
        "print(len(input('What is your name? ')))"
      ],
      "execution_count": null,
      "outputs": [
        {
          "output_type": "stream",
          "name": "stdout",
          "text": [
            "What is your name? Mustak\n",
            "6\n"
          ]
        }
      ]
    },
    {
      "cell_type": "markdown",
      "metadata": {
        "id": "Af3aBDeW3989"
      },
      "source": [
        "#Python Variables"
      ]
    },
    {
      "cell_type": "code",
      "metadata": {
        "colab": {
          "base_uri": "https://localhost:8080/"
        },
        "id": "H6G3EqBq4BAs",
        "outputId": "c14aceba-fc8d-4b3e-f0c4-879c2236fa00"
      },
      "source": [
        "a = input()\n",
        "\n",
        "#and here input in string type\n",
        "type(a)\n"
      ],
      "execution_count": null,
      "outputs": [
        {
          "name": "stdout",
          "output_type": "stream",
          "text": [
            "ashik\n"
          ]
        },
        {
          "output_type": "execute_result",
          "data": {
            "text/plain": [
              "str"
            ]
          },
          "metadata": {},
          "execution_count": 13
        }
      ]
    },
    {
      "cell_type": "code",
      "metadata": {
        "id": "4wPCIQtr6fqX"
      },
      "source": [
        "# to use input like this we have to declare a variable for future use."
      ],
      "execution_count": null,
      "outputs": []
    },
    {
      "cell_type": "code",
      "metadata": {
        "colab": {
          "base_uri": "https://localhost:8080/"
        },
        "id": "L5LAxaVD6rSM",
        "outputId": "99893f69-b2a0-48b6-ad5f-6cfcd823cb61"
      },
      "source": [
        "name = \"Ashik\"\n",
        "type(name)"
      ],
      "execution_count": null,
      "outputs": [
        {
          "output_type": "execute_result",
          "data": {
            "text/plain": [
              "str"
            ]
          },
          "metadata": {},
          "execution_count": 15
        }
      ]
    },
    {
      "cell_type": "code",
      "metadata": {
        "id": "WTT_4QU1630L"
      },
      "source": [
        "#here name is a variable"
      ],
      "execution_count": null,
      "outputs": []
    },
    {
      "cell_type": "code",
      "metadata": {
        "colab": {
          "base_uri": "https://localhost:8080/"
        },
        "id": "orDTP-Rq67Ac",
        "outputId": "01cc0bd7-650e-4cf6-f6aa-4bb6d6e43d11"
      },
      "source": [
        "length = len(name)\n",
        "length"
      ],
      "execution_count": null,
      "outputs": [
        {
          "output_type": "execute_result",
          "data": {
            "text/plain": [
              "5"
            ]
          },
          "metadata": {},
          "execution_count": 17
        }
      ]
    },
    {
      "cell_type": "markdown",
      "metadata": {
        "id": "Q7bI-dVI7pUB"
      },
      "source": [
        "# Instructions\n",
        "\n",
        "Write a program that switches the values stored in the variables a and b. \n",
        "\n",
        "**Warning.** Do not change the code on lines 1-4 and 12-18. Your program should work for different inputs. e.g. any value of a and b.\n",
        "\n",
        "# Example Input\n",
        "\n",
        "```\n",
        "a: 3\n",
        "```\n",
        "\n",
        "```\n",
        "b: 5\n",
        "```\n",
        "\n",
        "# Example Output\n",
        "\n",
        "```\n",
        "a: 5\n",
        "```\n",
        "\n",
        "```\n",
        "b: 3\n",
        "```\n",
        "\n",
        "e.g. When you hit **run**, this is what should happen:\n",
        "\n",
        "![](https://cdn.fs.teachablecdn.com/tgdNl0iSqK6RpPyYZh9d)\n",
        "\n",
        "# Hint\n",
        "\n",
        "1. You should not have to type any numbers in your code. \n",
        "2. You might need to make some more variables."
      ]
    },
    {
      "cell_type": "code",
      "metadata": {
        "colab": {
          "base_uri": "https://localhost:8080/"
        },
        "id": "3aKAxhOg7sES",
        "outputId": "73e2d1a5-4994-40bb-b0e8-2cf82ce35398"
      },
      "source": [
        "a = input()\n",
        "b = input()"
      ],
      "execution_count": null,
      "outputs": [
        {
          "name": "stdout",
          "output_type": "stream",
          "text": [
            "4\n",
            "8\n"
          ]
        }
      ]
    },
    {
      "cell_type": "code",
      "metadata": {
        "id": "njkPMjrBA1sb"
      },
      "source": [
        "c = a\n",
        "a = b\n",
        "b = c"
      ],
      "execution_count": null,
      "outputs": []
    },
    {
      "cell_type": "code",
      "metadata": {
        "colab": {
          "base_uri": "https://localhost:8080/"
        },
        "id": "hvdDdRVyBDNi",
        "outputId": "91ae0656-9a0b-4a02-afb3-0d10febe0642"
      },
      "source": [
        "print(a)\n",
        "print(b)"
      ],
      "execution_count": null,
      "outputs": [
        {
          "output_type": "stream",
          "name": "stdout",
          "text": [
            "8\n",
            "4\n"
          ]
        }
      ]
    },
    {
      "cell_type": "markdown",
      "metadata": {
        "id": "gWCVjxYp0MKn"
      },
      "source": [
        "#Day 1 Project"
      ]
    },
    {
      "cell_type": "code",
      "metadata": {
        "id": "dRNElsl-0PDK"
      },
      "source": [
        "#1. Create a greeting for your program.\n",
        "\n",
        "#2. Ask the user for the city that they grew up in.\n",
        "\n",
        "#3. Ask the user for the name of a pet.\n",
        "\n",
        "#4. Combine the name of their city and pet and show them their band name.\n"
      ],
      "execution_count": null,
      "outputs": []
    },
    {
      "cell_type": "code",
      "metadata": {
        "colab": {
          "base_uri": "https://localhost:8080/"
        },
        "id": "zNIC0-_G0S7F",
        "outputId": "84b9b28a-435e-4e03-9ec9-d863a25b3782"
      },
      "source": [
        "print(\"Welcome to the Band Name Generator\")\n",
        "city = input(\"What's name of the city you grow up in.\\n\")\n",
        "pet_name = input(\"What's your pet name\\n\")\n",
        "print(\"Your Band name \" + city +\" \"+ pet_name)\n"
      ],
      "execution_count": null,
      "outputs": [
        {
          "output_type": "stream",
          "name": "stdout",
          "text": [
            "Welcome to the Band Name Generator\n",
            "What's name of the city you grow up in.\n",
            "Mymensingh\n",
            "What's your pet name\n",
            "Aqira\n",
            "Your Band name Mymensingh Aqira\n"
          ]
        }
      ]
    }
  ]
}