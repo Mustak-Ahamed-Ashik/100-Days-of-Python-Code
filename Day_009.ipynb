{
  "nbformat": 4,
  "nbformat_minor": 0,
  "metadata": {
    "colab": {
      "name": "Day-009.ipynb",
      "provenance": [],
      "authorship_tag": "ABX9TyPX/n3UzrH5FqbsE6Jif6/1",
      "include_colab_link": true
    },
    "kernelspec": {
      "name": "python3",
      "display_name": "Python 3"
    },
    "language_info": {
      "name": "python"
    }
  },
  "cells": [
    {
      "cell_type": "markdown",
      "metadata": {
        "id": "view-in-github",
        "colab_type": "text"
      },
      "source": [
        "<a href=\"https://colab.research.google.com/github/Mustak-Ahamed-Ashik/100-days-of-Python-Code/blob/main/Day_009.ipynb\" target=\"_parent\"><img src=\"https://colab.research.google.com/assets/colab-badge.svg\" alt=\"Open In Colab\"/></a>"
      ]
    },
    {
      "cell_type": "markdown",
      "metadata": {
        "id": "Hdrlj71rlHeM"
      },
      "source": [
        "#Dictionaries, Nesting and the secret Auction\n",
        "## Introuction"
      ]
    },
    {
      "cell_type": "code",
      "metadata": {
        "id": "pvJbI_0KlB94",
        "colab": {
          "base_uri": "https://localhost:8080/"
        },
        "outputId": "25866b8a-74f1-48ea-8383-3b09b6c3a438"
      },
      "source": [
        "programming_dictionary = {\"Bug\": \"An error in a program that prevents the program from running as expected.\",\n",
        "                          \"Function\": \"A piece of code that you can easily call over and over again.\"}\n",
        "print(programming_dictionary)"
      ],
      "execution_count": 13,
      "outputs": [
        {
          "output_type": "stream",
          "name": "stdout",
          "text": [
            "{'Bug': 'An error in a program that prevents the program from running as expected.', 'Function': 'A piece of code that you can easily call over and over again.'}\n"
          ]
        }
      ]
    },
    {
      "cell_type": "code",
      "metadata": {
        "colab": {
          "base_uri": "https://localhost:8080/"
        },
        "id": "Mn68mjcGPSp4",
        "outputId": "3d0c9742-588a-4fc0-bc27-ce8c6b49c554"
      },
      "source": [
        "# Add a new item\n",
        "programming_dictionary[\"Loop\"] = \"It executes several time as required\"\n",
        "print(programming_dictionary)"
      ],
      "execution_count": 14,
      "outputs": [
        {
          "output_type": "stream",
          "name": "stdout",
          "text": [
            "{'Bug': 'An error in a program that prevents the program from running as expected.', 'Function': 'A piece of code that you can easily call over and over again.', 'Loop': 'It executes several time as required'}\n"
          ]
        }
      ]
    },
    {
      "cell_type": "code",
      "metadata": {
        "colab": {
          "base_uri": "https://localhost:8080/"
        },
        "id": "X7XToOYQPZR-",
        "outputId": "6ab491dd-613b-4730-ce58-714029a0d374"
      },
      "source": [
        "for i in programming_dictionary:\n",
        "  print(i)"
      ],
      "execution_count": 15,
      "outputs": [
        {
          "output_type": "stream",
          "name": "stdout",
          "text": [
            "Bug\n",
            "Function\n",
            "Loop\n"
          ]
        }
      ]
    },
    {
      "cell_type": "code",
      "metadata": {
        "colab": {
          "base_uri": "https://localhost:8080/"
        },
        "id": "zi41I8abPwv2",
        "outputId": "24e0008d-5144-4681-a725-4a49967bcbe6"
      },
      "source": [
        "for i in programming_dictionary:\n",
        "  print(i)\n",
        "  print(programming_dictionary[i])"
      ],
      "execution_count": 16,
      "outputs": [
        {
          "output_type": "stream",
          "name": "stdout",
          "text": [
            "Bug\n",
            "An error in a program that prevents the program from running as expected.\n",
            "Function\n",
            "A piece of code that you can easily call over and over again.\n",
            "Loop\n",
            "It executes several time as required\n"
          ]
        }
      ]
    },
    {
      "cell_type": "markdown",
      "metadata": {
        "id": "sUF_fitFQ-P8"
      },
      "source": [
        "#Challenge-1\n",
        "## Instructions\n",
        "\n",
        "You have access to a database of `student_scores` in the format of a dictionary. The **keys** in `student_scores` are the **names** of the students and the **values** are their exam **scores**. \n",
        "\n",
        "Write a program that **converts their scores to grades**. By the end of your program, you should have a new dictionary called `student_grades` that should contain student **names** for **keys** and their **grades** for **values**. T**he final version** of the `student_grades` dictionary will be checked. \n",
        "\n",
        "**DO NOT** modify lines 1-7 to change the existing `student_scores` dictionary. \n",
        "\n",
        "**DO NOT** write any print statements.\n",
        "\n",
        "This is the scoring criteria:\n",
        "\n",
        "> Scores 91 - 100: Grade = \"Outstanding\"\n",
        "\n",
        "> Scores 81 - 90: Grade = \"Exceeds Expectations\"\n",
        "\n",
        "> Scores 71 - 80: Grade = \"Acceptable\"\n",
        "\n",
        "> Scores 70 or lower: Grade = \"Fail\"\n",
        "\n",
        "# Expected Output\n",
        "\n",
        "```\n",
        "'{'Harry': 'Exceeds Expectations', 'Ron': 'Acceptable', 'Hermione': 'Outstanding', 'Draco': 'Acceptable', 'Neville': 'Fail'}'\n",
        "```\n",
        "\n",
        "# Hint\n",
        "\n",
        "1. Remember that looping through a Dictionary will only give you the **keys** and not the values. \n",
        "\n",
        "2. If in doubt as to why your code is not doing what you expected, you can always print out the intermediate values. \n",
        "\n",
        "3. At the **end** of your program, the print statement will show the final `student_scores` dictionary, do not change this."
      ]
    },
    {
      "cell_type": "code",
      "metadata": {
        "colab": {
          "base_uri": "https://localhost:8080/"
        },
        "id": "wm9WaGEmP4He",
        "outputId": "2d11756e-999c-493d-82d2-4bba80fb4cc5"
      },
      "source": [
        "student_scores = {\n",
        "  \"Harry\": 81,\n",
        "  \"Ron\": 78,\n",
        "  \"Hermione\": 99, \n",
        "  \"Draco\": 74,\n",
        "  \"Neville\": 62,\n",
        "}\n",
        "# 🚨 Don't change the code above 👆\n",
        "\n",
        "#TODO-1: Create an empty dictionary called student_grades.\n",
        "student_grades = {}\n",
        "\n",
        "#TODO-2: Write your code below to add the grades to student_grades.👇\n",
        "for i in student_scores:\n",
        "  if student_scores[i] > 90 and student_scores[i] < 101:\n",
        "    student_grades[i] = \"Outstanding\"\n",
        "  elif student_scores[i] > 80 and student_scores[i] < 91:\n",
        "    student_grades[i] = \"Exceeds Expectations\"\n",
        "  elif student_scores[i] > 70 and student_scores[i] < 81:\n",
        "    student_grades[i] = \"Acceptable\"\n",
        "  elif student_scores[i] <= 70:\n",
        "    student_grades[i] = \"Fail\"\n",
        "# 🚨 Don't change the code below 👇\n",
        "print(student_grades)\n"
      ],
      "execution_count": 6,
      "outputs": [
        {
          "output_type": "stream",
          "name": "stdout",
          "text": [
            "{'Harry': 'Exceeds Expectations', 'Ron': 'Acceptable', 'Hermione': 'Outstanding', 'Draco': 'Acceptable', 'Neville': 'Fail'}\n"
          ]
        }
      ]
    },
    {
      "cell_type": "code",
      "metadata": {
        "id": "1K8RQDnzTSpP"
      },
      "source": [
        "  Harry': 'Exceeds Expectations'"
      ],
      "execution_count": null,
      "outputs": []
    },
    {
      "cell_type": "markdown",
      "metadata": {
        "id": "rTK0CoKuqD95"
      },
      "source": [
        "## Nesting Lists and Dictionaries"
      ]
    },
    {
      "cell_type": "code",
      "metadata": {
        "colab": {
          "base_uri": "https://localhost:8080/"
        },
        "id": "ttXyHu6dqJi1",
        "outputId": "43da1381-a3a5-4fa0-8eea-02bb28b44fc7"
      },
      "source": [
        "travel = {\"France\":[\"Paris\",\"Lille\",\"Dijon\"],\"age\": 12}\n",
        "print(travel)"
      ],
      "execution_count": 7,
      "outputs": [
        {
          "output_type": "stream",
          "name": "stdout",
          "text": [
            "{'France': ['Paris', 'Lille', 'Dijon'], 'age': 12}\n"
          ]
        }
      ]
    },
    {
      "cell_type": "code",
      "metadata": {
        "colab": {
          "base_uri": "https://localhost:8080/"
        },
        "id": "KCFAKrkFqaF3",
        "outputId": "8dee50d4-ec3c-477b-b2f5-bf0a7805eae2"
      },
      "source": [
        "print(travel[\"age\"])"
      ],
      "execution_count": 8,
      "outputs": [
        {
          "output_type": "stream",
          "name": "stdout",
          "text": [
            "12\n"
          ]
        }
      ]
    },
    {
      "cell_type": "code",
      "metadata": {
        "colab": {
          "base_uri": "https://localhost:8080/"
        },
        "id": "d3-iQKQAqdrm",
        "outputId": "7aff352c-50d4-42fc-d15f-8204dc34bb91"
      },
      "source": [
        "travel = {\"France\":{\"cities\":[\"Paris\",\"Lille\",\"Dijon\"],\"age\": 12},\"score\":12}\n",
        "print(travel)"
      ],
      "execution_count": 9,
      "outputs": [
        {
          "output_type": "stream",
          "name": "stdout",
          "text": [
            "{'France': {'cities': ['Paris', 'Lille', 'Dijon'], 'age': 12}, 'score': 12}\n"
          ]
        }
      ]
    },
    {
      "cell_type": "code",
      "metadata": {
        "colab": {
          "base_uri": "https://localhost:8080/"
        },
        "id": "F7R4hljbqtLe",
        "outputId": "7cf3198c-6529-4ddf-fddd-03070e1eb339"
      },
      "source": [
        "print(travel[\"France\"])"
      ],
      "execution_count": 10,
      "outputs": [
        {
          "output_type": "stream",
          "name": "stdout",
          "text": [
            "{'cities': ['Paris', 'Lille', 'Dijon'], 'age': 12}\n"
          ]
        }
      ]
    },
    {
      "cell_type": "code",
      "metadata": {
        "colab": {
          "base_uri": "https://localhost:8080/"
        },
        "id": "EWgWAqP7qyG1",
        "outputId": "aececc30-e6ee-400b-ff8a-6c882d028221"
      },
      "source": [
        "print(travel[\"France\"][\"cities\"])"
      ],
      "execution_count": 12,
      "outputs": [
        {
          "output_type": "stream",
          "name": "stdout",
          "text": [
            "['Paris', 'Lille', 'Dijon']\n"
          ]
        }
      ]
    },
    {
      "cell_type": "markdown",
      "metadata": {
        "id": "G25CmzlurhIY"
      },
      "source": [
        "### Nesting dictionary in a list"
      ]
    },
    {
      "cell_type": "code",
      "metadata": {
        "id": "GL0ulIM6q4--"
      },
      "source": [
        "list1 = [{\n",
        "             \"France\":{\"cities\":[\"Paris\",\"Lille\",\"Dijon\"],\"age\": 12},\"score\":12,\n",
        "          \"Ashik\":\"Mustak_Ahamed\",\n",
        "          },\n",
        "          {\n",
        "              \"Brazil\":[\"Sao Paulo\",\"Zenerio\"],\"Continent\": \"South America\",\n",
        "           \"age\":23\n",
        "          }\n",
        "        ]"
      ],
      "execution_count": 32,
      "outputs": []
    },
    {
      "cell_type": "code",
      "metadata": {
        "colab": {
          "base_uri": "https://localhost:8080/"
        },
        "id": "e41pRFCps5Re",
        "outputId": "9aacf4bd-4007-47fd-9056-8acde8d4e00f"
      },
      "source": [
        "print(list1)"
      ],
      "execution_count": 33,
      "outputs": [
        {
          "output_type": "stream",
          "name": "stdout",
          "text": [
            "[{'France': {'cities': ['Paris', 'Lille', 'Dijon'], 'age': 12}, 'score': 12, 'Ashik': 'Mustak_Ahamed'}, {'Brazil': ['Sao Paulo', 'Zenerio'], 'Continent': 'South America', 'age': 23}]\n"
          ]
        }
      ]
    },
    {
      "cell_type": "code",
      "metadata": {
        "colab": {
          "base_uri": "https://localhost:8080/"
        },
        "id": "_qpudm78tvf2",
        "outputId": "5ad2fa12-ea7d-45d8-a364-bde752064c72"
      },
      "source": [
        "print(list1[1][\"Brazil\"])"
      ],
      "execution_count": 35,
      "outputs": [
        {
          "output_type": "stream",
          "name": "stdout",
          "text": [
            "['Sao Paulo', 'Zenerio']\n"
          ]
        }
      ]
    },
    {
      "cell_type": "markdown",
      "metadata": {
        "id": "lGnqrS7G3NGz"
      },
      "source": [
        "#Challenge 2\n",
        "# Instructions\n",
        "\n",
        "You are going to write a program that adds to a `travel_log`. You can see a travel_log which is a **List** that contains 2 **Dictionaries**. \n",
        "\n",
        "Write a function that will work with the following line of code on line 21 to add the entry for Russia to the `travel_log`. \n",
        "\n",
        "```\n",
        "add_new_country(\"Russia\", 2, [\"Moscow\", \"Saint Petersburg\"])\n",
        "```\n",
        "\n",
        "> `You've visited Russia 2 times.`\n",
        "\n",
        "> `You've been to Moscow and Saint Petersburg.`\n",
        "\n",
        "**DO NOT** modify the `travel_log` directly. You need to create a function that modifies it. \n",
        "\n",
        "# Hint\n",
        "\n",
        "1. Look at the function call above to see what the name of the function should be.\n",
        "\n",
        "2. The inputs for the function are positional arguments. The order is very important.\n",
        "\n",
        "3. Feel free to choose your own parameter names.\n"
      ]
    },
    {
      "cell_type": "code",
      "metadata": {
        "colab": {
          "base_uri": "https://localhost:8080/"
        },
        "id": "PlHw_5kst1iV",
        "outputId": "3d80846b-b1dc-42f1-e02c-c6e8473bcbc3"
      },
      "source": [
        "travel_log = [\n",
        "{\n",
        "  \"country\": \"France\",\n",
        "  \"visits\": 12,\n",
        "  \"cities\": [\"Paris\", \"Lille\", \"Dijon\"]\n",
        "},\n",
        "{\n",
        "  \"country\": \"Germany\",\n",
        "  \"visits\": 5,\n",
        "  \"cities\": [\"Berlin\", \"Hamburg\", \"Stuttgart\"]\n",
        "},\n",
        "]\n",
        "#🚨 Do NOT change the code above\n",
        "\n",
        "#TODO: Write the function that will allow new countries\n",
        "#to be added to the travel_log. 👇\n",
        "def add_new_country(Country,times,place):\n",
        "  new = {}\n",
        "  new[\"country\"] = Country\n",
        "  new[\"visits\"] = times\n",
        "  new[\"cities\"] = place\n",
        "  travel_log.append(new)\n",
        "#🚨 Do not change the code below\n",
        "add_new_country(\"Russia\", 2, [\"Moscow\", \"Saint Petersburg\"])\n",
        "print(travel_log)"
      ],
      "execution_count": 38,
      "outputs": [
        {
          "output_type": "stream",
          "name": "stdout",
          "text": [
            "[{'country': 'France', 'visits': 12, 'cities': ['Paris', 'Lille', 'Dijon']}, {'country': 'Germany', 'visits': 5, 'cities': ['Berlin', 'Hamburg', 'Stuttgart']}, {'country': 'Russia', 'visits': 2, 'cities': ['Moscow', 'Saint Petersburg']}]\n"
          ]
        }
      ]
    },
    {
      "cell_type": "code",
      "metadata": {
        "colab": {
          "base_uri": "https://localhost:8080/"
        },
        "id": "PhR834k94yNO",
        "outputId": "8ce3932a-9738-4310-da4f-5d1250cb2653"
      },
      "source": [
        "order = {\n",
        "    \"starter\": {1: \"Salad\", 2: \"Soup\"},\n",
        "    \"main\": {1: [\"Burger\", \"Fries\"], 2: [\"Steak\"]},\n",
        "    \"dessert\": {1: [\"Ice Cream\"], 2: []},\n",
        "}\n",
        "print(order[\"main\"][2][0])"
      ],
      "execution_count": 39,
      "outputs": [
        {
          "output_type": "stream",
          "name": "stdout",
          "text": [
            "Steak\n"
          ]
        }
      ]
    },
    {
      "cell_type": "markdown",
      "metadata": {
        "id": "BSFL9z18BzbT"
      },
      "source": [
        "https://app.diagrams.net/?lightbox=1&highlight=0000ff&edit=_blank&layers=1&nav=1&title=Blind%20Auction%20Flow%20Chart#R3VnbcpswEP0aPzYDCLB5tHNrZ9pMpu6kzaMMilEDiBHyLV%2FfFYirHMdp7JD4JUGrXV3Ont2V5AE6j9fXHKfhDxaQaGAZwXqALgaWZRqmAf%2BkZFNIHM8qBHNOA6VUC6b0iZSWSrqgAclaioKxSNC0LfRZkhBftGSYc7Zqqz2wqD1riudEE0x9HOnS3zQQoZK6jl13fCV0HpZTm65X9MS41FZbyUIcsFVDhC4H6JwzJoqveH1OIoleCUxhd%2FVMb7UyThKxj8Hs4R5fx%2BMlu%2F52dxPepdM7H31BxShLHC3UjtVixaaEgASAiGoyLkI2ZwmOLmvphLNFEhA5jQGtWuc7YykITRD%2BJUJslHvxQjAQhSKOVG8xp5zo2b0pUcYW3Cc7NlSSBPM5ETv0rMoDwF3CYiL4Buw4ibCgy%2FY6sCLRvNKrYYYPhfQrUDc11Ke%2Fxj9%2FadDXwEqUViEVZJrifP8riLdtIC4JF2S9G0Z928rAHimuqmi1VXNVU99TorBBemQcCSfn1Nhp7clOu092Wjo7Q0hclhEBcDKJchbn6VWcpZsPx1mvZ84OT42z9p6cdfvkrK2hPs4e84LP4e8NjokcIUkXon%2FCOk6LsKajM9a0t1DWPhZlvVOjrLsnZUd9UtbdSdkJ2FrGLaew0Y%2FG2OpI2xtjTf0E9ckp%2B1YqKtNbRmHmynOO1fYcGnU8UoSIsuo4pVrG%2F%2FtppHM8COqEjJOgojqsQB4usLwsUl9QcESOAKwUIjmU6o9kUxnlQ54NLBfHkvDJLEsrh%2FQZKmh41gmWLQcSc%2BjoweIcLVhGfcQGWVPxR5nL7%2FuG%2FGLd6LjYlI0EdpubAISqed%2Fsq83yVml3wCg00Z6VwxweIl7HnONNQyGVcZg9H872yGxxy%2B5e%2BTv6yHN26cNHsYKDxnwFdi90Mxt0Uzw6CcI1noz6eLDQ34mKwwp9KLIzz9N5%2FpfJ5kCu141gR5MZNNy5%2FFpkhMtsvgplpl%2FhnKp51p%2FJEtBN3SGLZ4usp7RdVcqX0na3oh4Oc%2F2AeE8yDSbYtGjjgSM6T%2BDbh82DJ9BEQkN9HI1VR0yDoIg6ktEnPMuHksRW%2BQfGdSYD50KOBYGWFTF3IKiRZ7dzkmFrQG87S1pHw9nrtTxWOeo1BbKVrerk9Q75arhnvnrrC9b2gmZ1HnvQcL%2Fz7GsLbbdwOvbuQttd12v1zeE7FGZTf5o6jwjm1fk68zkhiZ6I3%2FkMjZzOK%2FSWVLztSe9ot80y9TSAu6L5LaTALYQ1kEyUdQyuMlVX%2ByqT2wTEj4pKCSpx%2B4azokkii2fPHnCGL3vA9LYUQ%2FdoLrA0F9ywT18LXdTB2dBxRoephdCsf2osMkr9iy26%2FAc%3D"
      ]
    },
    {
      "cell_type": "code",
      "metadata": {
        "colab": {
          "base_uri": "https://localhost:8080/"
        },
        "id": "dGbQ_btY7EPN",
        "outputId": "1af4da44-7247-46cc-af72-dd2f6f0ee3db"
      },
      "source": [
        "logo = '''\n",
        "                         ___________\n",
        "                         \\         /\n",
        "                          )_______(\n",
        "                          |\"\"\"\"\"\"\"|_.-._,.---------.,_.-._\n",
        "                          |       | | |               | | ''-.\n",
        "                          |       |_| |_             _| |_..-'\n",
        "                          |_______| '-' `'---------'` '-'\n",
        "                          )\"\"\"\"\"\"\"(\n",
        "                         /_________\\\\\n",
        "                       .-------------.\n",
        "                      /_______________\\\\\n",
        "'''\n",
        "print(logo)\n",
        "bidder_ache = True\n",
        "diction = {}\n",
        "while bidder_ache:\n",
        "  name = input(\"Enter Your name: \")\n",
        "  bid_amount = int(input(\"Enter bid amount: \"))\n",
        "  diction[name] = bid_amount\n",
        "  abar = input(\"Enter Yes for more bidder NO for end of bidders: \").lower()\n",
        "  if not abar == 'yes':\n",
        "    bidder_ache = False\n",
        "heighest_bid = 0\n",
        "for i in diction:\n",
        "  if diction[i]> heighest_bid:\n",
        "    heighest_bid = diction[i]\n",
        "    winner = i\n",
        "print(f\"Winner name {winner} and bid amount was {heighest_bid}\")\n"
      ],
      "execution_count": 43,
      "outputs": [
        {
          "output_type": "stream",
          "name": "stdout",
          "text": [
            "\n",
            "                         ___________\n",
            "                         \\         /\n",
            "                          )_______(\n",
            "                          |\"\"\"\"\"\"\"|_.-._,.---------.,_.-._\n",
            "                          |       | | |               | | ''-.\n",
            "                          |       |_| |_             _| |_..-'\n",
            "                          |_______| '-' `'---------'` '-'\n",
            "                          )\"\"\"\"\"\"\"(\n",
            "                         /_________\\\n",
            "                       .-------------.\n",
            "                      /_______________\\\n",
            "\n",
            "Enter Your name: Ashik\n",
            "Enter bid amount: 89\n",
            "Enter Yes for more bidder NO for end of bidders: yes\n",
            "Enter Your name: Rasel\n",
            "Enter bid amount: 56\n",
            "Enter Yes for more bidder NO for end of bidders: yes\n",
            "Enter Your name: Hayat\n",
            "Enter bid amount: 34\n",
            "Enter Yes for more bidder NO for end of bidders: yes\n",
            "Enter Your name: Hayat\n",
            "Enter bid amount: 65\n",
            "Enter Yes for more bidder NO for end of bidders: no\n",
            "Winner name Ashik and bid amount was 89\n"
          ]
        }
      ]
    },
    {
      "cell_type": "code",
      "metadata": {
        "colab": {
          "base_uri": "https://localhost:8080/"
        },
        "id": "Qs13RtLw-ZE1",
        "outputId": "a606adf2-7e6b-4f41-db50-021c9240445d"
      },
      "source": [
        "bids = {}\n",
        "bidding_finished = False\n",
        "\n",
        "def find_highest_bidder(bidding_record):\n",
        "  highest_bid = 0\n",
        "  winner = \"\"\n",
        "  # bidding_record = {\"Angela\": 123, \"James\": 321}\n",
        "  for bidder in bidding_record:\n",
        "    bid_amount = bidding_record[bidder]\n",
        "    if bid_amount > highest_bid: \n",
        "      highest_bid = bid_amount\n",
        "      winner = bidder\n",
        "  print(f\"The winner is {winner} with a bid of ${highest_bid}\")\n",
        "\n",
        "while not bidding_finished:\n",
        "  name = input(\"What is your name?: \")\n",
        "  price = int(input(\"What is your bid?: $\"))\n",
        "  bids[name] = price\n",
        "  should_continue = input(\"Are there any other bidders? Type 'yes or 'no'.\\n\")\n",
        "  if should_continue == \"no\":\n",
        "    bidding_finished = True\n",
        "    find_highest_bidder(bids)"
      ],
      "execution_count": 46,
      "outputs": [
        {
          "output_type": "stream",
          "name": "stdout",
          "text": [
            "What is your name?: ashik\n",
            "What is your bid?: $56\n",
            "Are there any other bidders? Type 'yes or 'no'.\n",
            "yes\n",
            "What is your name?: 34\n",
            "What is your bid?: $34\n",
            "Are there any other bidders? Type 'yes or 'no'.\n",
            "yes\n",
            "What is your name?: rasel\n",
            "What is your bid?: $23\n",
            "Are there any other bidders? Type 'yes or 'no'.\n",
            "no\n",
            "The winner is ashik with a bid of $56\n"
          ]
        }
      ]
    },
    {
      "cell_type": "code",
      "metadata": {
        "id": "3CRL_4DBCBN1"
      },
      "source": [
        ""
      ],
      "execution_count": null,
      "outputs": []
    }
  ]
}