{
  "nbformat": 4,
  "nbformat_minor": 0,
  "metadata": {
    "colab": {
      "name": "Day-008.ipynb",
      "provenance": [],
      "authorship_tag": "ABX9TyP/IQGVBeojhfgdrQQQM8Zt",
      "include_colab_link": true
    },
    "kernelspec": {
      "name": "python3",
      "display_name": "Python 3"
    },
    "language_info": {
      "name": "python"
    }
  },
  "cells": [
    {
      "cell_type": "markdown",
      "metadata": {
        "id": "view-in-github",
        "colab_type": "text"
      },
      "source": [
        "<a href=\"https://colab.research.google.com/github/Mustak-Ahamed-Ashik/100-days-of-Python-Code/blob/main/Day_008.ipynb\" target=\"_parent\"><img src=\"https://colab.research.google.com/assets/colab-badge.svg\" alt=\"Open In Colab\"/></a>"
      ]
    },
    {
      "cell_type": "markdown",
      "metadata": {
        "id": "ojsNQ4ImC3wP"
      },
      "source": [
        "#Function Parameter and Caesar Cipher\n",
        "##Introduction"
      ]
    },
    {
      "cell_type": "code",
      "metadata": {
        "colab": {
          "base_uri": "https://localhost:8080/"
        },
        "id": "7WhVAwsuCH5Q",
        "outputId": "f516fcce-c40b-4eb5-b38e-3c8ed19e01d0"
      },
      "source": [
        "def Ashik_Ahmed():\n",
        "  print(\"Mustak_Ahamed_Ashik\")\n",
        "Ashik_Ahmed()"
      ],
      "execution_count": null,
      "outputs": [
        {
          "output_type": "stream",
          "name": "stdout",
          "text": [
            "Mustak_Ahamed_Ashik\n"
          ]
        }
      ]
    },
    {
      "cell_type": "code",
      "metadata": {
        "colab": {
          "base_uri": "https://localhost:8080/"
        },
        "id": "0v9AmclRDGav",
        "outputId": "7e9dfbe7-bdeb-483e-d238-18d14a6d24ee"
      },
      "source": [
        "def Ashik_Ahmed(num):\n",
        "  print(5*\"Mustak_Ahamed_Ashik\\n\")\n",
        "Ashik_Ahmed(5)\n",
        "#Here num is the parameter.And 5 is the argument cause it is the real value for calculation"
      ],
      "execution_count": null,
      "outputs": [
        {
          "output_type": "stream",
          "name": "stdout",
          "text": [
            "Mustak_Ahamed_Ashik\n",
            "Mustak_Ahamed_Ashik\n",
            "Mustak_Ahamed_Ashik\n",
            "Mustak_Ahamed_Ashik\n",
            "Mustak_Ahamed_Ashik\n",
            "\n"
          ]
        }
      ]
    },
    {
      "cell_type": "code",
      "metadata": {
        "colab": {
          "base_uri": "https://localhost:8080/"
        },
        "id": "mkvi-1HlDOD3",
        "outputId": "54efc699-74f4-4656-b454-c78f0c34e70c"
      },
      "source": [
        "def film(name,duration):\n",
        "  print(f\"Name of the movie {name}\")\n",
        "  print(f\"Total duration of the movie {duration}\")\n",
        "film(\"Asuran\",3)\n"
      ],
      "execution_count": null,
      "outputs": [
        {
          "output_type": "stream",
          "name": "stdout",
          "text": [
            "Name of the movie Asuran\n",
            "Total duration of the movie 3\n"
          ]
        }
      ]
    },
    {
      "cell_type": "code",
      "metadata": {
        "colab": {
          "base_uri": "https://localhost:8080/"
        },
        "id": "OEDnwueiEch-",
        "outputId": "e260791a-eebe-4cec-ad45-2b877bc148a7"
      },
      "source": [
        "#Simple Function\n",
        "def greet():\n",
        "  print(\"Hello Angela\")\n",
        "  print(\"How do you do Jack Bauer?\")\n",
        "  print(\"Isn't the weather nice today?\")\n",
        "greet()\n",
        "\n",
        "#Function that allows for input\n",
        "#'name' is the parameter.\n",
        "#'Jack Bauer' is the argument.\n",
        "def greet_with_name(name):\n",
        "  print(f\"Hello {name}\")\n",
        "  print(f\"How do you do {name}?\")\n",
        "greet_with_name(\"Jack Bauer\")\n",
        "\n",
        "#Functions with more than 1 input\n",
        "def greet_with(name, location):\n",
        "  print(f\"Hello {name}\")\n",
        "  print(f\"What is it like in {location}?\")\n",
        "\n",
        "#Calling greet_with() with Positional Arguments\n",
        "greet_with(\"Jack Bauer\", \"Nowhere\")\n",
        "#vs.\n",
        "greet_with(\"Nowhere\", \"Jack Bauer\")\n",
        "\n",
        "\n",
        "#Calling greet_with() with Keyword Arguments\n",
        "greet_with(location=\"London\", name=\"Angela\")"
      ],
      "execution_count": null,
      "outputs": [
        {
          "output_type": "stream",
          "name": "stdout",
          "text": [
            "Hello Angela\n",
            "How do you do Jack Bauer?\n",
            "Isn't the weather nice today?\n",
            "Hello Jack Bauer\n",
            "How do you do Jack Bauer?\n",
            "Hello Jack Bauer\n",
            "What is it like in Nowhere?\n",
            "Hello Nowhere\n",
            "What is it like in Jack Bauer?\n",
            "Hello Angela\n",
            "What is it like in London?\n"
          ]
        }
      ]
    },
    {
      "cell_type": "markdown",
      "metadata": {
        "id": "2gWa71CEGA0t"
      },
      "source": [
        "## Area Calc\n",
        "\n",
        "# Instructions\n",
        "\n",
        "You are painting a wall. The instructions on the paint can says that **1 can of paint can cover 5 square meters** of wall. Given a random height and width of wall, calculate how many cans of paint you'll need to buy.\n",
        "\n",
        "number of cans = (wall height ✖️ wall width) ÷ coverage per can. \n",
        "\n",
        "e.g. Height = 2, Width = 4, Coverage = 5\n",
        "\n",
        "number of cans = (2 ✖️ 4) ÷ 5 \n",
        "\n",
        "                         = 1.6\n",
        "\n",
        "But because you can't buy 0.6 of a can of paint, the **result should be rounded up** to **2** cans. \n",
        "\n",
        "IMPORTANT: Notice the name of the function and parameters must match those on line 13 for the code to work.\n",
        "\n",
        "# Example Input\n",
        "\n",
        "```\n",
        "test_h = 3\n",
        "```\n",
        "\n",
        "```\n",
        "test_w = 9\n",
        "```\n",
        "\n",
        "# Example Output\n",
        "\n",
        "```\n",
        "You'll need 6 cans of paint.\n",
        "```\n",
        "\n",
        "   \n",
        "\n",
        "# Hint\n",
        "\n",
        "**1. To round up a number**: \n",
        "\n",
        "[https://stackoverflow.com/questions/2356501/how-do-you-round-up-a-number-in-python](https://stackoverflow.com/questions/2356501/how-do-you-round-up-a-number-in-python)\n",
        "\n",
        "2. Make sure you name your function/parameters the same as when it's called on the last line of code. "
      ]
    },
    {
      "cell_type": "code",
      "metadata": {
        "colab": {
          "base_uri": "https://localhost:8080/"
        },
        "id": "s3kTAMIIFpKf",
        "outputId": "babdc5f8-1854-431b-aa77-e65ab7bac8dc"
      },
      "source": [
        "test_h = int(input(\"Height of wall: \"))\n",
        "test_w = int(input(\"Width of wall: \"))\n",
        "coverage = 5\n",
        "def paint_calc(height,width,cover):\n",
        "  cans= int((height * width) /coverage)+1\n",
        "  print(f\"You'll need {cans} cans of paint.\")\n",
        "paint_calc(height=test_h, width=test_w, cover=coverage)"
      ],
      "execution_count": null,
      "outputs": [
        {
          "output_type": "stream",
          "name": "stdout",
          "text": [
            "Height of wall: 3\n",
            "Width of wall: 9\n",
            "You'll need 6 cans of paint.\n"
          ]
        }
      ]
    },
    {
      "cell_type": "code",
      "metadata": {
        "colab": {
          "base_uri": "https://localhost:8080/"
        },
        "id": "tr2CyXcTGtXI",
        "outputId": "13ec16cc-a3b7-4184-b84a-0bc6936d26bc"
      },
      "source": [
        "round(5.4),round(5.5),round(5.6)"
      ],
      "execution_count": null,
      "outputs": [
        {
          "output_type": "execute_result",
          "data": {
            "text/plain": [
              "(5, 6, 6)"
            ]
          },
          "metadata": {},
          "execution_count": 21
        }
      ]
    },
    {
      "cell_type": "code",
      "metadata": {
        "colab": {
          "base_uri": "https://localhost:8080/"
        },
        "id": "NbiyplWsIZVv",
        "outputId": "aa1ec15f-d1ce-4ed4-909e-e1058780f923"
      },
      "source": [
        "int(5.4), int(5.5),int(5.6)"
      ],
      "execution_count": null,
      "outputs": [
        {
          "output_type": "execute_result",
          "data": {
            "text/plain": [
              "(5, 5, 5)"
            ]
          },
          "metadata": {},
          "execution_count": 22
        }
      ]
    },
    {
      "cell_type": "markdown",
      "metadata": {
        "id": "J4EnaxHHJOY8"
      },
      "source": [
        "## Prime Numbers\n",
        "# Instructions\n",
        "\n",
        "Prime numbers are numbers that can only be cleanly divided by itself and 1. \n",
        "\n",
        "[https://en.wikipedia.org/wiki/Prime_number](https://en.wikipedia.org/wiki/Prime_number)\n",
        "\n",
        "\n",
        "**You need to write a function** that checks whether if the number passed into it is a prime number or not.\n",
        "\n",
        "e.g. 2 is a prime number because it's only divisible by 1 and 2.\n",
        "\n",
        "But 4 is not a prime number because you can divide it by 1, 2 or 4.\n",
        "\n",
        " \n",
        " ![](https://cdn.fs.teachablecdn.com/s0gceS97QD6MP5RUT49H)\n",
        "\n",
        "Here are the numbers up to 100, prime numbers are highlighted in yellow:\n",
        "\n",
        "![](https://cdn.fs.teachablecdn.com/NZqVclSt2qAe8KhTsUtw)\n",
        "\n",
        "# Example Input 1\n",
        "\n",
        "```\n",
        "73\n",
        "```\n",
        "\n",
        "# Example Output 1\n",
        "\n",
        "```\n",
        "It's a prime number.\n",
        "```\n",
        "\n",
        "# Example Input 2\n",
        "\n",
        "```\n",
        "75\n",
        "```\n",
        "\n",
        "# Example Output 2\n",
        "\n",
        "```\n",
        "It's not a prime number.\n",
        "```\n",
        "\n",
        "# Hint\n",
        "\n",
        "1. Remember the modulus: \n",
        "\n",
        "[https://stackoverflow.com/questions/4432208/what-is-the-result-of-in-python](https://stackoverflow.com/questions/4432208/what-is-the-result-of-in-python)\n",
        "\n",
        "2. Make sure you name your function/parameters the same as when it's called on the last line of code. \n",
        "\n",
        "3. Use the same wording as the Example Outputs to make sure the tests pass. \n",
        "\n"
      ]
    },
    {
      "cell_type": "code",
      "metadata": {
        "id": "-M2MNcb1Ikz3"
      },
      "source": [
        ""
      ],
      "execution_count": null,
      "outputs": []
    },
    {
      "cell_type": "code",
      "metadata": {
        "colab": {
          "base_uri": "https://localhost:8080/"
        },
        "id": "ZOoQq5t3JI3f",
        "outputId": "01e69d8f-fbca-438b-e75c-62e90d52e0c6"
      },
      "source": [
        "def prime_checker(number):\n",
        "  prime = True\n",
        "  for i in range(2,number):\n",
        "\n",
        "    if (number % i) == 0:\n",
        "      prime = False\n",
        "  if prime == True:\n",
        "    print(\"This is a prime number\")\n",
        "  else:\n",
        "    print(\"This is not a prime number\")\n",
        "n = int(input(\"Check this number: \"))\n",
        "prime_checker(number=n)\n"
      ],
      "execution_count": null,
      "outputs": [
        {
          "output_type": "stream",
          "name": "stdout",
          "text": [
            "Check this number: 47\n",
            "This is a prime number\n"
          ]
        }
      ]
    },
    {
      "cell_type": "markdown",
      "metadata": {
        "id": "gNhahskEMPl8"
      },
      "source": [
        "#Caesar Cipher\n",
        "##Encryption"
      ]
    },
    {
      "cell_type": "code",
      "metadata": {
        "id": "DNRIpFy_KyQB"
      },
      "source": [
        "#TODO-1: Create a function called 'encrypt' that takes the 'text' and 'shift' as inputs.\n",
        "def encrypt(text,shift):\n",
        "  cipher_text = \"\"\n",
        "  for i in text:\n",
        "    pos = alphabet.index(i)\n",
        "    pos = pos+shift\n",
        "    if pos>26:\n",
        "      new = alphabet[pos-26]\n",
        "    else:\n",
        "      new = alphabet[pos]\n",
        "    cipher_text += new\n",
        "  print(f\"The encoded text is {cipher_text}\")\n",
        "\n",
        "    #TODO-2: Inside the 'encrypt' function, shift each letter of the 'text' forwards in the alphabet by the shift amount and print the encrypted text.  \n",
        "    #e.g. \n",
        "    #plain_text = \"hello\"\n",
        "    #shift = 5\n",
        "    #cipher_text = \"mjqqt\"\n",
        "    #print output: \"The encoded text is mjqqt\"\n",
        "\n",
        "    ##HINT: How do you get the index of an item in a list:\n",
        "    #https://stackoverflow.com/questions/176918/finding-the-index-of-an-item-in-a-list\n",
        "\n",
        "    ##🐛Bug alert: What happens if you try to encode the word 'civilization'?🐛\n",
        "\n",
        "#TODO-3: Call the encrypt function and pass in the user inputs. You should be able to test the code and encrypt a message. "
      ],
      "execution_count": 49,
      "outputs": []
    },
    {
      "cell_type": "markdown",
      "metadata": {
        "id": "V2djJBYfkLis"
      },
      "source": [
        "##Decryption"
      ]
    },
    {
      "cell_type": "code",
      "metadata": {
        "id": "5Q_ezoOoNa3Z"
      },
      "source": [
        "#TODO-1: Create a function called 'encrypt' that takes the 'text' and 'shift' as inputs.\n",
        "def decrypt(text,shift):\n",
        "  cipher_text = \"\"\n",
        "  for i in text:\n",
        "    pos = alphabet.index(i)\n",
        "    pos = pos-shift\n",
        "    if pos<0:\n",
        "      new = alphabet[26+pos]\n",
        "    else:\n",
        "      new = alphabet[pos]\n",
        "    cipher_text += new\n",
        "  print(f\"The decoded text is {cipher_text}\")\n",
        "\n"
      ],
      "execution_count": 50,
      "outputs": []
    },
    {
      "cell_type": "code",
      "metadata": {
        "colab": {
          "base_uri": "https://localhost:8080/"
        },
        "id": "vYvCMnM9k5UA",
        "outputId": "85728944-94b3-4df3-c029-b146e85ec524"
      },
      "source": [
        "alphabet = ['a', 'b', 'c', 'd', 'e', 'f', 'g', 'h', 'i', 'j', 'k', 'l', 'm', 'n', 'o', 'p', 'q', 'r', 's', 't', 'u', 'v', 'w', 'x', 'y', 'z']\n",
        "direction = input(\"Type 'encode' to encrypt, type 'decode' to decrypt:\\n\")\n",
        "text = input(\"Type your message:\\n\").lower()\n",
        "shift = int(input(\"Type the shift number:\\n\"))\n",
        "\n",
        "if direction == 'encode':\n",
        "  encrypt(text,shift)\n",
        "elif direction == 'decode':\n",
        "  decrypt(text,shift)"
      ],
      "execution_count": 52,
      "outputs": [
        {
          "output_type": "stream",
          "name": "stdout",
          "text": [
            "Type 'encode' to encrypt, type 'decode' to decrypt:\n",
            "decode\n",
            "Type your message:\n",
            "ezqz\n",
            "Type the shift number:\n",
            "5\n",
            "The decoded text is zulu\n"
          ]
        }
      ]
    },
    {
      "cell_type": "markdown",
      "metadata": {
        "id": "XBq2SoC2oQ56"
      },
      "source": [
        "##Combined into one"
      ]
    },
    {
      "cell_type": "code",
      "metadata": {
        "id": "5OMIGenGmMsp",
        "colab": {
          "base_uri": "https://localhost:8080/"
        },
        "outputId": "f0e643ff-4667-42bb-b1a3-70cbd17a91ed"
      },
      "source": [
        "def caesar_cipher(text, shift, direction):\n",
        "  cipher_text = \"\"\n",
        "  for i in text:\n",
        "    pos = alphabet.index(i)\n",
        "    if direction == 'encode':\n",
        "      pos = pos+shift\n",
        "      if pos>26:\n",
        "        new = alphabet[pos-26]\n",
        "      else:\n",
        "        new = alphabet[pos]\n",
        "    elif direction == 'decode':\n",
        "      pos = pos-shift\n",
        "      if pos<0:\n",
        "        new = alphabet[26+pos]\n",
        "      else:\n",
        "        new = alphabet[pos]\n",
        "    cipher_text += new\n",
        "  print(f\"The encoded text is {cipher_text}\")\n",
        "alphabet = ['a', 'b', 'c', 'd', 'e', 'f', 'g', 'h', 'i', 'j', 'k', 'l', 'm', 'n', 'o', 'p', 'q', 'r', 's', 't', 'u', 'v', 'w', 'x', 'y', 'z']\n",
        "direction = input(\"Type 'encode' to encrypt, type 'decode' to decrypt:\\n\")\n",
        "text = input(\"Type your message:\\n\").lower()\n",
        "shift = int(input(\"Type the shift number:\\n\"))\n",
        "caesar_cipher(text,shift,direction)"
      ],
      "execution_count": 56,
      "outputs": [
        {
          "output_type": "stream",
          "name": "stdout",
          "text": [
            "Type 'encode' to encrypt, type 'decode' to decrypt:\n",
            "encode\n",
            "Type your message:\n",
            "hello\n",
            "Type the shift number:\n",
            "5\n",
            "The encoded text is mjqqt\n"
          ]
        }
      ]
    },
    {
      "cell_type": "code",
      "metadata": {
        "colab": {
          "base_uri": "https://localhost:8080/"
        },
        "id": "kiHbLfZlpXA4",
        "outputId": "da171b08-d830-43d4-eead-73e86a8c44f1"
      },
      "source": [
        "#Another solution\n",
        "def caesar(text, shift, direction):\n",
        "  new_txt = \"\"\n",
        "  if direction == 'decode':\n",
        "      shift = -shift\n",
        "  for i in text:\n",
        "    pos = alphabet.index(i)\n",
        "    new_pos = pos+shift\n",
        "    new_txt += alphabet[new_pos]\n",
        "  print(f\"The {direction}d text is {new_txt}\")\n",
        "alphabet = ['a', 'b', 'c', 'd', 'e', 'f', 'g', 'h', 'i', 'j', 'k', 'l', 'm', 'n', 'o', 'p', 'q', 'r', 's', 't', 'u', 'v', 'w', 'x', 'y', 'z',\n",
        "            'a', 'b', 'c', 'd', 'e', 'f', 'g', 'h', 'i', 'j', 'k', 'l', 'm', 'n', 'o', 'p', 'q', 'r', 's', 't', 'u', 'v', 'w', 'x', 'y', 'z']\n",
        "direction = input(\"Type 'encode' to encrypt, type 'decode' to decrypt:\\n\")\n",
        "text = input(\"Type your message:\\n\").lower()\n",
        "shift = int(input(\"Type the shift number:\\n\"))\n",
        "caesar(text, shift, direction)"
      ],
      "execution_count": 75,
      "outputs": [
        {
          "output_type": "stream",
          "name": "stdout",
          "text": [
            "Type 'encode' to encrypt, type 'decode' to decrypt:\n",
            "encode\n",
            "Type your message:\n",
            "hello\n",
            "Type the shift number:\n",
            "5\n",
            "The encoded text is mjqqt\n"
          ]
        }
      ]
    },
    {
      "cell_type": "markdown",
      "metadata": {
        "id": "zqjD3z-ZxFy6"
      },
      "source": [
        "#Final Solution"
      ]
    },
    {
      "cell_type": "code",
      "metadata": {
        "colab": {
          "base_uri": "https://localhost:8080/"
        },
        "id": "2HvwXBaUudTW",
        "outputId": "3524514c-6933-46d7-9f11-2066592f4eb0"
      },
      "source": [
        "\n",
        "logo = \"\"\"           \n",
        " ,adPPYba, ,adPPYYba,  ,adPPYba, ,adPPYba, ,adPPYYba, 8b,dPPYba,  \n",
        "a8\"     \"\" \"\"     `Y8 a8P_____88 I8[    \"\" \"\"     `Y8 88P'   \"Y8  \n",
        "8b         ,adPPPPP88 8PP\"\"\"\"\"\"\"  `\"Y8ba,  ,adPPPPP88 88          \n",
        "\"8a,   ,aa 88,    ,88 \"8b,   ,aa aa    ]8I 88,    ,88 88          \n",
        " `\"Ybbd8\"' `\"8bbdP\"Y8  `\"Ybbd8\"' `\"YbbdP\"' `\"8bbdP\"Y8 88   \n",
        "            88             88                                 \n",
        "           \"\"             88                                 \n",
        "                          88                                 \n",
        " ,adPPYba, 88 8b,dPPYba,  88,dPPYba,   ,adPPYba, 8b,dPPYba,  \n",
        "a8\"     \"\" 88 88P'    \"8a 88P'    \"8a a8P_____88 88P'   \"Y8  \n",
        "8b         88 88       d8 88       88 8PP\"\"\"\"\"\"\" 88          \n",
        "\"8a,   ,aa 88 88b,   ,a8\" 88       88 \"8b,   ,aa 88          \n",
        " `\"Ybbd8\"' 88 88`YbbdP\"'  88       88  `\"Ybbd8\"' 88          \n",
        "              88                                             \n",
        "              88           \n",
        "\"\"\"\n",
        "alphabet = ['a', 'b', 'c', 'd', 'e', 'f', 'g', 'h', 'i', 'j', 'k', 'l', 'm', 'n', 'o', 'p', 'q', 'r', 's', 't', 'u', 'v', 'w', 'x', 'y', 'z', 'a', 'b', 'c', 'd', 'e', 'f', 'g', 'h', 'i', 'j', 'k', 'l', 'm', 'n', 'o', 'p', 'q', 'r', 's', 't', 'u', 'v', 'w', 'x', 'y', 'z']\n",
        "\n",
        "def caesar(start_text, shift_amount, cipher_direction):\n",
        "  end_text = \"\"\n",
        "  if cipher_direction == \"decode\":\n",
        "    shift_amount *= -1\n",
        "  for char in start_text:\n",
        "    #TODO-3: What happens if the user enters a number/symbol/space?\n",
        "    #Can you fix the code to keep the number/symbol/space when the text is encoded/decoded?\n",
        "    #e.g. start_text = \"meet me at 3\"\n",
        "    #end_text = \"•••• •• •• 3\"\n",
        "    if char in alphabet:\n",
        "      position = alphabet.index(char)\n",
        "      new_position = position + shift_amount\n",
        "      end_text += alphabet[new_position]\n",
        "    else:\n",
        "      end_text += char\n",
        "  print(f\"Here's the {cipher_direction}d result: {end_text}\")\n",
        "\n",
        "#TODO-1: Import and print the logo from art.py when the program starts.\n",
        "print(logo)\n",
        "\n",
        "#TODO-4: Can you figure out a way to ask the user if they want to restart the cipher program?\n",
        "#e.g. Type 'yes' if you want to go again. Otherwise type 'no'.\n",
        "#If they type 'yes' then ask them for the direction/text/shift again and call the caesar() function again?\n",
        "#Hint: Try creating a while loop that continues to execute the program if the user types 'yes'.\n",
        "should_end = False\n",
        "while not should_end:\n",
        "\n",
        "  direction = input(\"Type 'encode' to encrypt, type 'decode' to decrypt:\\n\")\n",
        "  text = input(\"Type your message:\\n\").lower()\n",
        "  shift = int(input(\"Type the shift number:\\n\"))\n",
        "  #TODO-2: What if the user enters a shift that is greater than the number of letters in the alphabet?\n",
        "  #Try running the program and entering a shift number of 45.\n",
        "  #Add some code so that the program continues to work even if the user enters a shift number greater than 26. \n",
        "  #Hint: Think about how you can use the modulus (%).\n",
        "  shift = shift % 26\n",
        "\n",
        "  caesar(start_text=text, shift_amount=shift, cipher_direction=direction)\n",
        "\n",
        "  restart = input(\"Type 'yes' if you want to go again. Otherwise type 'no'.\\n\")\n",
        "  if restart == \"no\":\n",
        "    should_end = True\n",
        "    print(\"Goodbye\")\n",
        "    \n",
        "\n",
        "\n"
      ],
      "execution_count": 77,
      "outputs": [
        {
          "output_type": "stream",
          "name": "stdout",
          "text": [
            "           \n",
            " ,adPPYba, ,adPPYYba,  ,adPPYba, ,adPPYba, ,adPPYYba, 8b,dPPYba,  \n",
            "a8\"     \"\" \"\"     `Y8 a8P_____88 I8[    \"\" \"\"     `Y8 88P'   \"Y8  \n",
            "8b         ,adPPPPP88 8PP\"  `\"Y8ba,  ,adPPPPP88 88          \n",
            "\"8a,   ,aa 88,    ,88 \"8b,   ,aa aa    ]8I 88,    ,88 88          \n",
            " `\"Ybbd8\"' `\"8bbdP\"Y8  `\"Ybbd8\"' `\"YbbdP\"' `\"8bbdP\"Y8 88   \n",
            "            88             88                                 \n",
            "           \"\"             88                                 \n",
            "                          88                                 \n",
            " ,adPPYba, 88 8b,dPPYba,  88,dPPYba,   ,adPPYba, 8b,dPPYba,  \n",
            "a8\"     \"\" 88 88P'    \"8a 88P'    \"8a a8P_____88 88P'   \"Y8  \n",
            "8b         88 88       d8 88       88 8PP\" 88          \n",
            "\"8a,   ,aa 88 88b,   ,a8\" 88       88 \"8b,   ,aa 88          \n",
            " `\"Ybbd8\"' 88 88`YbbdP\"'  88       88  `\"Ybbd8\"' 88          \n",
            "              88                                             \n",
            "              88           \n",
            "\n",
            "Type 'encode' to encrypt, type 'decode' to decrypt:\n",
            "decode\n",
            "Type your message:\n",
            "mjqqt\n",
            "Type the shift number:\n",
            "5\n",
            "Here's the decoded result: hello\n",
            "Type 'yes' if you want to go again. Otherwise type 'no'.\n",
            "no\n",
            "Goodbye\n"
          ]
        }
      ]
    },
    {
      "cell_type": "code",
      "metadata": {
        "id": "jpVaTcfVxsJZ"
      },
      "source": [
        ""
      ],
      "execution_count": null,
      "outputs": []
    }
  ]
}