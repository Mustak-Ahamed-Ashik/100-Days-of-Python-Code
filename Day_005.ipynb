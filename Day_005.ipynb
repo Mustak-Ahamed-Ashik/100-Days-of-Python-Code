{
  "nbformat": 4,
  "nbformat_minor": 0,
  "metadata": {
    "colab": {
      "name": "Day-005.ipynb",
      "provenance": [],
      "authorship_tag": "ABX9TyPwfgeJw2A6M8/xroJtTpRR",
      "include_colab_link": true
    },
    "kernelspec": {
      "name": "python3",
      "display_name": "Python 3"
    },
    "language_info": {
      "name": "python"
    }
  },
  "cells": [
    {
      "cell_type": "markdown",
      "metadata": {
        "id": "view-in-github",
        "colab_type": "text"
      },
      "source": [
        "<a href=\"https://colab.research.google.com/github/Mustak-Ahamed-Ashik/100-days-of-Python-Code/blob/main/Day_005.ipynb\" target=\"_parent\"><img src=\"https://colab.research.google.com/assets/colab-badge.svg\" alt=\"Open In Colab\"/></a>"
      ]
    },
    {
      "cell_type": "markdown",
      "metadata": {
        "id": "CFtqpqWNa8i4"
      },
      "source": [
        "#Python Loops"
      ]
    },
    {
      "cell_type": "code",
      "metadata": {
        "colab": {
          "base_uri": "https://localhost:8080/"
        },
        "id": "1pdqHFCZaBMp",
        "outputId": "989b4f25-64e2-443e-dceb-aa6b7e4cd51b"
      },
      "source": [
        "fruits = [\"apple\",\"orange\",\"peach\"]\n",
        "for fruit in fruits:\n",
        "  print(fruit)\n",
        "print(fruit)"
      ],
      "execution_count": null,
      "outputs": [
        {
          "output_type": "stream",
          "name": "stdout",
          "text": [
            "apple\n",
            "orange\n",
            "peach\n",
            "peach\n"
          ]
        }
      ]
    },
    {
      "cell_type": "code",
      "metadata": {
        "colab": {
          "base_uri": "https://localhost:8080/"
        },
        "id": "BxByY13HbP1N",
        "outputId": "473a545e-a6c0-47ca-abed-11d9e589c9e9"
      },
      "source": [
        "heights = list(map(int,(input().split(\",\"))))\n",
        "sum = 0\n",
        "count = 0\n",
        "for height in heights:\n",
        "  sum = sum+height\n",
        "  count = count+1\n",
        "avg = sum/count\n",
        "print(f\"Average height {avg}\")"
      ],
      "execution_count": null,
      "outputs": [
        {
          "output_type": "stream",
          "name": "stdout",
          "text": [
            "4,5,6\n",
            "Average height 5.0\n"
          ]
        }
      ]
    },
    {
      "cell_type": "code",
      "metadata": {
        "colab": {
          "base_uri": "https://localhost:8080/"
        },
        "id": "DFC_lJnnccOc",
        "outputId": "5c26f9ed-0809-48e3-e0f0-b2d5fb11fe75"
      },
      "source": [
        "#Another solution\n",
        "# 🚨 Don't change the code below 👇\n",
        "student_heights = input(\"Input a list of student heights \").split()\n",
        "for n in range(0, len(student_heights)):\n",
        "  student_heights[n] = int(student_heights[n])\n",
        "# 🚨 Don't change the code above 👆\n",
        "\n",
        "\n",
        "#Write your code below this row 👇\n",
        "sum = 0\n",
        "count = 0\n",
        "for height in student_heights:\n",
        "  sum = sum+height\n",
        "  count = count+1\n",
        "avg = sum/count\n",
        "print(f\"Average height {avg}\")"
      ],
      "execution_count": null,
      "outputs": [
        {
          "output_type": "stream",
          "name": "stdout",
          "text": [
            "Input a list of student heights 4 5 6\n",
            "Average height 5.0\n"
          ]
        }
      ]
    },
    {
      "cell_type": "code",
      "metadata": {
        "id": "qr8sMCs6deGb",
        "colab": {
          "base_uri": "https://localhost:8080/"
        },
        "outputId": "c1c0a721-bb83-4bd0-8919-09bddb92f431"
      },
      "source": [
        "for i in range(1,len(\"ashik\")):\n",
        "  print(i)"
      ],
      "execution_count": null,
      "outputs": [
        {
          "output_type": "stream",
          "name": "stdout",
          "text": [
            "1\n",
            "2\n",
            "3\n",
            "4\n"
          ]
        }
      ]
    },
    {
      "cell_type": "code",
      "metadata": {
        "id": "gQV04gW9Qlf_"
      },
      "source": [
        ""
      ],
      "execution_count": null,
      "outputs": []
    },
    {
      "cell_type": "markdown",
      "metadata": {
        "id": "6ML-WYheRBD0"
      },
      "source": [
        "## Highest Score\n",
        "\n",
        "# UPDATE\n",
        "We've moved away from repl.it for coding exercises.\n",
        "Check out the new exercises on Coding Rooms with automated submissions.\n",
        "\n",
        "Login to your Udemy course and head over to lesson 9 to get the sign up link:\n",
        "[Click here](https://www.udemy.com/course/100-days-of-code/learn/lecture/17825914#questions)\n",
        "\n",
        "# Instructions\n",
        "\n",
        "You are going to write a program that calculates the highest score from a List of scores. \n",
        "\n",
        "e.g. `student_scores = [78, 65, 89, 86, 55, 91, 64, 89]`\n",
        "\n",
        "**Important** you are not allowed to use the max or min functions. The output words must match the example. i.e \n",
        "\n",
        "> `The highest score in the class is: x`\n",
        "\n",
        "# Example Input \n",
        "\n",
        "```\n",
        "78 65 89 86 55 91 64 89\n",
        "```\n",
        "\n",
        "In this case, student_scores would be a list that looks like: `[78, 65, 89, 86, 55, 91, 64, 89]`\n",
        "\n",
        "# Example Output \n",
        "\n",
        "```\n",
        "The highest score in the class is: 91\n",
        "```\n",
        "\n",
        "e.g. When you hit **run**, this is what should happen: \n",
        "\n",
        "  \n",
        "![](https://cdn.fs.teachablecdn.com/DnSPgYNSTgeHRJ3MinHg)\n",
        " \n",
        "\n",
        "# Hint\n",
        "\n",
        "1. Think about the logic before writing code. How can you compare numbers against each other to see which one is larger?\n"
      ]
    },
    {
      "cell_type": "code",
      "metadata": {
        "colab": {
          "base_uri": "https://localhost:8080/"
        },
        "id": "6lcc-cVQRB78",
        "outputId": "cfa720b8-1c7c-4c85-fecd-f1fa443117b8"
      },
      "source": [
        "student_scores = input(\"Input a list of student scores \").split()\n",
        "for n in range(0, len(student_scores)):\n",
        "  student_scores[n] = int(student_scores[n])\n",
        "print(student_scores)\n",
        "# 🚨 Don't change the code above 👆\n",
        "\n",
        "#Write your code below this row 👇\n",
        "largest = student_scores[0]\n",
        "for i in student_scores:\n",
        "  if i>largest:\n",
        "    largest = i\n",
        "print(f\"The highest score in the class is: {largest}\")"
      ],
      "execution_count": null,
      "outputs": [
        {
          "output_type": "stream",
          "name": "stdout",
          "text": [
            "Input a list of student scores 45 34 23 56 78 98\n",
            "[45, 34, 23, 56, 78, 98]\n",
            "The highest score in the class is: 98\n"
          ]
        }
      ]
    },
    {
      "cell_type": "code",
      "metadata": {
        "colab": {
          "base_uri": "https://localhost:8080/"
        },
        "id": "bJE3TRoqR_X4",
        "outputId": "17f7454a-264b-48e1-a3aa-50b4a8c2d82c"
      },
      "source": [
        "# Another way\n",
        "largest = max(student_scores)\n",
        "print(f\"The highest score in the class is: {largest}\")"
      ],
      "execution_count": null,
      "outputs": [
        {
          "output_type": "stream",
          "name": "stdout",
          "text": [
            "The highest score in the class is: 89\n"
          ]
        }
      ]
    },
    {
      "cell_type": "code",
      "metadata": {
        "colab": {
          "base_uri": "https://localhost:8080/"
        },
        "id": "g4bwBE66THr2",
        "outputId": "e284004b-45d0-4681-ef98-2fbaadb5a3e3"
      },
      "source": [
        "#Step size observation\n",
        "for i in range(1 , 15 , 3):\n",
        "  print(i)"
      ],
      "execution_count": null,
      "outputs": [
        {
          "output_type": "stream",
          "name": "stdout",
          "text": [
            "1\n",
            "4\n",
            "7\n",
            "10\n",
            "13\n"
          ]
        }
      ]
    },
    {
      "cell_type": "code",
      "metadata": {
        "colab": {
          "base_uri": "https://localhost:8080/"
        },
        "id": "yEiMuPF5UuNR",
        "outputId": "8aeb2c5b-099b-4347-c606-67ff02e72522"
      },
      "source": [
        "# Sum up 1 to 100\n",
        "sum = 0\n",
        "for i in range(1,101):\n",
        "  sum = sum+i\n",
        "print(sum)"
      ],
      "execution_count": null,
      "outputs": [
        {
          "output_type": "stream",
          "name": "stdout",
          "text": [
            "5050\n"
          ]
        }
      ]
    },
    {
      "cell_type": "markdown",
      "metadata": {
        "id": "vDjdB9ScV0le"
      },
      "source": [
        "## Adding Evens\n",
        "\n",
        "# UPDATE\n",
        "We've moved away from repl.it for coding exercises.\n",
        "Check out the new exercises on Coding Rooms with automated submissions.\n",
        "\n",
        "Login to your Udemy course and head over to lesson 9 to get the sign up link:\n",
        "[Click here](https://www.udemy.com/course/100-days-of-code/learn/lecture/17825914#questions)\n",
        "\n",
        "# Instructions\n",
        "\n",
        "You are going to write a program that calculates the sum of all the even numbers from 1 to 100. Thus, the first even number would be 2 and the last one is 100:\n",
        "\n",
        "i.e. 2 + 4 + 6 + 8 +10 ... + 98 + 100\n",
        "\n",
        "Important, there should only be 1 print statement in your console output. It should just print the final total and not every step of the calculation.\n",
        "\n",
        "# Hint\n",
        "\n",
        "1. There are quite a few ways of solving this problem, but you will need to use the `range()` function in any of the solutions."
      ]
    },
    {
      "cell_type": "code",
      "metadata": {
        "id": "P_LrQNb5VQAZ",
        "colab": {
          "base_uri": "https://localhost:8080/"
        },
        "outputId": "f807a21a-8fb8-45da-b9f6-d928307d6399"
      },
      "source": [
        "sum = 0\n",
        "for i in range(0 , 101 , 2):\n",
        "  sum = sum+i\n",
        "print(sum)"
      ],
      "execution_count": null,
      "outputs": [
        {
          "output_type": "stream",
          "name": "stdout",
          "text": [
            "2550\n"
          ]
        }
      ]
    },
    {
      "cell_type": "code",
      "metadata": {
        "colab": {
          "base_uri": "https://localhost:8080/"
        },
        "id": "C1YfcDu1V-Oh",
        "outputId": "996bb27e-7fe3-486d-ef07-8e1c9d594f48"
      },
      "source": [
        "#Another way\n",
        "sum = 0\n",
        "for i in range(0, 101):\n",
        "  if i % 2 == 0:\n",
        "    sum = sum+i\n",
        "print(sum)"
      ],
      "execution_count": null,
      "outputs": [
        {
          "output_type": "stream",
          "name": "stdout",
          "text": [
            "2550\n"
          ]
        }
      ]
    },
    {
      "cell_type": "markdown",
      "metadata": {
        "id": "45aP1r6QZTVC"
      },
      "source": [
        "#Challenge\n",
        "## FizzBuzz\n",
        "\n",
        "# UPDATE\n",
        "We've moved away from repl.it for coding exercises.\n",
        "Check out the new exercises on Coding Rooms with automated submissions.\n",
        "\n",
        "Login to your Udemy course and head over to lesson 9 to get the sign up link:\n",
        "[Click here](https://www.udemy.com/course/100-days-of-code/learn/lecture/17825914#questions)\n",
        "\n",
        "# Instructions\n",
        "\n",
        "You are going to write a program that automatically prints the solution to the FizzBuzz game. \n",
        "\n",
        "> `Your program should print each number from 1 to 100 in turn.` \n",
        "\n",
        ">   `When the number is divisible by 3 then instead of printing the number it should print \"Fizz\".` \n",
        "\n",
        ">     `When the number is divisible by 5, then instead of printing the number it should print \"Buzz\".` \n",
        "\n",
        ">       `And if the number is divisible by both 3 and 5 e.g. 15 then instead of the number it should print \"FizzBuzz\"`\n",
        "\n",
        "e.g. it might start off like this:\n",
        "\n",
        "```\n",
        "`1\n",
        "2\n",
        "Fizz\n",
        "4\n",
        "Buzz\n",
        "Fizz\n",
        "7\n",
        "8\n",
        "Fizz\n",
        "Buzz\n",
        "11\n",
        "Fizz\n",
        "13\n",
        "14\n",
        "FizzBuzz`\n",
        "```\n",
        "\n",
        "`.... etc.`\n",
        "\n",
        "# Hint\n",
        "\n",
        "1. Remember your answer should start from 1 and go up to and including 100. \n",
        "\n",
        "2. Each number/text should be printed on a separate line.\n"
      ]
    },
    {
      "cell_type": "code",
      "metadata": {
        "id": "_5n3SaJYWTHg"
      },
      "source": [
        "for i in range(1, 101):\n",
        "  if i % 3 == 0 and i % 5 ==0:\n",
        "    print(\"FizzBuzz\")\n",
        "  elif i % 3 == 0:\n",
        "    print(\"Fizz\")\n",
        "  elif i % 5 == 0:\n",
        "    print(\"Buzz\")\n",
        "  else:\n",
        "    print(i)"
      ],
      "execution_count": null,
      "outputs": []
    },
    {
      "cell_type": "code",
      "metadata": {
        "colab": {
          "base_uri": "https://localhost:8080/"
        },
        "id": "mXzf71OUad63",
        "outputId": "9d24f2aa-b4d3-43e3-a0a6-1a2fd8dcbea5"
      },
      "source": [
        "import random\n",
        "symbols = ['!', '#', '$', '%', '&', '(', ')', '*', '+']\n",
        "num = random.randint(0,len(symbols))\n",
        "print(symbols[num])"
      ],
      "execution_count": null,
      "outputs": [
        {
          "output_type": "stream",
          "name": "stdout",
          "text": [
            "$\n"
          ]
        }
      ]
    },
    {
      "cell_type": "code",
      "metadata": {
        "colab": {
          "base_uri": "https://localhost:8080/"
        },
        "id": "3Ye8C7tdZZhK",
        "outputId": "0d770372-f8a9-4ece-bc1d-1e74e862e9f0"
      },
      "source": [
        "#Password Generator Project\n",
        "import random\n",
        "letters = ['a', 'b', 'c', 'd', 'e', 'f', 'g', 'h', 'i', 'j', 'k', 'l', 'm', 'n', 'o', 'p', 'q', 'r', 's', 't', 'u', 'v', 'w', 'x', 'y', 'z', 'A', 'B', 'C', 'D', 'E', 'F', 'G', 'H', 'I', 'J', 'K', 'L', 'M', 'N', 'O', 'P', 'Q', 'R', 'S', 'T', 'U', 'V', 'W', 'X', 'Y', 'Z']\n",
        "numbers = ['0', '1', '2', '3', '4', '5', '6', '7', '8', '9']\n",
        "symbols = ['!', '#', '$', '%', '&', '(', ')', '*', '+']\n",
        "\n",
        "print(\"Welcome to the PyPassword Generator!\")\n",
        "nr_letters= int(input(\"How many letters would you like in your password?\\n\")) \n",
        "nr_symbols = int(input(f\"How many symbols would you like?\\n\"))\n",
        "nr_numbers = int(input(f\"How many numbers would you like?\\n\"))\n",
        "password_list = []\n",
        "\n",
        "for char in range(1, nr_letters + 1):\n",
        "  password_list.append(random.choice(letters))\n",
        "\n",
        "for char in range(1, nr_symbols + 1):\n",
        "  password_list += random.choice(symbols)\n",
        "\n",
        "for char in range(1, nr_numbers + 1):\n",
        "  password_list += random.choice(numbers)\n",
        "print(password_list)\n",
        "random.shuffle(password_list)\n",
        "print(password_list)\n",
        "password = \"\"\n",
        "for char in password_list:\n",
        "  password += char\n",
        "\n",
        "print(f\"Your password is: {password}\")"
      ],
      "execution_count": null,
      "outputs": [
        {
          "output_type": "stream",
          "name": "stdout",
          "text": [
            "Welcome to the PyPassword Generator!\n",
            "How many letters would you like in your password?\n",
            "2\n",
            "How many symbols would you like?\n",
            "2\n",
            "How many numbers would you like?\n",
            "2\n",
            "['S', 'K', '&', ')', '8', '0']\n",
            "['0', 'S', 'K', '&', ')', '8']\n",
            "Your password is: 0SK&)8\n"
          ]
        }
      ]
    },
    {
      "cell_type": "code",
      "metadata": {
        "colab": {
          "base_uri": "https://localhost:8080/"
        },
        "id": "vZ85Sh8KcaDh",
        "outputId": "9873759b-b7cc-4dec-8fdb-658116b00e56"
      },
      "source": [
        "2\n"
      ],
      "execution_count": null,
      "outputs": [
        {
          "output_type": "stream",
          "name": "stdout",
          "text": [
            "['O', 'D', '(', '#', '2', '7']\n"
          ]
        }
      ]
    },
    {
      "cell_type": "code",
      "metadata": {
        "id": "shpxhrzSex1P"
      },
      "source": [
        ""
      ],
      "execution_count": null,
      "outputs": []
    }
  ]
}