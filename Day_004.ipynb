{
  "nbformat": 4,
  "nbformat_minor": 0,
  "metadata": {
    "colab": {
      "name": "Day-004.ipynb",
      "provenance": [],
      "authorship_tag": "ABX9TyNt1xDEqVyOAuKBOHRzbo5y",
      "include_colab_link": true
    },
    "kernelspec": {
      "name": "python3",
      "display_name": "Python 3"
    },
    "language_info": {
      "name": "python"
    }
  },
  "cells": [
    {
      "cell_type": "markdown",
      "metadata": {
        "id": "view-in-github",
        "colab_type": "text"
      },
      "source": [
        "<a href=\"https://colab.research.google.com/github/Mustak-Ahamed-Ashik/100-days-of-Python-Code/blob/main/Day_004.ipynb\" target=\"_parent\"><img src=\"https://colab.research.google.com/assets/colab-badge.svg\" alt=\"Open In Colab\"/></a>"
      ]
    },
    {
      "cell_type": "markdown",
      "metadata": {
        "id": "2euNbtlyNoE1"
      },
      "source": [
        "##Introduction"
      ]
    },
    {
      "cell_type": "code",
      "metadata": {
        "id": "YR1SV1HCRFJe"
      },
      "source": [
        "import random\n",
        "\n",
        "rock = '''\n",
        "    _______\n",
        "---'   ____)\n",
        "      (_____)\n",
        "      (_____)\n",
        "      (____)\n",
        "---.__(___)\n",
        "'''\n",
        "\n",
        "paper = '''\n",
        "    _______\n",
        "---'   ____)____\n",
        "          ______)\n",
        "          _______)\n",
        "         _______)\n",
        "---.__________)\n",
        "'''\n",
        "\n",
        "scissors = '''\n",
        "    _______\n",
        "---'   ____)____\n",
        "          ______)\n",
        "       __________)\n",
        "      (____)\n",
        "---.__(___)\n",
        "'''\n",
        "\n",
        "game_images = [rock, paper, scissors]\n",
        "\n",
        "user_choice = int(input(\"What do you choose? Type 0 for Rock, 1 for Paper or 2 for Scissors.\\n\"))\n",
        "print(game_images[user_choice])\n",
        "\n",
        "computer_choice = random.randint(0, 2)\n",
        "print(\"Computer chose:\")\n",
        "print(game_images[computer_choice])\n",
        "\n",
        "if user_choice >= 3 or user_choice < 0: \n",
        "  print(\"You typed an invalid number, you lose!\") \n",
        "elif user_choice == 0 and computer_choice == 2:\n",
        "  print(\"You win!\")\n",
        "elif computer_choice == 0 and user_choice == 2:\n",
        "  print(\"You lose\")\n",
        "elif computer_choice > user_choice:\n",
        "  print(\"You lose\")\n",
        "elif user_choice > computer_choice:\n",
        "  print(\"You win!\")\n",
        "elif computer_choice == user_choice:\n",
        "  print(\"It's a draw\")"
      ],
      "execution_count": null,
      "outputs": []
    },
    {
      "cell_type": "markdown",
      "metadata": {
        "id": "MXYqCt2NNrYS"
      },
      "source": [
        "###Love score using random function"
      ]
    },
    {
      "cell_type": "code",
      "metadata": {
        "colab": {
          "base_uri": "https://localhost:8080/"
        },
        "id": "D211Hf_YEJpt",
        "outputId": "0d069fea-7c0d-4001-ab1f-c92c558a91f3"
      },
      "source": [
        "import random\n",
        "ran = random.randint(1, 100)\n",
        "print(f\"Your love score {ran}\")"
      ],
      "execution_count": null,
      "outputs": [
        {
          "output_type": "stream",
          "name": "stdout",
          "text": [
            "Your love score 17\n"
          ]
        }
      ]
    },
    {
      "cell_type": "code",
      "metadata": {
        "colab": {
          "base_uri": "https://localhost:8080/"
        },
        "id": "WHYHw8cQESG3",
        "outputId": "ad2233a2-0e3c-47c8-d8a3-f1c119a84e53"
      },
      "source": [
        "import random\n",
        "gen = random.randint(0,1)\n",
        "if gen == 0:\n",
        "  print('Tails')\n",
        "else:\n",
        "  print('Heads')"
      ],
      "execution_count": null,
      "outputs": [
        {
          "output_type": "stream",
          "name": "stdout",
          "text": [
            "Heads\n"
          ]
        }
      ]
    },
    {
      "cell_type": "markdown",
      "metadata": {
        "id": "TF2eDIHSKFfB"
      },
      "source": [
        "#LIST"
      ]
    },
    {
      "cell_type": "code",
      "metadata": {
        "id": "-cx9Kre-F1E-"
      },
      "source": [
        "list =  ['ashik','rima','lijon','himi','rishad','hiya']"
      ],
      "execution_count": null,
      "outputs": []
    },
    {
      "cell_type": "code",
      "metadata": {
        "id": "gNY6mEqEKVpA"
      },
      "source": [
        "list.append('Kabir')"
      ],
      "execution_count": null,
      "outputs": []
    },
    {
      "cell_type": "code",
      "metadata": {
        "colab": {
          "base_uri": "https://localhost:8080/"
        },
        "id": "06SIqhQxKZhl",
        "outputId": "cc3888cf-4132-4945-ac8c-ad6886b73c3c"
      },
      "source": [
        "list"
      ],
      "execution_count": null,
      "outputs": [
        {
          "output_type": "execute_result",
          "data": {
            "text/plain": [
              "['ashik', 'rima', 'lijon', 'himi', 'rishad', 'hiya', 'Kabir']"
            ]
          },
          "metadata": {},
          "execution_count": 20
        }
      ]
    },
    {
      "cell_type": "code",
      "metadata": {
        "colab": {
          "base_uri": "https://localhost:8080/"
        },
        "id": "Fvn-5MvhKaQF",
        "outputId": "38121cc6-1fb7-498c-b82d-6cc64f7ec384"
      },
      "source": [
        "list.extend(['Kayes','Kowshik'])\n",
        "print(list)"
      ],
      "execution_count": null,
      "outputs": [
        {
          "output_type": "stream",
          "name": "stdout",
          "text": [
            "['ashik', 'rima', 'lijon', 'himi', 'rishad', 'hiya', 'Kabir', 'Kayes', 'Kowshik']\n"
          ]
        }
      ]
    },
    {
      "cell_type": "code",
      "metadata": {
        "id": "DMF0gFq8KiyM"
      },
      "source": [
        "list.insert(0,'Kabir')"
      ],
      "execution_count": null,
      "outputs": []
    },
    {
      "cell_type": "code",
      "metadata": {
        "colab": {
          "base_uri": "https://localhost:8080/"
        },
        "id": "BnvsWSgQKo5l",
        "outputId": "5e663990-5178-46ad-9c9d-e6906741f493"
      },
      "source": [
        "list"
      ],
      "execution_count": null,
      "outputs": [
        {
          "output_type": "execute_result",
          "data": {
            "text/plain": [
              "['Kabir',\n",
              " 'ashik',\n",
              " 'rima',\n",
              " 'lijon',\n",
              " 'himi',\n",
              " 'rishad',\n",
              " 'hiya',\n",
              " 'Kabir',\n",
              " 'Kayes',\n",
              " 'Kowshik']"
            ]
          },
          "metadata": {},
          "execution_count": 23
        }
      ]
    },
    {
      "cell_type": "code",
      "metadata": {
        "id": "6tp-n_4VKpre"
      },
      "source": [
        "list.remove(list[-2])"
      ],
      "execution_count": null,
      "outputs": []
    },
    {
      "cell_type": "code",
      "metadata": {
        "colab": {
          "base_uri": "https://localhost:8080/"
        },
        "id": "rMYX7ocpKwal",
        "outputId": "94b0d93b-1498-4225-ee35-117b5e8b3a87"
      },
      "source": [
        "list"
      ],
      "execution_count": null,
      "outputs": [
        {
          "output_type": "execute_result",
          "data": {
            "text/plain": [
              "['ashik', 'rima', 'lijon', 'himi', 'rishad', 'Kowshik']"
            ]
          },
          "metadata": {},
          "execution_count": 33
        }
      ]
    },
    {
      "cell_type": "markdown",
      "metadata": {
        "id": "WtG6FpxpOEw4"
      },
      "source": [
        "# Instructions\n",
        "\n",
        "You are going to write a program which will select a random name from a list of names. The person selected will have to pay for everybody's food bill. \n",
        "\n",
        "**Important**: You are not allowed to use the `choice()` function.\n",
        "\n",
        "**Line 8** splits the string `names_string` into individual names and puts them inside a **List** called `names`. For this to work, you must enter all the names as name followed by comma then space. e.g. name, name, name\n",
        "\n",
        "# Example Input\n",
        "\n",
        "```\n",
        "Angela, Ben, Jenny, Michael, Chloe\n",
        "```\n",
        "Note: notice that there is a space between the comma and the next name. \n",
        "# Example Output\n",
        "\n",
        "```\n",
        "Michael is going to buy the meal today!\n",
        "```\n",
        "\n",
        "\n",
        "# Hint\n",
        "\n",
        "1. You might need the help of the `len()` function.   \n",
        "\n",
        "[https://stackoverflow.com/questions/1712227/how-do-i-get-the-number-of-elements-in-a-list](https://stackoverflow.com/questions/1712227/how-do-i-get-the-number-of-elements-in-a-list)\n",
        "\n",
        "2. Remember that Lists start at index 0!"
      ]
    },
    {
      "cell_type": "code",
      "metadata": {
        "colab": {
          "base_uri": "https://localhost:8080/"
        },
        "id": "NRzWfpp1K2U2",
        "outputId": "b26a6e11-0db9-485a-c60b-7cdae5742a24"
      },
      "source": [
        "# Split string method\n",
        "names_string = input(\"Give me everybody's names, separated by a comma. \")\n",
        "names = names_string.split(\", \")\n",
        "# 🚨 Don't change the code above 👆\n",
        "\n",
        "#Write your code below this line 👇\n",
        "import random\n",
        "gen = random.randint(0,len(names)-1)\n",
        "name = names[gen]\n",
        "print(f\"{name} is going to buy the meal today!\")"
      ],
      "execution_count": null,
      "outputs": [
        {
          "output_type": "stream",
          "name": "stdout",
          "text": [
            "Give me everybody's names, separated by a comma. ashik, rima, lijon\n",
            "rima is going to buy the meal today!\n"
          ]
        }
      ]
    },
    {
      "cell_type": "code",
      "metadata": {
        "id": "_VDqEkTYNFLX",
        "colab": {
          "base_uri": "https://localhost:8080/"
        },
        "outputId": "7972eec7-4c3d-4a6d-cec6-b32a83246ff3"
      },
      "source": [
        "fruits = [\"Strawberries\", \"Nectarines\", \"Apples\", \"Grapes\", \"Peaches\", \"Cherries\", \"Pears\"]\n",
        "vegetables = [\"Spinach\", \"Kale\", \"Tomatoes\", \"Celery\", \"Potatoes\"]\n",
        " \n",
        "dirty_dozen = [fruits, vegetables]\n",
        " \n",
        "print(dirty_dozen[1][1])"
      ],
      "execution_count": 1,
      "outputs": [
        {
          "output_type": "stream",
          "name": "stdout",
          "text": [
            "Kale\n"
          ]
        }
      ]
    },
    {
      "cell_type": "markdown",
      "metadata": {
        "id": "gGw0EMGtSw15"
      },
      "source": [
        "## Treasure Map\n",
        "\n",
        "![](https://cdn.fs.teachablecdn.com/wiFJAkZZSG2RpGsxYgDO)\n",
        "# Instructions\n",
        "\n",
        "You are going to write a program which will mark a spot with an X.\n",
        "\n",
        "In the starting code, you will find a variable called ```map```.\n",
        "\n",
        "This ```map``` contains a nested list.\n",
        "When ```map``` is printed this is what the nested list looks like:\n",
        "```\n",
        "['⬜️', '⬜️', '⬜️'],['⬜️', '⬜️', '⬜️'],['⬜️', '⬜️', '⬜️']\n",
        "```\n",
        "In the starting code, we have used new lines (```\\n```) to format the three rows into a square, like this:\n",
        "```\n",
        "['⬜️', '⬜️', '⬜️']\n",
        "['⬜️', '⬜️', '⬜️']\n",
        "['⬜️', '⬜️', '⬜️']\n",
        "```\n",
        "This is to try and simulate the coordinates on a real map. \n",
        "\n",
        "![](https://res.cloudinary.com/dk-find-out/image/upload/q_80,w_1440,f_auto/Co-ordinates_oggjzg.jpg)\n",
        "\n",
        "Your job is to write a program that allows you to mark a square on the map using a two-digit system. The first digit is the vertical column number and the second digit is the horizontal row number. e.g.:\n",
        "\n",
        "![](https://cdn.fs.teachablecdn.com/2vnboIYTFFruvl9FJ2w5)\n",
        "\n",
        "First your program must take the user input and convert it to a usable format. \n",
        "\n",
        "Next, you need to use it to update your nested list with an \"x\". \n",
        "\n",
        "# Example Input 1\n",
        "\n",
        "column 2, row 3 would be entered as:\n",
        "\n",
        "```\n",
        "23\n",
        "```\n",
        "\n",
        "# Example Output 1\n",
        "\n",
        "```\n",
        "['⬜️', '⬜️', '⬜️']\n",
        "\n",
        "['⬜️', '⬜️', '⬜️']\n",
        "\n",
        "['⬜️', 'X', '⬜️']\n",
        "```\n",
        "\n",
        "# Example Input 2\n",
        "\n",
        "column 3, row 1 would be entered as:\n",
        "\n",
        "```\n",
        "31\n",
        "```\n",
        "\n",
        "# Example Output 2\n",
        "\n",
        "```\n",
        "['⬜️', '⬜️', 'X']\n",
        "\n",
        "['⬜️', '⬜️', '⬜️']\n",
        "\n",
        "['⬜️', '⬜️', '⬜️']\n",
        "```\n",
        "\n",
        "e.g. When you hit **run**, this is what should happen: \n",
        "\n",
        "![](https://cdn.fs.teachablecdn.com/5hliFjyIR96LdestyfPd)\n",
        "\n",
        "# Hint\n",
        "\n",
        "1. Remember that Lists start at index 0!\n",
        "2. ```map``` is just a variable that contains a nested list. It's not related to the map function in Python."
      ]
    },
    {
      "cell_type": "code",
      "metadata": {
        "colab": {
          "base_uri": "https://localhost:8080/"
        },
        "id": "Nesyrwk6MMle",
        "outputId": "dee0900d-e8e2-450c-ea91-5f9573e0cd87"
      },
      "source": [
        "row1 = [\"⬜️\",\"⬜️\",\"⬜️\"]\n",
        "row2 = [\"⬜️\",\"⬜️\",\"⬜️\"]\n",
        "row3 = [\"⬜️\",\"⬜️\",\"⬜️\"]\n",
        "map = [row1, row2, row3]\n",
        "print(f\"{row1}\\n{row2}\\n{row3}\")\n",
        "position = input(\"Where do you want to put the treasure? \")\n",
        "num = [int(a) for a in str(position)]\n",
        "map[num[1]-1][num[0]-1] = \"X\"\n",
        "row1 = map[:][0]\n",
        "row2 = map[:][1]\n",
        "row3 = map[:][2]\n",
        "print(f\"{row1}\\n{row2}\\n{row3}\")"
      ],
      "execution_count": 45,
      "outputs": [
        {
          "output_type": "stream",
          "name": "stdout",
          "text": [
            "['⬜️', '⬜️', '⬜️']\n",
            "['⬜️', '⬜️', '⬜️']\n",
            "['⬜️', '⬜️', '⬜️']\n",
            "Where do you want to put the treasure? 23\n",
            "['⬜️', '⬜️', '⬜️']\n",
            "['⬜️', '⬜️', '⬜️']\n",
            "['⬜️', 'X', '⬜️']\n"
          ]
        }
      ]
    },
    {
      "cell_type": "code",
      "metadata": {
        "id": "A9LvzD_UQl4Q"
      },
      "source": [
        "#Basic\n",
        "row1 = [\"a\",\"b\",\"c\"]\n",
        "row2 = [\"d\",\"e\",\"f\"]\n",
        "row3 = [\"h\",\"i\",\"g\"]\n",
        "map = [row1, row2, row3]"
      ],
      "execution_count": 43,
      "outputs": []
    },
    {
      "cell_type": "code",
      "metadata": {
        "colab": {
          "base_uri": "https://localhost:8080/"
        },
        "id": "9wHQYUcmSEd7",
        "outputId": "55af8a4e-6772-45c7-ed64-525bc2e0d6da"
      },
      "source": [
        "map[:][1]"
      ],
      "execution_count": 44,
      "outputs": [
        {
          "output_type": "execute_result",
          "data": {
            "text/plain": [
              "['d', 'e', 'f']"
            ]
          },
          "metadata": {},
          "execution_count": 44
        }
      ]
    },
    {
      "cell_type": "markdown",
      "metadata": {
        "id": "FfJmvG1JVFB8"
      },
      "source": [
        "#Another Challenge\n",
        "## Rock Paper Scissors\n",
        "\n",
        "# Instructions\n",
        "\n",
        "Make a rock, paper, scissors game. \n",
        "\n",
        "Inside the `main.py` file, you'll find the ASCII art for the hand signals already saved to a corresponding variable: `rock`, `paper`, and `scissors`. This will make it easy to print them out to the console. \n",
        "\n",
        "Start the game by asking the player:\n",
        "\n",
        "*\"What do you choose? Type 0 for Rock, 1 for Paper or 2 for Scissors.\"*\n",
        "\n",
        "From there you will need to figure out: \n",
        "* How you will store the user's input.\n",
        "* How you will generate a random choice for the computer.\n",
        "* How you will compare the user's and the computer's choice to determine the winner (or a draw).\n",
        "* And also how you will give feedback to the player. \n",
        "\n",
        "You can find the \"official\" rules of the game on [the World Rock Paper Scissors Association website.](https://wrpsa.com/the-official-rules-of-rock-paper-scissors/)"
      ]
    },
    {
      "cell_type": "markdown",
      "metadata": {
        "id": "hblLNIeGY_bJ"
      },
      "source": [
        "## Rock Paper Scissors\n",
        "\n",
        "# Instructions\n",
        "\n",
        "Make a rock, paper, scissors game. \n",
        "\n",
        "Inside the `main.py` file, you'll find the ASCII art for the hand signals already saved to a corresponding variable: `rock`, `paper`, and `scissors`. This will make it easy to print them out to the console. \n",
        "\n",
        "Start the game by asking the player:\n",
        "\n",
        "*\"What do you choose? Type 0 for Rock, 1 for Paper or 2 for Scissors.\"*\n",
        "\n",
        "From there you will need to figure out: \n",
        "* How you will store the user's input.\n",
        "* How you will generate a random choice for the computer.\n",
        "* How you will compare the user's and the computer's choice to determine the winner (or a draw).\n",
        "* And also how you will give feedback to the player. \n",
        "\n",
        "You can find the \"official\" rules of the game on [the World Rock Paper Scissors Association website.](https://wrpsa.com/the-official-rules-of-rock-paper-scissors/)\n"
      ]
    },
    {
      "cell_type": "code",
      "metadata": {
        "colab": {
          "base_uri": "https://localhost:8080/"
        },
        "id": "XPrrZOYBSI8q",
        "outputId": "4f03fa16-7920-48eb-9396-6a9dec8f2b8b"
      },
      "source": [
        "import random\n",
        "enter = int(input(\"What do you choose? Type 0 for Rock, 1 for Paper or 2 for Scissors.\"))\n",
        "com = random.randint(0,2)\n",
        "print(f\"computer's choice {com}\")\n",
        "if enter<0 or enter>=3:\n",
        "  print(\"Invalid number. You lose!\")\n",
        "elif enter== 0 and com ==2:\n",
        "  print(\"You win!\")\n",
        "elif enter< com:\n",
        "  print(\"You lose!\")\n",
        "elif enter> com:\n",
        "  print(\"You win!\")\n",
        "elif enter==com:\n",
        "  print(\"It's draw\")"
      ],
      "execution_count": 46,
      "outputs": [
        {
          "output_type": "stream",
          "name": "stdout",
          "text": [
            "What do you choose? Type 0 for Rock, 1 for Paper or 2 for Scissors.1\n",
            "computer's choice 0\n",
            "You win!\n"
          ]
        }
      ]
    },
    {
      "cell_type": "code",
      "metadata": {
        "id": "dNDiFGs-ZHa6"
      },
      "source": [
        ""
      ],
      "execution_count": null,
      "outputs": []
    }
  ]
}