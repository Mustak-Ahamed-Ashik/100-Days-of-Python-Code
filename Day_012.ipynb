{
  "nbformat": 4,
  "nbformat_minor": 0,
  "metadata": {
    "colab": {
      "name": "Day-012.ipynb",
      "provenance": [],
      "authorship_tag": "ABX9TyM4M6vrFVbZ3tBiOidr+F0u",
      "include_colab_link": true
    },
    "kernelspec": {
      "name": "python3",
      "display_name": "Python 3"
    },
    "language_info": {
      "name": "python"
    }
  },
  "cells": [
    {
      "cell_type": "markdown",
      "metadata": {
        "id": "view-in-github",
        "colab_type": "text"
      },
      "source": [
        "<a href=\"https://colab.research.google.com/github/Mustak-Ahamed-Ashik/100-days-of-Python-Code/blob/main/Day_012.ipynb\" target=\"_parent\"><img src=\"https://colab.research.google.com/assets/colab-badge.svg\" alt=\"Open In Colab\"/></a>"
      ]
    },
    {
      "cell_type": "markdown",
      "metadata": {
        "id": "QjY1sm5vLXeN"
      },
      "source": [
        "# Scope and Number guessing game"
      ]
    },
    {
      "cell_type": "code",
      "metadata": {
        "colab": {
          "base_uri": "https://localhost:8080/"
        },
        "id": "4F5yHjwnLQDD",
        "outputId": "bdda2832-c010-4730-9f2e-d54772cfdf20"
      },
      "source": [
        "enemies = 1             # This is a global variable\n",
        "\n",
        "def increase_enemies():\n",
        "  enemies = 2           # This is a local variable\n",
        "  print(f\"enemies inside function: {enemies}\")\n",
        "\n",
        "increase_enemies()\n",
        "print(f\"enemies outside function: {enemies}\")"
      ],
      "execution_count": 2,
      "outputs": [
        {
          "output_type": "stream",
          "name": "stdout",
          "text": [
            "enemies inside function: 2\n",
            "enemies outside function: 1\n"
          ]
        }
      ]
    },
    {
      "cell_type": "code",
      "metadata": {
        "colab": {
          "base_uri": "https://localhost:8080/"
        },
        "id": "TRXxEOGmLcPH",
        "outputId": "281506de-43bb-4730-e12d-44ae43b79be3"
      },
      "source": [
        "enemies = 1             # This is a global variable\n",
        "\n",
        "def increase_enemies():\n",
        "  global enemies        # We explicitly defind enemies as global variable\n",
        "  print(f\"enemies inside function: {enemies}\")\n",
        "\n",
        "increase_enemies()\n",
        "print(f\"enemies outside function: {enemies}\")"
      ],
      "execution_count": 4,
      "outputs": [
        {
          "output_type": "stream",
          "name": "stdout",
          "text": [
            "enemies inside function: 1\n",
            "enemies outside function: 1\n"
          ]
        }
      ]
    },
    {
      "cell_type": "code",
      "metadata": {
        "colab": {
          "base_uri": "https://localhost:8080/"
        },
        "id": "_yBpTh2iNzV3",
        "outputId": "52b7c4dc-6888-4c14-8ba7-8e682e2c0fe5"
      },
      "source": [
        "PI = 3.1416\n",
        "def deter():\n",
        "  print(PI)\n",
        "deter()\n",
        "print(PI)"
      ],
      "execution_count": 5,
      "outputs": [
        {
          "output_type": "stream",
          "name": "stdout",
          "text": [
            "3.1416\n",
            "3.1416\n"
          ]
        }
      ]
    },
    {
      "cell_type": "code",
      "metadata": {
        "colab": {
          "base_uri": "https://localhost:8080/"
        },
        "id": "m9mwEzRKO-cM",
        "outputId": "824f1d61-1298-425e-f77b-b1d202eba7b5"
      },
      "source": [
        "################### Scope ####################\n",
        "\n",
        "enemies = 1\n",
        "\n",
        "def increase_enemies():\n",
        "    enemies = 2\n",
        "    print(f\"enemies inside function: {enemies}\")\n",
        "\n",
        "increase_enemies()\n",
        "print(f\"enemies outside function: {enemies}\")\n",
        "\n",
        "# Local Scope\n",
        "\n",
        "def drink_potion():\n",
        "    potion_strength = 2\n",
        "    print(potion_strength)\n",
        "\n",
        "drink_potion()\n",
        "\n",
        "# Global Scope\n",
        "player_health = 10\n",
        "\n",
        "def game():\n",
        "    def drink_potion():\n",
        "        potion_strength = 2\n",
        "        print(player_health)\n",
        "\n",
        "    drink_potion()\n",
        "\n",
        "print(player_health)\n",
        "\n",
        "# There is no Block Scope\n",
        "\n",
        "game_level = 3\n",
        "\n",
        "def create_enemy():\n",
        "    enemies = [\"Skeleton\", \"Zombie\", \"Alien\"]\n",
        "    if game_level < 5:\n",
        "        new_enemy = enemies[0]\n",
        "\n",
        "    print(new_enemy)\n",
        "\n",
        "\n",
        "# Modifying Global Scope\n",
        "\n",
        "enemies = 1\n",
        "\n",
        "def increase_enemies():\n",
        "    print(f\"enemies inside function: {enemies}\")\n",
        "    return enemies + 1\n",
        "\n",
        "enemies = increase_enemies()\n",
        "print(f\"enemies outside function: {enemies}\")\n",
        "\n",
        "#Global Constants\n",
        "\n",
        "PI = 3.14159\n",
        "URL = \"https://www.google.com\"\n",
        "TWITTER_HANDLE = \"@yu_angela\"\n"
      ],
      "execution_count": 7,
      "outputs": [
        {
          "output_type": "stream",
          "name": "stdout",
          "text": [
            "enemies inside function: 2\n",
            "enemies outside function: 1\n",
            "2\n",
            "10\n",
            "enemies inside function: 1\n",
            "enemies outside function: 2\n"
          ]
        }
      ]
    },
    {
      "cell_type": "code",
      "metadata": {
        "colab": {
          "base_uri": "https://localhost:8080/"
        },
        "id": "Zki0hLqcSkd2",
        "outputId": "230399ea-4a7b-4f5e-a090-6cb04f7209ba"
      },
      "source": [
        "#Number Guessing Game Objectives:\n",
        "\n",
        "# Include an ASCII art logo.\n",
        "# Allow the player to submit a guess for a number between 1 and 100.\n",
        "# Check user's guess against actual answer. Print \"Too high.\" or \"Too low.\" depending on the user's answer. \n",
        "# If they got the answer correct, show the actual answer to the player.\n",
        "# Track the number of turns remaining.\n",
        "# If they run out of turns, provide feedback to the player. \n",
        "# Include two different difficulty levels (e.g., 10 guesses in easy mode, only 5 guesses in hard mode).\n",
        "logo = '''  /$$$$$$                                         /$$                                                                      \n",
        " /$$__  $$                                       |__/                                                                      \n",
        "| $$  \\__/ /$$   /$$  /$$$$$$   /$$$$$$$ /$$$$$$$ /$$ /$$$$$$$   /$$$$$$         /$$$$$$   /$$$$$$  /$$$$$$/$$$$   /$$$$$$ \n",
        "| $$ /$$$$| $$  | $$ /$$__  $$ /$$_____//$$_____/| $$| $$__  $$ /$$__  $$       /$$__  $$ |____  $$| $$_  $$_  $$ /$$__  $$\n",
        "| $$|_  $$| $$  | $$| $$$$$$$$|  $$$$$$|  $$$$$$ | $$| $$  \\ $$| $$  \\ $$      | $$  \\ $$  /$$$$$$$| $$ \\ $$ \\ $$| $$$$$$$$\n",
        "| $$  \\ $$| $$  | $$| $$_____/ \\____  $$\\____  $$| $$| $$  | $$| $$  | $$      | $$  | $$ /$$__  $$| $$ | $$ | $$| $$_____/\n",
        "|  $$$$$$/|  $$$$$$/|  $$$$$$$ /$$$$$$$//$$$$$$$/| $$| $$  | $$|  $$$$$$$      |  $$$$$$$|  $$$$$$$| $$ | $$ | $$|  $$$$$$$\n",
        " \\______/  \\______/  \\_______/|_______/|_______/ |__/|__/  |__/ \\____  $$       \\____  $$ \\_______/|__/ |__/ |__/ \\_______/\n",
        "                                                                /$$  \\ $$       /$$  \\ $$                                  \n",
        "                                                               |  $$$$$$/      |  $$$$$$/                                  \n",
        "                                                                \\______/        \\______/                                   '''\n",
        "print(logo)\n",
        "import random\n",
        "print(\"Welcome to the Guessing Game.\")\n",
        "print(\"I'm thinking of a number between 1 and 100.\")\n",
        "GUESS_VALUE = random.randint(0, 100)\n",
        "enter = input(\"Enter Easy(10 attempts) or hard(5 attempts).\").lower()\n",
        "def game(enter):\n",
        "  if enter == 'easy':\n",
        "    tot_guess = 10\n",
        "  elif enter == 'hard':\n",
        "    tot_guess = 5\n",
        "  while tot_guess > 0:\n",
        "    guess = int(input(\"Guess the number \"))\n",
        "    if guess > GUESS_VALUE:\n",
        "      print(\"Too high. Guess low\")\n",
        "    elif guess < GUESS_VALUE:\n",
        "      print(\"Too low. Guess high\")\n",
        "    elif guess == GUESS_VALUE:\n",
        "      print(\"Correct! You won.\")\n",
        "      break\n",
        "    tot_guess -= 1\n",
        "    print(f\"You have {tot_guess} guess left\\n\")\n",
        "  if tot_guess == 0:\n",
        "    print(\"Game over! You lose.\")\n",
        "game(enter)\n"
      ],
      "execution_count": 14,
      "outputs": [
        {
          "output_type": "stream",
          "name": "stdout",
          "text": [
            "  /$$$$$$                                         /$$                                                                      \n",
            " /$$__  $$                                       |__/                                                                      \n",
            "| $$  \\__/ /$$   /$$  /$$$$$$   /$$$$$$$ /$$$$$$$ /$$ /$$$$$$$   /$$$$$$         /$$$$$$   /$$$$$$  /$$$$$$/$$$$   /$$$$$$ \n",
            "| $$ /$$$$| $$  | $$ /$$__  $$ /$$_____//$$_____/| $$| $$__  $$ /$$__  $$       /$$__  $$ |____  $$| $$_  $$_  $$ /$$__  $$\n",
            "| $$|_  $$| $$  | $$| $$$$$$$$|  $$$$$$|  $$$$$$ | $$| $$  \\ $$| $$  \\ $$      | $$  \\ $$  /$$$$$$$| $$ \\ $$ \\ $$| $$$$$$$$\n",
            "| $$  \\ $$| $$  | $$| $$_____/ \\____  $$\\____  $$| $$| $$  | $$| $$  | $$      | $$  | $$ /$$__  $$| $$ | $$ | $$| $$_____/\n",
            "|  $$$$$$/|  $$$$$$/|  $$$$$$$ /$$$$$$$//$$$$$$$/| $$| $$  | $$|  $$$$$$$      |  $$$$$$$|  $$$$$$$| $$ | $$ | $$|  $$$$$$$\n",
            " \\______/  \\______/  \\_______/|_______/|_______/ |__/|__/  |__/ \\____  $$       \\____  $$ \\_______/|__/ |__/ |__/ \\_______/\n",
            "                                                                /$$  \\ $$       /$$  \\ $$                                  \n",
            "                                                               |  $$$$$$/      |  $$$$$$/                                  \n",
            "                                                                \\______/        \\______/                                   \n",
            "Welcome to the Guessing Game.\n",
            "I'm thinking of a number between 1 and 100.\n",
            "Enter Easy(10 attempts) or hard(5 attempts).Easy\n",
            "Guess the number 56\n",
            "Too high. Guess low\n",
            "You have 9 guess left\n",
            "\n",
            "Guess the number 30\n",
            "Too high. Guess low\n",
            "You have 8 guess left\n",
            "\n",
            "Guess the number 20\n",
            "Too high. Guess low\n",
            "You have 7 guess left\n",
            "\n",
            "Guess the number 10\n",
            "Too high. Guess low\n",
            "You have 6 guess left\n",
            "\n",
            "Guess the number 2\n",
            "Correct! You won.\n"
          ]
        }
      ]
    },
    {
      "cell_type": "code",
      "metadata": {
        "colab": {
          "base_uri": "https://localhost:8080/"
        },
        "id": "GTCX0naXXOJF",
        "outputId": "4f2d5b52-c6f1-4bc4-cadd-5efa0dd4b190"
      },
      "source": [
        "from random import randint\n",
        "\n",
        "EASY_LEVEL_TURNS = 10\n",
        "HARD_LEVEL_TURNS = 5\n",
        "\n",
        "#Function to check user's guess against actual answer.\n",
        "def check_answer(guess, answer, turns):\n",
        "  \"\"\"checks answer against guess. Returns the number of turns remaining.\"\"\"\n",
        "  if guess > answer:\n",
        "    print(\"Too high.\")\n",
        "    return turns - 1\n",
        "  elif guess < answer:\n",
        "    print(\"Too low.\")\n",
        "    return turns - 1\n",
        "  else:\n",
        "    print(f\"You got it! The answer was {answer}.\")\n",
        "\n",
        "#Make function to set difficulty.\n",
        "def set_difficulty():\n",
        "  level = input(\"Choose a difficulty. Type 'easy' or 'hard': \")\n",
        "  if level == \"easy\":\n",
        "    return EASY_LEVEL_TURNS\n",
        "  else:\n",
        "    return HARD_LEVEL_TURNS\n",
        "\n",
        "def game():\n",
        "  print(logo)\n",
        "  #Choosing a random number between 1 and 100.\n",
        "  print(\"Welcome to the Number Guessing Game!\")\n",
        "  print(\"I'm thinking of a number between 1 and 100.\")\n",
        "  answer = randint(1, 100)\n",
        "  print(f\"Pssst, the correct answer is {answer}\") \n",
        "\n",
        "  turns = set_difficulty()\n",
        "  #Repeat the guessing functionality if they get it wrong.\n",
        "  guess = 0\n",
        "  while guess != answer:\n",
        "    print(f\"You have {turns} attempts remaining to guess the number.\")\n",
        "\n",
        "    #Let the user guess a number.\n",
        "    guess = int(input(\"Make a guess: \"))\n",
        "\n",
        "    #Track the number of turns and reduce by 1 if they get it wrong.\n",
        "    turns = check_answer(guess, answer, turns)\n",
        "    if turns == 0:\n",
        "      print(\"You've run out of guesses, you lose.\")\n",
        "      return\n",
        "    elif guess != answer:\n",
        "      print(\"Guess again.\")\n",
        "\n",
        "\n",
        "game()"
      ],
      "execution_count": 13,
      "outputs": [
        {
          "output_type": "stream",
          "name": "stdout",
          "text": [
            "  /$$$$$$                                         /$$                                                                      \n",
            " /$$__  $$                                       |__/                                                                      \n",
            "| $$  \\__/ /$$   /$$  /$$$$$$   /$$$$$$$ /$$$$$$$ /$$ /$$$$$$$   /$$$$$$         /$$$$$$   /$$$$$$  /$$$$$$/$$$$   /$$$$$$ \n",
            "| $$ /$$$$| $$  | $$ /$$__  $$ /$$_____//$$_____/| $$| $$__  $$ /$$__  $$       /$$__  $$ |____  $$| $$_  $$_  $$ /$$__  $$\n",
            "| $$|_  $$| $$  | $$| $$$$$$$$|  $$$$$$|  $$$$$$ | $$| $$  \\ $$| $$  \\ $$      | $$  \\ $$  /$$$$$$$| $$ \\ $$ \\ $$| $$$$$$$$\n",
            "| $$  \\ $$| $$  | $$| $$_____/ \\____  $$\\____  $$| $$| $$  | $$| $$  | $$      | $$  | $$ /$$__  $$| $$ | $$ | $$| $$_____/\n",
            "|  $$$$$$/|  $$$$$$/|  $$$$$$$ /$$$$$$$//$$$$$$$/| $$| $$  | $$|  $$$$$$$      |  $$$$$$$|  $$$$$$$| $$ | $$ | $$|  $$$$$$$\n",
            " \\______/  \\______/  \\_______/|_______/|_______/ |__/|__/  |__/ \\____  $$       \\____  $$ \\_______/|__/ |__/ |__/ \\_______/\n",
            "                                                                /$$  \\ $$       /$$  \\ $$                                  \n",
            "                                                               |  $$$$$$/      |  $$$$$$/                                  \n",
            "                                                                \\______/        \\______/                                   \n",
            "Welcome to the Number Guessing Game!\n",
            "I'm thinking of a number between 1 and 100.\n",
            "Pssst, the correct answer is 72\n",
            "Choose a difficulty. Type 'easy' or 'hard': easy\n",
            "You have 10 attempts remaining to guess the number.\n",
            "Make a guess: 72\n",
            "You got it! The answer was 72.\n"
          ]
        }
      ]
    },
    {
      "cell_type": "code",
      "metadata": {
        "id": "817DloL3X8y1"
      },
      "source": [
        ""
      ],
      "execution_count": null,
      "outputs": []
    }
  ]
}