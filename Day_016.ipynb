{
  "nbformat": 4,
  "nbformat_minor": 0,
  "metadata": {
    "colab": {
      "name": "Day-016.ipynb",
      "provenance": [],
      "authorship_tag": "ABX9TyNsBq03CTvwFVgxAo/3Hrqt",
      "include_colab_link": true
    },
    "kernelspec": {
      "name": "python3",
      "display_name": "Python 3"
    },
    "language_info": {
      "name": "python"
    }
  },
  "cells": [
    {
      "cell_type": "markdown",
      "metadata": {
        "id": "view-in-github",
        "colab_type": "text"
      },
      "source": [
        "<a href=\"https://colab.research.google.com/github/Mustak-Ahamed-Ashik/100-days-of-Python-Code/blob/main/Day_016.ipynb\" target=\"_parent\"><img src=\"https://colab.research.google.com/assets/colab-badge.svg\" alt=\"Open In Colab\"/></a>"
      ]
    },
    {
      "cell_type": "markdown",
      "source": [
        "#Introduction to OOP"
      ],
      "metadata": {
        "id": "DlWpYBMrlCP3"
      }
    },
    {
      "cell_type": "markdown",
      "source": [
        "###Main basics is that a whole project is broken to several parts"
      ],
      "metadata": {
        "id": "r7yqii9tlIgr"
      }
    },
    {
      "cell_type": "markdown",
      "source": [
        "#Goal of OOP\n",
        "\n",
        "i) Specific part of the problem for specific developer or programmar\n",
        "\n",
        "ii) Reusable by one another"
      ],
      "metadata": {
        "id": "75_EpzaKlX1n"
      }
    },
    {
      "cell_type": "markdown",
      "source": [
        "#How to use OOP\n",
        "i) What module has (inputs) / have things\n",
        "\n",
        "ii) What module does (do things)\n",
        "\n",
        "Togetherly both part is called as object.\n",
        "\n",
        "#Object \n",
        "Object is a way of combining some piece of data and some functionality all together in the same things.\n",
        "\n",
        "#Class: \n",
        "Class creates a user-defined data structure, which holds its own data members and member functions, which can be accessed and used by creating an instance of that class. A class is like a blueprint for an object.\n",
        "\n",
        "waiter:\n",
        "\n",
        "        Ashik\n",
        "        Bashik\n",
        "\n",
        "Here waiter is a class and Ashik, Bashik follow his command.\n",
        "\n",
        "###Constructing Objects: \n",
        "Car = CarBlueprint()\n",
        "\n",
        "here Car is an object\n",
        "\n",
        "CarBlueprint() is a class\n",
        "\n",
        "Car.speed\n",
        "\n",
        "Car is an object and speed is an attribute assign to the class.\n",
        "\n",
        "##Another real example:\n",
        "from turtle import Turtle, Screen\n",
        "\n",
        "timmy = Turtle()\n",
        "\n",
        "my_screen = Screen()\n",
        "\n",
        "my_screen.canvheight\n",
        "\n",
        "my_screen.exitonclick()\n",
        "\n",
        "timmy is an object\n",
        "\n",
        "Turtle() is a class\n",
        "\n",
        "Canvheight is an attribute. Default canvas height for turtle window is 300 x 300 px"
      ],
      "metadata": {
        "id": "lsrskNWSlr_-"
      }
    },
    {
      "cell_type": "code",
      "metadata": {
        "id": "mVbPs7b7mRt3"
      },
      "source": [
        "from turtle import Turtle, Screen"
      ],
      "execution_count": null,
      "outputs": []
    },
    {
      "cell_type": "code",
      "metadata": {
        "id": "lWgdbcQJm5Or"
      },
      "source": [
        "from turtle import *\n",
        "color('red', 'yellow')\n",
        "begin_fill()\n",
        "while True:\n",
        "    forward(200)\n",
        "    left(170)\n",
        "    if abs(pos()) < 1:\n",
        "        break\n",
        "end_fill()\n",
        "done()"
      ],
      "execution_count": null,
      "outputs": []
    },
    {
      "cell_type": "markdown",
      "source": [
        "#main.py\n",
        "from menu import Menu\n",
        "from coffee_maker import CoffeeMaker\n",
        "from money_machine import MoneyMachine\n",
        "\n",
        "money_machine = MoneyMachine()\n",
        "coffee_maker = CoffeeMaker()\n",
        "menu = Menu()\n",
        "\n",
        "is_on = True\n",
        "\n",
        "while is_on:\n",
        "  options = menu.get_items()\n",
        "    choice = input(f\"What would you like? ({options}): \")\n",
        "    if choice == \"off\":\n",
        "        is_on = False\n",
        "    elif choice == \"report\":\n",
        "        coffee_maker.report()\n",
        "        money_machine.report()\n",
        "    else:\n",
        "        drink = menu.find_drink(choice)\n",
        "        \n",
        "        if coffee_maker.is_resource_sufficient(drink) and money_machine.make_payment(drink.cost):\n",
        "          coffee_maker.make_coffee(drink)\n"
      ],
      "metadata": {
        "id": "RALb-cdimO92"
      }
    },
    {
      "cell_type": "markdown",
      "source": [
        "##coffee_maker.py\n",
        "class CoffeeMaker:\n",
        "    \"\"\"Models the machine that makes the coffee\"\"\"\n",
        "    def __init__(self):\n",
        "        self.resources = {\n",
        "            \"water\": 300,\n",
        "            \"milk\": 200,\n",
        "            \"coffee\": 100,\n",
        "        }\n",
        "\n",
        "    def report(self):\n",
        "        \"\"\"Prints a report of all resources.\"\"\"\n",
        "        print(f\"Water: {self.resources['water']}ml\")\n",
        "        print(f\"Milk: {self.resources['milk']}ml\")\n",
        "        print(f\"Coffee: {self.resources['coffee']}g\")\n",
        "\n",
        "    def is_resource_sufficient(self, drink):\n",
        "        \"\"\"Returns True when order can be made, False if ingredients are insufficient.\"\"\"\n",
        "        can_make = True\n",
        "        for item in drink.ingredients:\n",
        "            if drink.ingredients[item] > self.resources[item]:\n",
        "                print(f\"Sorry there is not enough {item}.\")\n",
        "                can_make = False\n",
        "        return can_make\n",
        "\n",
        "    def make_coffee(self, order):\n",
        "        \"\"\"Deducts the required ingredients from the resources.\"\"\"\n",
        "        for item in order.ingredients:\n",
        "            self.resources[item] -= order.ingredients[item]\n",
        "        print(f\"Here is your {order.name} ☕️. Enjoy!\")\n"
      ],
      "metadata": {
        "id": "9EHK8Jg0mFo7"
      }
    },
    {
      "cell_type": "markdown",
      "source": [
        "##menu.py\n",
        "class MenuItem:\n",
        "    \"\"\"Models each Menu Item.\"\"\"\n",
        "    def __init__(self, name, water, milk, coffee, cost):\n",
        "        self.name = name\n",
        "        self.cost = cost\n",
        "        self.ingredients = {\n",
        "            \"water\": water,\n",
        "            \"milk\": milk,\n",
        "            \"coffee\": coffee\n",
        "        }\n",
        "\n",
        "\n",
        "class Menu:\n",
        "    \"\"\"Models the Menu with drinks.\"\"\"\n",
        "    def __init__(self):\n",
        "        self.menu = [\n",
        "            MenuItem(name=\"latte\", water=200, milk=150, coffee=24, cost=2.5),\n",
        "            MenuItem(name=\"espresso\", water=50, milk=0, coffee=18, cost=1.5),\n",
        "            MenuItem(name=\"cappuccino\", water=250, milk=50, coffee=24, cost=3),\n",
        "        ]\n",
        "\n",
        "    def get_items(self):\n",
        "        \"\"\"Returns all the names of the available menu items\"\"\"\n",
        "        options = \"\"\n",
        "        for item in self.menu:\n",
        "            options += f\"{item.name}/\"\n",
        "        return options\n",
        "\n",
        "    def find_drink(self, order_name):\n",
        "        \"\"\"Searches the menu for a particular drink by name. Returns that item if it exists, otherwise returns None\"\"\"\n",
        "        for item in self.menu:\n",
        "            if item.name == order_name:\n",
        "                return item\n",
        "        print(\"Sorry that item is not available.\")\n"
      ],
      "metadata": {
        "id": "xvEBXXh-l62Q"
      }
    },
    {
      "cell_type": "markdown",
      "source": [
        "##money_machine.py\n",
        "class MoneyMachine:\n",
        "\n",
        "    CURRENCY = \"$\"\n",
        "\n",
        "    COIN_VALUES = {\n",
        "        \"quarters\": 0.25,\n",
        "        \"dimes\": 0.10,\n",
        "        \"nickles\": 0.05,\n",
        "        \"pennies\": 0.01\n",
        "    }\n",
        "\n",
        "    def __init__(self):\n",
        "        self.profit = 0\n",
        "        self.money_received = 0\n",
        "\n",
        "    def report(self):\n",
        "        \"\"\"Prints the current profit\"\"\"\n",
        "        print(f\"Money: {self.CURRENCY}{self.profit}\")\n",
        "\n",
        "    def process_coins(self):\n",
        "        \"\"\"Returns the total calculated from coins inserted.\"\"\"\n",
        "        print(\"Please insert coins.\")\n",
        "        for coin in self.COIN_VALUES:\n",
        "            self.money_received += int(input(f\"How many {coin}?: \")) * self.COIN_VALUES[coin]\n",
        "        return self.money_received\n",
        "\n",
        "    def make_payment(self, cost):\n",
        "        \"\"\"Returns True when payment is accepted, or False if insufficient.\"\"\"\n",
        "        self.process_coins()\n",
        "        if self.money_received >= cost:\n",
        "            change = round(self.money_received - cost, 2)\n",
        "            print(f\"Here is {self.CURRENCY}{change} in change.\")\n",
        "            self.profit += cost\n",
        "            self.money_received = 0\n",
        "            return True\n",
        "        else:\n",
        "            print(\"Sorry that's not enough money. Money refunded.\")\n",
        "            self.money_received = 0\n",
        "            return False\n",
        "        \n"
      ],
      "metadata": {
        "id": "6p5dZP8fls7q"
      }
    }
  ]
}