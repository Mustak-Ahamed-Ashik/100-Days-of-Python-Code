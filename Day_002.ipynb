{
  "nbformat": 4,
  "nbformat_minor": 0,
  "metadata": {
    "colab": {
      "name": "Day-002.ipynb",
      "provenance": [],
      "collapsed_sections": [],
      "authorship_tag": "ABX9TyOncYv/R93L74/iGn5wTnMT",
      "include_colab_link": true
    },
    "kernelspec": {
      "name": "python3",
      "display_name": "Python 3"
    },
    "language_info": {
      "name": "python"
    }
  },
  "cells": [
    {
      "cell_type": "markdown",
      "metadata": {
        "id": "view-in-github",
        "colab_type": "text"
      },
      "source": [
        "<a href=\"https://colab.research.google.com/github/Mustak-Ahamed-Ashik/100-days-of-Python-Code/blob/main/Day_002.ipynb\" target=\"_parent\"><img src=\"https://colab.research.google.com/assets/colab-badge.svg\" alt=\"Open In Colab\"/></a>"
      ]
    },
    {
      "cell_type": "markdown",
      "metadata": {
        "id": "_W6d3ZnO-YWt"
      },
      "source": [
        "#Understanding Data Types and String Manipulations"
      ]
    },
    {
      "cell_type": "markdown",
      "metadata": {
        "id": "j4dIi3D3BaSn"
      },
      "source": [
        "#Introduction"
      ]
    },
    {
      "cell_type": "code",
      "metadata": {
        "id": "CEt5Njsq1UGw",
        "colab": {
          "base_uri": "https://localhost:8080/"
        },
        "outputId": "1f27db7f-a305-483c-a43c-11528d57c674"
      },
      "source": [
        "print(\"Hello\"[0])\n",
        "print(\"Hello\"[4])\n",
        "print(\"Hello\"[-1])\n",
        "print(\"Hello\"[-5])"
      ],
      "execution_count": 2,
      "outputs": [
        {
          "output_type": "stream",
          "name": "stdout",
          "text": [
            "H\n",
            "o\n",
            "o\n",
            "H\n"
          ]
        }
      ]
    },
    {
      "cell_type": "code",
      "metadata": {
        "colab": {
          "base_uri": "https://localhost:8080/"
        },
        "id": "dSsZ1XIi-wOx",
        "outputId": "13b489a9-2ef2-482a-9bd0-04a5a732cb03"
      },
      "source": [
        "print(\"45\" +\"30\")\n",
        "print(45+30)"
      ],
      "execution_count": 4,
      "outputs": [
        {
          "output_type": "stream",
          "name": "stdout",
          "text": [
            "4530\n",
            "75\n"
          ]
        }
      ]
    },
    {
      "cell_type": "code",
      "metadata": {
        "id": "Z-Simqwv_aeo"
      },
      "source": [
        "num = 34_456\n",
        "#To easily readable we usually use 34,456 But here python it is used by ' _ '"
      ],
      "execution_count": 10,
      "outputs": []
    },
    {
      "cell_type": "code",
      "metadata": {
        "colab": {
          "base_uri": "https://localhost:8080/"
        },
        "id": "tjB9uXpD_tQA",
        "outputId": "8c9f16f1-57ea-4781-cde4-df602b4221a7"
      },
      "source": [
        "print(num)"
      ],
      "execution_count": 11,
      "outputs": [
        {
          "output_type": "stream",
          "name": "stdout",
          "text": [
            "34456\n"
          ]
        }
      ]
    },
    {
      "cell_type": "code",
      "metadata": {
        "colab": {
          "base_uri": "https://localhost:8080/"
        },
        "id": "p7694x_C_ufo",
        "outputId": "8b0cb97a-5e4b-4713-e65b-b99fc8957c9d"
      },
      "source": [
        "#Float\n",
        "pi = 3.14159\n",
        "print(pi)"
      ],
      "execution_count": 9,
      "outputs": [
        {
          "output_type": "stream",
          "name": "stdout",
          "text": [
            "3.14159\n"
          ]
        }
      ]
    },
    {
      "cell_type": "code",
      "metadata": {
        "colab": {
          "base_uri": "https://localhost:8080/"
        },
        "id": "jNr7SRraATDw",
        "outputId": "8caf29f1-2d4e-4b07-877c-7bb0c0daebdf"
      },
      "source": [
        "#Boolean\n",
        "a = bool(0)\n",
        "print(a)"
      ],
      "execution_count": 14,
      "outputs": [
        {
          "output_type": "stream",
          "name": "stdout",
          "text": [
            "False\n"
          ]
        }
      ]
    },
    {
      "cell_type": "code",
      "metadata": {
        "colab": {
          "base_uri": "https://localhost:8080/"
        },
        "id": "7DvETv4OAcf3",
        "outputId": "91d92289-1b15-4719-d5c0-42f57667230a"
      },
      "source": [
        "street_name = \"Abbey Road\"\n",
        "print(street_name[4] + street_name[7])"
      ],
      "execution_count": 15,
      "outputs": [
        {
          "output_type": "stream",
          "name": "stdout",
          "text": [
            "yo\n"
          ]
        }
      ]
    },
    {
      "cell_type": "markdown",
      "metadata": {
        "id": "eZRi_7BgBjLn"
      },
      "source": [
        "#Type Error, Type Checking and Type conversion"
      ]
    },
    {
      "cell_type": "code",
      "metadata": {
        "colab": {
          "base_uri": "https://localhost:8080/",
          "height": 197
        },
        "id": "MH0x0X9vBsIx",
        "outputId": "611d2311-833b-4746-91c1-f6a6ec59030b"
      },
      "source": [
        "length = len(input('Enter Your name '))\n",
        "print('Your name has '+ length + ' characters')"
      ],
      "execution_count": 24,
      "outputs": [
        {
          "name": "stdout",
          "output_type": "stream",
          "text": [
            "Enter Your name ashik\n"
          ]
        },
        {
          "output_type": "error",
          "ename": "TypeError",
          "evalue": "ignored",
          "traceback": [
            "\u001b[0;31m---------------------------------------------------------------------------\u001b[0m",
            "\u001b[0;31mTypeError\u001b[0m                                 Traceback (most recent call last)",
            "\u001b[0;32m<ipython-input-24-31709d1ba3bc>\u001b[0m in \u001b[0;36m<module>\u001b[0;34m()\u001b[0m\n\u001b[1;32m      1\u001b[0m \u001b[0mlength\u001b[0m \u001b[0;34m=\u001b[0m \u001b[0mlen\u001b[0m\u001b[0;34m(\u001b[0m\u001b[0minput\u001b[0m\u001b[0;34m(\u001b[0m\u001b[0;34m'Enter Your name '\u001b[0m\u001b[0;34m)\u001b[0m\u001b[0;34m)\u001b[0m\u001b[0;34m\u001b[0m\u001b[0;34m\u001b[0m\u001b[0m\n\u001b[0;32m----> 2\u001b[0;31m \u001b[0mprint\u001b[0m\u001b[0;34m(\u001b[0m\u001b[0;34m'Your name has '\u001b[0m\u001b[0;34m+\u001b[0m \u001b[0mlength\u001b[0m \u001b[0;34m+\u001b[0m \u001b[0;34m' characters'\u001b[0m\u001b[0;34m)\u001b[0m\u001b[0;34m\u001b[0m\u001b[0;34m\u001b[0m\u001b[0m\n\u001b[0m",
            "\u001b[0;31mTypeError\u001b[0m: can only concatenate str (not \"int\") to str"
          ]
        }
      ]
    },
    {
      "cell_type": "code",
      "metadata": {
        "id": "0OW1t_NECd4w"
      },
      "source": [
        "#Here we see an error.This is due to concatenation is only support for string variables.can only concatenate str (not \"int\") to str"
      ],
      "execution_count": 25,
      "outputs": []
    },
    {
      "cell_type": "code",
      "metadata": {
        "colab": {
          "base_uri": "https://localhost:8080/"
        },
        "id": "J5C-9JKLC-vA",
        "outputId": "c4378b9d-fb05-4787-8b32-2c495ae0abc2"
      },
      "source": [
        "print(type(len(input('Enter Your name '))))"
      ],
      "execution_count": 26,
      "outputs": [
        {
          "output_type": "stream",
          "name": "stdout",
          "text": [
            "Enter Your name ashik\n",
            "<class 'int'>\n"
          ]
        }
      ]
    },
    {
      "cell_type": "markdown",
      "metadata": {
        "id": "l0rqiAuGDpdW"
      },
      "source": [
        "#Type conversion or Type casting"
      ]
    },
    {
      "cell_type": "code",
      "metadata": {
        "colab": {
          "base_uri": "https://localhost:8080/"
        },
        "id": "bRDwCrCvDa1m",
        "outputId": "88edf526-a453-4dc1-a6e2-0fbfe01bef1e"
      },
      "source": [
        "length = len(input('Enter Your name '))\n",
        "length = str(length)\n",
        "print('Your name has '+ length + ' characters')"
      ],
      "execution_count": 27,
      "outputs": [
        {
          "output_type": "stream",
          "name": "stdout",
          "text": [
            "Enter Your name ashik\n",
            "Your name has 5 characters\n"
          ]
        }
      ]
    },
    {
      "cell_type": "code",
      "metadata": {
        "colab": {
          "base_uri": "https://localhost:8080/"
        },
        "id": "YMgh4vHFEBDm",
        "outputId": "6e514215-a90f-4049-9511-778055f6c497"
      },
      "source": [
        "a = 123\n",
        "print(type(a))"
      ],
      "execution_count": 28,
      "outputs": [
        {
          "output_type": "stream",
          "name": "stdout",
          "text": [
            "<class 'int'>\n"
          ]
        }
      ]
    },
    {
      "cell_type": "code",
      "metadata": {
        "colab": {
          "base_uri": "https://localhost:8080/"
        },
        "id": "Ipj_BLwzEZ02",
        "outputId": "a0ffee0a-ba6f-457c-ca92-2d65694502c8"
      },
      "source": [
        "a = float(123)\n",
        "print(type(a))"
      ],
      "execution_count": 29,
      "outputs": [
        {
          "output_type": "stream",
          "name": "stdout",
          "text": [
            "<class 'float'>\n"
          ]
        }
      ]
    },
    {
      "cell_type": "code",
      "metadata": {
        "colab": {
          "base_uri": "https://localhost:8080/"
        },
        "id": "ih-DADurEe1W",
        "outputId": "6f954d88-b6e1-47f6-cde6-d06ad2900add"
      },
      "source": [
        "print(str(70)+str(100))"
      ],
      "execution_count": 30,
      "outputs": [
        {
          "output_type": "stream",
          "name": "stdout",
          "text": [
            "70100\n"
          ]
        }
      ]
    },
    {
      "cell_type": "markdown",
      "metadata": {
        "id": "otKRrPr5E9aG"
      },
      "source": [
        "#Challenge 1"
      ]
    },
    {
      "cell_type": "markdown",
      "metadata": {
        "id": "bRBvA3TzF7yx"
      },
      "source": [
        " Instructions\n",
        "\n",
        "Write a program that adds the digits in a 2 digit number. e.g. if the input was 35, then the output should be 3 + 5 = 8\n",
        "\n",
        "**Warning.** Do not change the code on lines 1-3. Your program should work for different inputs. e.g. any two-digit number.\n",
        "\n",
        "Example Input\n",
        "\n",
        "```\n",
        "39\n",
        "```\n",
        "\n",
        "Example Output\n",
        "\n",
        "3 + 9 = 12\n",
        "\n",
        "```\n",
        "12\n",
        "```\n",
        "\n",
        "e.g. When you hit **run**, this is what should happen:  \n",
        "\n",
        "![](https://cdn.fs.teachablecdn.com/iyJTPDDRRJCB1gmdVQMS)\n",
        "\n",
        "Hint\n",
        "\n",
        "1. Try to find out the data type of two_digit_number.\n",
        "2. Think about what you learnt about subscripting.\n",
        "3. Think about type conversion."
      ]
    },
    {
      "cell_type": "code",
      "metadata": {
        "colab": {
          "base_uri": "https://localhost:8080/"
        },
        "id": "2Tg4wK0EEpMn",
        "outputId": "e5f979e7-07c5-4edf-b1ae-ec855b1306ca"
      },
      "source": [
        "# 🚨 Don't change the code below 👇\n",
        "two_digit_number = input(\"Type a two digit number: \")\n",
        "# 🚨 Don't change the code above 👆\n",
        "\n",
        "####################################\n",
        "#Write your code below this line 👇\n",
        "print(int(two_digit_number[0]) + int(two_digit_number[1]))"
      ],
      "execution_count": 31,
      "outputs": [
        {
          "output_type": "stream",
          "name": "stdout",
          "text": [
            "Type a two digit number: 39\n",
            "12\n"
          ]
        }
      ]
    },
    {
      "cell_type": "markdown",
      "metadata": {
        "id": "60vHLCYTGW_u"
      },
      "source": [
        "#Mathematical Operations"
      ]
    },
    {
      "cell_type": "code",
      "metadata": {
        "colab": {
          "base_uri": "https://localhost:8080/"
        },
        "id": "Xf6gR8QWFsDu",
        "outputId": "83b8d2d0-4e41-4c21-e806-ca67b39c6fcd"
      },
      "source": [
        "print(4+5)\n",
        "print(9-4)\n",
        "print(4*6)\n",
        "print(2**3)"
      ],
      "execution_count": 36,
      "outputs": [
        {
          "output_type": "stream",
          "name": "stdout",
          "text": [
            "9\n",
            "5\n",
            "24\n",
            "8\n"
          ]
        }
      ]
    },
    {
      "cell_type": "code",
      "metadata": {
        "colab": {
          "base_uri": "https://localhost:8080/"
        },
        "id": "rp0AJc1xGyvN",
        "outputId": "14f2e49b-633c-4a1b-89a7-46f09769a73a"
      },
      "source": [
        "# A little bit tricky\n",
        "print(6/2)"
      ],
      "execution_count": 33,
      "outputs": [
        {
          "output_type": "stream",
          "name": "stdout",
          "text": [
            "3.0\n"
          ]
        }
      ]
    },
    {
      "cell_type": "code",
      "metadata": {
        "colab": {
          "base_uri": "https://localhost:8080/"
        },
        "id": "yit4SJqkG4Ks",
        "outputId": "d9b58ee6-2e51-41d8-d5e3-5ce1274994d0"
      },
      "source": [
        "type(6/2)"
      ],
      "execution_count": 34,
      "outputs": [
        {
          "output_type": "execute_result",
          "data": {
            "text/plain": [
              "float"
            ]
          },
          "metadata": {},
          "execution_count": 34
        }
      ]
    },
    {
      "cell_type": "code",
      "metadata": {
        "colab": {
          "base_uri": "https://localhost:8080/"
        },
        "id": "BdbKdIAVG801",
        "outputId": "bceedf06-d3bf-4288-fe91-9ee5f64ea99d"
      },
      "source": [
        "print(type(5+4.0))"
      ],
      "execution_count": 38,
      "outputs": [
        {
          "output_type": "stream",
          "name": "stdout",
          "text": [
            "<class 'float'>\n"
          ]
        }
      ]
    },
    {
      "cell_type": "code",
      "metadata": {
        "colab": {
          "base_uri": "https://localhost:8080/"
        },
        "id": "E_NTdsSWHwa9",
        "outputId": "27b38538-22af-4ff2-dafe-9cd4202061b5"
      },
      "source": [
        "print(45.245+6/2)"
      ],
      "execution_count": 41,
      "outputs": [
        {
          "output_type": "stream",
          "name": "stdout",
          "text": [
            "48.245\n"
          ]
        }
      ]
    },
    {
      "cell_type": "code",
      "metadata": {
        "id": "b4g8NWBVH7p0"
      },
      "source": [
        ""
      ],
      "execution_count": null,
      "outputs": []
    },
    {
      "cell_type": "markdown",
      "metadata": {
        "id": "gRyu3KmCIHq-"
      },
      "source": [
        "Operators precedence\n",
        "```\n",
        "PEMDAS\n",
        "P = Parenethesis\n",
        "E = Exponents\n",
        "M = Multiplications\n",
        "D = Division\n",
        "A = Addition\n",
        "S = Subtraction\n",
        "```"
      ]
    },
    {
      "cell_type": "code",
      "metadata": {
        "colab": {
          "base_uri": "https://localhost:8080/"
        },
        "id": "oPUW_mfKIRpF",
        "outputId": "b5406d3f-4759-40ba-b423-0d4fd438edf6"
      },
      "source": [
        "print(5 * 20 / 4 + 4 - 5)"
      ],
      "execution_count": 43,
      "outputs": [
        {
          "output_type": "stream",
          "name": "stdout",
          "text": [
            "24.0\n"
          ]
        }
      ]
    },
    {
      "cell_type": "markdown",
      "metadata": {
        "id": "a0DvjMbNMQQ6"
      },
      "source": [
        "#Challenge 2\n",
        "Instructions :\n",
        "\n",
        "Write a program that calculates the Body Mass Index (BMI) from a user's weight and height.\n",
        "\n",
        "The BMI is a measure of some's weight taking into account their height. e.g. If a tall person and a short person both weigh the same amount, the short person is usually more overweight.\n",
        "\n",
        "The BMI is calculated by dividing a person's weight (in kg) by the square of their height (in m):\n",
        "\n",
        "![](https://cdn.fs.teachablecdn.com/jKHjnLrNQjqzdz3MTMyv)\n",
        "\n",
        "**Warning** you should convert the result to a whole number. \n",
        "\n",
        "Example Input\n",
        "\n",
        "```\n",
        "weight = 80\n",
        "```\n",
        "\n",
        "```\n",
        "height = 1.75\n",
        "```\n",
        "\n",
        "Example Output\n",
        "\n",
        "80 ÷ (1.75 x 1.75) =  26.122448979591837\n",
        "\n",
        "```\n",
        "26\n",
        "```\n",
        "\n",
        "e.g. When you hit **run**, this is what should happen:  \n",
        "\n",
        "![](https://cdn.fs.teachablecdn.com/wmjVjddeSmGj0QVtOUrE)\n",
        "\n",
        "Hint\n",
        "\n",
        "1. Check the data type of the inputs.\n",
        "2. Try to use the exponent operator in your code.\n",
        "3. Remember PEMDAS.\n",
        "4. Remember to convert your result to a whole number (int). "
      ]
    },
    {
      "cell_type": "code",
      "metadata": {
        "colab": {
          "base_uri": "https://localhost:8080/"
        },
        "id": "Z92Yl7L7KPSE",
        "outputId": "3b32741b-cbdb-44b0-e5f7-c97f6f7b1310"
      },
      "source": [
        "# 🚨 Don't change the code below 👇\n",
        "height = input(\"enter your height in m: \")\n",
        "weight = input(\"enter your weight in kg: \")\n",
        "# 🚨 Don't change the code above 👆\n",
        "\n",
        "#Write your code below this line 👇\n",
        "print(int((float(weight)/(float(height)**2))))"
      ],
      "execution_count": 49,
      "outputs": [
        {
          "output_type": "stream",
          "name": "stdout",
          "text": [
            "enter your height in m: 1.75\n",
            "enter your weight in kg: 80\n",
            "26\n"
          ]
        }
      ]
    },
    {
      "cell_type": "markdown",
      "metadata": {
        "id": "oFp-JCj4REiA"
      },
      "source": [
        "#Number Manipulations and f string"
      ]
    },
    {
      "cell_type": "code",
      "metadata": {
        "colab": {
          "base_uri": "https://localhost:8080/"
        },
        "id": "vqWGFtHALlhk",
        "outputId": "43efc110-268c-4cfb-c3a1-2abf87e65d77"
      },
      "source": [
        "print(round(8 / 3 , 2))"
      ],
      "execution_count": 52,
      "outputs": [
        {
          "output_type": "stream",
          "name": "stdout",
          "text": [
            "2.67\n"
          ]
        }
      ]
    },
    {
      "cell_type": "code",
      "metadata": {
        "colab": {
          "base_uri": "https://localhost:8080/"
        },
        "id": "nQRwaGgVROR6",
        "outputId": "746a95e7-43cb-4b79-ba14-d04dd0d2aa79"
      },
      "source": [
        "print(8 // 3)"
      ],
      "execution_count": 53,
      "outputs": [
        {
          "output_type": "stream",
          "name": "stdout",
          "text": [
            "2\n"
          ]
        }
      ]
    },
    {
      "cell_type": "code",
      "metadata": {
        "colab": {
          "base_uri": "https://localhost:8080/"
        },
        "id": "oEOxTg3gRdDx",
        "outputId": "5fad1376-5efc-49bd-c65f-6f7dcf97df3a"
      },
      "source": [
        "result = 8 / 2\n",
        "result /= 2\n",
        "print(result)"
      ],
      "execution_count": 55,
      "outputs": [
        {
          "output_type": "stream",
          "name": "stdout",
          "text": [
            "2.0\n"
          ]
        }
      ]
    },
    {
      "cell_type": "code",
      "metadata": {
        "colab": {
          "base_uri": "https://localhost:8080/"
        },
        "id": "zrsL0g1QRxEp",
        "outputId": "862e963e-0005-4e0d-89b8-4d0d170aa6a6"
      },
      "source": [
        "result = 3.7\n",
        "subject = 5\n",
        "print(f\"Your result is {result} Your subject number is {subject}\")"
      ],
      "execution_count": 57,
      "outputs": [
        {
          "output_type": "stream",
          "name": "stdout",
          "text": [
            "Your result is 3.7 Your subject number is 5\n"
          ]
        }
      ]
    },
    {
      "cell_type": "markdown",
      "metadata": {
        "id": "vy_9Ogsz1g-l"
      },
      "source": [
        "# Challenge 3"
      ]
    },
    {
      "cell_type": "markdown",
      "metadata": {
        "id": "fS0_f8hf1qq5"
      },
      "source": [
        "Instructions :\n",
        "\n",
        "I was reading this article by Tim Urban - Your Life in Weeks and realised just how little time we actually have.\n",
        "\n",
        "Create a program using maths and f-Strings that tells us how many days, weeks, months we have left if we live until 90 years old. \n",
        "\n",
        "It will take your current age as the input and output a message with our time left in this format:\n",
        "\n",
        "> You have x days, y weeks, and z months left. \n",
        "\n",
        "Where x, y and z are replaced with the actual calculated numbers. \n",
        "\n",
        " \n",
        "\n",
        "**Warning** your output should match the Example Output format exactly, even the positions of the commas and full stops. \n",
        "\n",
        " Example Input\n",
        "\n",
        "```\n",
        "56\n",
        "```\n",
        "\n",
        "Example Output\n",
        "\n",
        "```\n",
        "You have 12410 days, 1768 weeks, and 408 months left.\n",
        "```\n",
        "\n",
        "e.g. When you hit **run**, this is what should happen:  \n",
        "\n",
        " \n",
        "![](https://cdn.fs.teachablecdn.com/RjqBViZQpyVTv7XY6cfA)\n",
        " \n",
        "\n",
        "Hint\n",
        "\n",
        "1. There are 365 days in a year, 52 weeks in a year and 12 months in a year.\n",
        "2. Try copying the example output into your code and replace the relevant parts so that the sentence is formated the same way."
      ]
    },
    {
      "cell_type": "code",
      "metadata": {
        "colab": {
          "base_uri": "https://localhost:8080/"
        },
        "id": "TRetshIMU0zb",
        "outputId": "28813dd3-37bd-4c9e-e47e-a4f312df84e7"
      },
      "source": [
        "# 🚨 Don't change the code below 👇\n",
        "age = input(\"What is your current age?\")\n",
        "# 🚨 Don't change the code above 👆\n",
        "\n",
        "#Write your code below this line 👇\n",
        "days = int((90*365)-int(age)*365)\n",
        "weeks = int((90*52)-int(age)*52)\n",
        "months = int((90*12)-int(age)*12)\n",
        "print(f\"You have {days} days, {weeks} weeks, and {months} months left.\")"
      ],
      "execution_count": 7,
      "outputs": [
        {
          "output_type": "stream",
          "name": "stdout",
          "text": [
            "What is your current age?56\n",
            "You have 12410 days, 1768 weeks, and 408 months left.\n"
          ]
        }
      ]
    },
    {
      "cell_type": "code",
      "metadata": {
        "colab": {
          "base_uri": "https://localhost:8080/"
        },
        "id": "g2nqqdM82FYf",
        "outputId": "1c201fc6-cc64-40de-fa28-7233089d55b4"
      },
      "source": [
        "print(6 + 4 / 2 - (1 * 2))\n",
        "a = int(\"5\") / int(2.7)\n",
        "print(type(a))"
      ],
      "execution_count": 10,
      "outputs": [
        {
          "output_type": "stream",
          "name": "stdout",
          "text": [
            "6.0\n",
            "<class 'float'>\n"
          ]
        }
      ]
    },
    {
      "cell_type": "markdown",
      "metadata": {
        "id": "btnD5b9r3mRp"
      },
      "source": [
        "#Project"
      ]
    },
    {
      "cell_type": "code",
      "metadata": {
        "id": "NOQInuAT2YZt"
      },
      "source": [
        "#If the bill was $150.00, split between 5 people, with 12% tip. \n",
        "#Each person should pay (150.00 / 5) * 1.12 = 33.6\n",
        "#Format the result to 2 decimal places = 33.60\n",
        "#Tip: There are 2 ways to round a number. You might have to do some Googling to solve this.💪\n",
        "#HINT 1: https://www.google.com/search?q=how+to+round+number+to+2+decimal+places+python&oq=how+to+round+number+to+2+decimal\n",
        "#HINT 2: https://www.kite.com/python/answers/how-to-limit-a-float-to-two-decimal-places-in-python"
      ],
      "execution_count": 11,
      "outputs": []
    },
    {
      "cell_type": "code",
      "metadata": {
        "colab": {
          "base_uri": "https://localhost:8080/"
        },
        "id": "IirvwNcD3vNF",
        "outputId": "f8359366-4fea-42f4-9172-36694aa9d2eb"
      },
      "source": [
        "print(\"Welcome to the tip calculator.\")\n",
        "total = float(input(\"What was the total bill? \"))\n",
        "per = int(input(\"What percentage tip would you like to give? 10, 12 or 15? \"))\n",
        "people = int(input(\"How many people to split the bill? \"))\n",
        "pay = round(((total + (total * per) / 100) / people), 2)\n",
        "print(f\"Each person should pay: {pay}\")"
      ],
      "execution_count": 12,
      "outputs": [
        {
          "output_type": "stream",
          "name": "stdout",
          "text": [
            "Welcome to the tip calculator.\n",
            "What was the total bill? 124.56\n",
            "What percentage tip would you like to give? 10, 12 or 15? 12\n",
            "How many people to split the bill? 7\n",
            "Each person should pay: 19.93\n"
          ]
        }
      ]
    },
    {
      "cell_type": "code",
      "metadata": {
        "id": "1WGl_mxS5hRN"
      },
      "source": [
        ""
      ],
      "execution_count": null,
      "outputs": []
    }
  ]
}